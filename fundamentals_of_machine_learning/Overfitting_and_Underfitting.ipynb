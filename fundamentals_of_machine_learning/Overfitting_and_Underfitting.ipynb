{
 "cells": [
  {
   "cell_type": "markdown",
   "metadata": {},
   "source": [
    "# Defining the problem"
   ]
  },
  {
   "cell_type": "markdown",
   "metadata": {},
   "source": [
    "Here i want to observe the overfitting patter and the impact of various algorithm to the solution to this problem. I am wonna work with the IMDB dataset in keras"
   ]
  },
  {
   "cell_type": "markdown",
   "metadata": {},
   "source": [
    "# Loading the data"
   ]
  },
  {
   "cell_type": "code",
   "execution_count": 1,
   "metadata": {},
   "outputs": [
    {
     "name": "stderr",
     "output_type": "stream",
     "text": [
      "Using TensorFlow backend.\n"
     ]
    }
   ],
   "source": [
    "from keras.datasets import imdb\n",
    "\n",
    "(train_data, train_labels), (test_data, test_labels) = imdb.load_data(num_words=10000)"
   ]
  },
  {
   "cell_type": "markdown",
   "metadata": {},
   "source": [
    "Let's have a look at the raw data"
   ]
  },
  {
   "cell_type": "code",
   "execution_count": 2,
   "metadata": {},
   "outputs": [
    {
     "data": {
      "text/plain": [
       "[1,\n",
       " 14,\n",
       " 22,\n",
       " 16,\n",
       " 43,\n",
       " 530,\n",
       " 973,\n",
       " 1622,\n",
       " 1385,\n",
       " 65,\n",
       " 458,\n",
       " 4468,\n",
       " 66,\n",
       " 3941,\n",
       " 4,\n",
       " 173,\n",
       " 36,\n",
       " 256,\n",
       " 5,\n",
       " 25,\n",
       " 100,\n",
       " 43,\n",
       " 838,\n",
       " 112,\n",
       " 50,\n",
       " 670,\n",
       " 2,\n",
       " 9,\n",
       " 35,\n",
       " 480,\n",
       " 284,\n",
       " 5,\n",
       " 150,\n",
       " 4,\n",
       " 172,\n",
       " 112,\n",
       " 167,\n",
       " 2,\n",
       " 336,\n",
       " 385,\n",
       " 39,\n",
       " 4,\n",
       " 172,\n",
       " 4536,\n",
       " 1111,\n",
       " 17,\n",
       " 546,\n",
       " 38,\n",
       " 13,\n",
       " 447,\n",
       " 4,\n",
       " 192,\n",
       " 50,\n",
       " 16,\n",
       " 6,\n",
       " 147,\n",
       " 2025,\n",
       " 19,\n",
       " 14,\n",
       " 22,\n",
       " 4,\n",
       " 1920,\n",
       " 4613,\n",
       " 469,\n",
       " 4,\n",
       " 22,\n",
       " 71,\n",
       " 87,\n",
       " 12,\n",
       " 16,\n",
       " 43,\n",
       " 530,\n",
       " 38,\n",
       " 76,\n",
       " 15,\n",
       " 13,\n",
       " 1247,\n",
       " 4,\n",
       " 22,\n",
       " 17,\n",
       " 515,\n",
       " 17,\n",
       " 12,\n",
       " 16,\n",
       " 626,\n",
       " 18,\n",
       " 2,\n",
       " 5,\n",
       " 62,\n",
       " 386,\n",
       " 12,\n",
       " 8,\n",
       " 316,\n",
       " 8,\n",
       " 106,\n",
       " 5,\n",
       " 4,\n",
       " 2223,\n",
       " 5244,\n",
       " 16,\n",
       " 480,\n",
       " 66,\n",
       " 3785,\n",
       " 33,\n",
       " 4,\n",
       " 130,\n",
       " 12,\n",
       " 16,\n",
       " 38,\n",
       " 619,\n",
       " 5,\n",
       " 25,\n",
       " 124,\n",
       " 51,\n",
       " 36,\n",
       " 135,\n",
       " 48,\n",
       " 25,\n",
       " 1415,\n",
       " 33,\n",
       " 6,\n",
       " 22,\n",
       " 12,\n",
       " 215,\n",
       " 28,\n",
       " 77,\n",
       " 52,\n",
       " 5,\n",
       " 14,\n",
       " 407,\n",
       " 16,\n",
       " 82,\n",
       " 2,\n",
       " 8,\n",
       " 4,\n",
       " 107,\n",
       " 117,\n",
       " 5952,\n",
       " 15,\n",
       " 256,\n",
       " 4,\n",
       " 2,\n",
       " 7,\n",
       " 3766,\n",
       " 5,\n",
       " 723,\n",
       " 36,\n",
       " 71,\n",
       " 43,\n",
       " 530,\n",
       " 476,\n",
       " 26,\n",
       " 400,\n",
       " 317,\n",
       " 46,\n",
       " 7,\n",
       " 4,\n",
       " 2,\n",
       " 1029,\n",
       " 13,\n",
       " 104,\n",
       " 88,\n",
       " 4,\n",
       " 381,\n",
       " 15,\n",
       " 297,\n",
       " 98,\n",
       " 32,\n",
       " 2071,\n",
       " 56,\n",
       " 26,\n",
       " 141,\n",
       " 6,\n",
       " 194,\n",
       " 7486,\n",
       " 18,\n",
       " 4,\n",
       " 226,\n",
       " 22,\n",
       " 21,\n",
       " 134,\n",
       " 476,\n",
       " 26,\n",
       " 480,\n",
       " 5,\n",
       " 144,\n",
       " 30,\n",
       " 5535,\n",
       " 18,\n",
       " 51,\n",
       " 36,\n",
       " 28,\n",
       " 224,\n",
       " 92,\n",
       " 25,\n",
       " 104,\n",
       " 4,\n",
       " 226,\n",
       " 65,\n",
       " 16,\n",
       " 38,\n",
       " 1334,\n",
       " 88,\n",
       " 12,\n",
       " 16,\n",
       " 283,\n",
       " 5,\n",
       " 16,\n",
       " 4472,\n",
       " 113,\n",
       " 103,\n",
       " 32,\n",
       " 15,\n",
       " 16,\n",
       " 5345,\n",
       " 19,\n",
       " 178,\n",
       " 32]"
      ]
     },
     "execution_count": 2,
     "metadata": {},
     "output_type": "execute_result"
    }
   ],
   "source": [
    "train_data[0]"
   ]
  },
  {
   "cell_type": "code",
   "execution_count": 3,
   "metadata": {},
   "outputs": [
    {
     "data": {
      "text/plain": [
       "1"
      ]
     },
     "execution_count": 3,
     "metadata": {},
     "output_type": "execute_result"
    }
   ],
   "source": [
    "train_labels[0]"
   ]
  },
  {
   "cell_type": "markdown",
   "metadata": {},
   "source": [
    "Get the word index"
   ]
  },
  {
   "cell_type": "code",
   "execution_count": 4,
   "metadata": {
    "collapsed": true
   },
   "outputs": [],
   "source": [
    "word_index = imdb.get_word_index()\n",
    "# print(word_index)"
   ]
  },
  {
   "cell_type": "code",
   "execution_count": 5,
   "metadata": {
    "collapsed": true
   },
   "outputs": [],
   "source": [
    "# make the reveerse of key, value pair to use it\n",
    "reversed_word_index = dict([(value, key) for (key, value) in word_index.items()])\n",
    "# print(reversed_word_index)"
   ]
  },
  {
   "cell_type": "code",
   "execution_count": 28,
   "metadata": {
    "collapsed": true
   },
   "outputs": [],
   "source": []
  },
  {
   "cell_type": "code",
   "execution_count": 6,
   "metadata": {},
   "outputs": [
    {
     "name": "stdout",
     "output_type": "stream",
     "text": [
      "? this film was just brilliant casting location scenery story direction everyone's really suited the part they played and you could just imagine being there robert ? is an amazing actor and now the same being director ? father came from the same scottish island as myself so i loved the fact there was a real connection with this film the witty remarks throughout the film were great it was just brilliant so much that i bought the film as soon as it was released for ? and would recommend it to everyone to watch and the fly fishing was amazing really cried at the end it was so sad and you know what they say if you cry at a film it must have been good and this definitely was also ? to the two little boy's that played the ? of norman and paul they were just brilliant children are often left out of the ? list i think because the stars that play them all grown up are such a big profile for the whole film but these children are amazing and should be praised for what they have done don't you think the whole story was so lovely because it was true and was someone's life after all that was shared with us all\n"
     ]
    }
   ],
   "source": [
    "# Now decode a review to see the text\n",
    "\n",
    "decoded_review = ' '.join([reversed_word_index.get(i-3, '?') for i in train_data[0]])\n",
    "print(decoded_review)"
   ]
  },
  {
   "cell_type": "markdown",
   "metadata": {},
   "source": [
    "# Data preprocessing"
   ]
  },
  {
   "cell_type": "code",
   "execution_count": 7,
   "metadata": {},
   "outputs": [
    {
     "name": "stdout",
     "output_type": "stream",
     "text": [
      "(25000,)\n"
     ]
    }
   ],
   "source": [
    "print(train_data.shape)"
   ]
  },
  {
   "cell_type": "code",
   "execution_count": 8,
   "metadata": {},
   "outputs": [
    {
     "name": "stdout",
     "output_type": "stream",
     "text": [
      "<class 'numpy.ndarray'>\n"
     ]
    }
   ],
   "source": [
    "print(type(train_data))"
   ]
  },
  {
   "cell_type": "code",
   "execution_count": 9,
   "metadata": {},
   "outputs": [
    {
     "name": "stdout",
     "output_type": "stream",
     "text": [
      "<class 'list'>\n"
     ]
    }
   ],
   "source": [
    "print(type(train_data[0]))"
   ]
  },
  {
   "cell_type": "code",
   "execution_count": 10,
   "metadata": {},
   "outputs": [],
   "source": [
    "# Vectorize the data with one hot encoding\n",
    "\n",
    "import numpy as np\n",
    "\n",
    "def vectorize_sequences(sequences, dimension=10000):\n",
    "    results = np.zeros((len(sequences), dimension))\n",
    "    for i, sequence in enumerate(sequences):\n",
    "        results[i, sequence] = 1\n",
    "        \n",
    "    return results\n",
    "\n",
    "\n",
    "x_train = vectorize_sequences(train_data)\n",
    "x_test = vectorize_sequences(test_data)"
   ]
  },
  {
   "cell_type": "code",
   "execution_count": 11,
   "metadata": {
    "collapsed": true
   },
   "outputs": [],
   "source": [
    "# processing labels\n",
    "y_train = np.asarray(train_labels).astype('float32')\n",
    "y_test = np.asarray(test_labels).astype('float32')"
   ]
  },
  {
   "cell_type": "markdown",
   "metadata": {},
   "source": [
    "# Building the model"
   ]
  },
  {
   "cell_type": "code",
   "execution_count": 12,
   "metadata": {
    "collapsed": true
   },
   "outputs": [],
   "source": [
    "from keras import models\n",
    "from keras import layers\n",
    "\n",
    "from keras import losses\n",
    "from keras import optimizers\n",
    "from keras import metrics"
   ]
  },
  {
   "cell_type": "code",
   "execution_count": 13,
   "metadata": {
    "collapsed": true
   },
   "outputs": [],
   "source": [
    "model = models.Sequential()\n",
    "\n",
    "model.add(layers.Dense(16, activation='relu', input_shape=(10000,)))\n",
    "model.add(layers.Dense(16, activation='relu'))\n",
    "model.add(layers.Dense(1, activation='sigmoid'))"
   ]
  },
  {
   "cell_type": "code",
   "execution_count": 14,
   "metadata": {
    "collapsed": true
   },
   "outputs": [],
   "source": [
    "# compiling the model\n",
    "model.compile(optimizer=optimizers.RMSprop(lr=0.001),\n",
    "             loss=losses.binary_crossentropy,\n",
    "             metrics=[metrics.binary_accuracy])"
   ]
  },
  {
   "cell_type": "markdown",
   "metadata": {},
   "source": [
    "# Training the model"
   ]
  },
  {
   "cell_type": "code",
   "execution_count": 15,
   "metadata": {},
   "outputs": [
    {
     "name": "stdout",
     "output_type": "stream",
     "text": [
      "Train on 15000 samples, validate on 10000 samples\n",
      "Epoch 1/20\n",
      "15000/15000 [==============================] - 3s - loss: 0.5157 - binary_accuracy: 0.7894 - val_loss: 0.4008 - val_binary_accuracy: 0.8657\n",
      "Epoch 2/20\n",
      "15000/15000 [==============================] - 3s - loss: 0.3146 - binary_accuracy: 0.9028 - val_loss: 0.3260 - val_binary_accuracy: 0.8778\n",
      "Epoch 3/20\n",
      "15000/15000 [==============================] - 3s - loss: 0.2320 - binary_accuracy: 0.9246 - val_loss: 0.2808 - val_binary_accuracy: 0.8926\n",
      "Epoch 4/20\n",
      "15000/15000 [==============================] - 3s - loss: 0.1816 - binary_accuracy: 0.9427 - val_loss: 0.2730 - val_binary_accuracy: 0.8902\n",
      "Epoch 5/20\n",
      "15000/15000 [==============================] - 3s - loss: 0.1496 - binary_accuracy: 0.9515 - val_loss: 0.2780 - val_binary_accuracy: 0.8889\n",
      "Epoch 6/20\n",
      "15000/15000 [==============================] - 3s - loss: 0.1210 - binary_accuracy: 0.9629 - val_loss: 0.3229 - val_binary_accuracy: 0.8799\n",
      "Epoch 7/20\n",
      "15000/15000 [==============================] - 3s - loss: 0.1032 - binary_accuracy: 0.9691 - val_loss: 0.3043 - val_binary_accuracy: 0.8850\n",
      "Epoch 8/20\n",
      "15000/15000 [==============================] - 3s - loss: 0.0848 - binary_accuracy: 0.9759 - val_loss: 0.3361 - val_binary_accuracy: 0.8769\n",
      "Epoch 9/20\n",
      "15000/15000 [==============================] - 3s - loss: 0.0730 - binary_accuracy: 0.9805 - val_loss: 0.3592 - val_binary_accuracy: 0.8807\n",
      "Epoch 10/20\n",
      "15000/15000 [==============================] - 3s - loss: 0.0584 - binary_accuracy: 0.9859 - val_loss: 0.3721 - val_binary_accuracy: 0.8808\n",
      "Epoch 11/20\n",
      "15000/15000 [==============================] - 3s - loss: 0.0495 - binary_accuracy: 0.9881 - val_loss: 0.3976 - val_binary_accuracy: 0.8781\n",
      "Epoch 12/20\n",
      "15000/15000 [==============================] - 3s - loss: 0.0390 - binary_accuracy: 0.9921 - val_loss: 0.4397 - val_binary_accuracy: 0.8774\n",
      "Epoch 13/20\n",
      "15000/15000 [==============================] - 3s - loss: 0.0309 - binary_accuracy: 0.9944 - val_loss: 0.4536 - val_binary_accuracy: 0.8744\n",
      "Epoch 14/20\n",
      "15000/15000 [==============================] - 3s - loss: 0.0245 - binary_accuracy: 0.9958 - val_loss: 0.4809 - val_binary_accuracy: 0.8736\n",
      "Epoch 15/20\n",
      "15000/15000 [==============================] - 3s - loss: 0.0216 - binary_accuracy: 0.9961 - val_loss: 0.5344 - val_binary_accuracy: 0.8720\n",
      "Epoch 16/20\n",
      "15000/15000 [==============================] - 3s - loss: 0.0124 - binary_accuracy: 0.9993 - val_loss: 0.5440 - val_binary_accuracy: 0.8701\n",
      "Epoch 17/20\n",
      "15000/15000 [==============================] - 3s - loss: 0.0133 - binary_accuracy: 0.9982 - val_loss: 0.5799 - val_binary_accuracy: 0.8719\n",
      "Epoch 18/20\n",
      "15000/15000 [==============================] - 3s - loss: 0.0083 - binary_accuracy: 0.9996 - val_loss: 0.6087 - val_binary_accuracy: 0.8681\n",
      "Epoch 19/20\n",
      "15000/15000 [==============================] - 3s - loss: 0.0079 - binary_accuracy: 0.9991 - val_loss: 0.6437 - val_binary_accuracy: 0.8671\n",
      "Epoch 20/20\n",
      "15000/15000 [==============================] - 3s - loss: 0.0040 - binary_accuracy: 0.9999 - val_loss: 0.7062 - val_binary_accuracy: 0.8673\n"
     ]
    }
   ],
   "source": [
    "x_val = x_train[:10000]\n",
    "partial_x_train = x_train[10000:]\n",
    "\n",
    "y_val = y_train[:10000]\n",
    "partial_y_train = y_train[10000:]\n",
    "\n",
    "history = model.fit(partial_x_train, \n",
    "                    partial_y_train, \n",
    "                    epochs=20,\n",
    "                    batch_size=512,\n",
    "                    validation_data=(x_val, y_val)\n",
    "                   )"
   ]
  },
  {
   "cell_type": "code",
   "execution_count": 16,
   "metadata": {},
   "outputs": [
    {
     "name": "stdout",
     "output_type": "stream",
     "text": [
      "dict_keys(['loss', 'val_loss', 'binary_accuracy', 'val_binary_accuracy'])\n"
     ]
    }
   ],
   "source": [
    "print(history.history.keys())"
   ]
  },
  {
   "cell_type": "code",
   "execution_count": 17,
   "metadata": {},
   "outputs": [
    {
     "data": {
      "image/png": "[encoded data removed]",
      "text/plain": [
       "<matplotlib.figure.Figure at 0x1dba26109e8>"
      ]
     },
     "metadata": {},
     "output_type": "display_data"
    }
   ],
   "source": [
    "# Plotting the losses\n",
    "import matplotlib.pyplot as plt\n",
    "\n",
    "history_dict = history.history\n",
    "loss_values = history_dict['loss']\n",
    "val_loss_values = history_dict['val_loss']\n",
    "\n",
    "epochs = range(1, len(loss_values)+1)\n",
    "\n",
    "plt.plot(epochs, loss_values, 'bo', label='Training loss')\n",
    "plt.plot(epochs, val_loss_values, 'b', label='Validation loss')\n",
    "plt.title('Training and validation loss')\n",
    "plt.xlabel('Epochs')\n",
    "plt.ylabel('Loss')\n",
    "plt.legend()\n",
    "plt.show()"
   ]
  },
  {
   "cell_type": "code",
   "execution_count": 18,
   "metadata": {},
   "outputs": [
    {
     "data": {
      "image/png": "[encoded data removed]",
      "text/plain": [
       "<matplotlib.figure.Figure at 0x1dba2610400>"
      ]
     },
     "metadata": {},
     "output_type": "display_data"
    }
   ],
   "source": [
    "# plotting the accuracy\n",
    "acc_values = history_dict['binary_accuracy']\n",
    "val_acc_values = history_dict['val_binary_accuracy']\n",
    "plt.plot(epochs, acc_values, 'bo', label='Training acc')\n",
    "plt.plot(epochs, val_acc_values, 'b', label='Validation acc')\n",
    "plt.title('Training and validation accuracy')\n",
    "plt.xlabel('Epochs')\n",
    "plt.ylabel('Loss')\n",
    "plt.legend()\n",
    "plt.show()"
   ]
  },
  {
   "cell_type": "code",
   "execution_count": 19,
   "metadata": {
    "collapsed": true
   },
   "outputs": [],
   "source": [
    "# Store the original history dict\n",
    "original_val_loss_values = val_loss_values"
   ]
  },
  {
   "cell_type": "markdown",
   "metadata": {},
   "source": [
    "# Version of model with lower capacity"
   ]
  },
  {
   "cell_type": "code",
   "execution_count": 23,
   "metadata": {},
   "outputs": [
    {
     "name": "stdout",
     "output_type": "stream",
     "text": [
      "Train on 15000 samples, validate on 10000 samples\n",
      "Epoch 1/20\n",
      "15000/15000 [==============================] - 3s - loss: 0.5382 - binary_accuracy: 0.7815 - val_loss: 0.4270 - val_binary_accuracy: 0.8634\n",
      "Epoch 2/20\n",
      "15000/15000 [==============================] - 2s - loss: 0.3557 - binary_accuracy: 0.8957 - val_loss: 0.3488 - val_binary_accuracy: 0.8817\n",
      "Epoch 3/20\n",
      "15000/15000 [==============================] - 3s - loss: 0.2795 - binary_accuracy: 0.9207 - val_loss: 0.3357 - val_binary_accuracy: 0.8660\n",
      "Epoch 4/20\n",
      "15000/15000 [==============================] - 3s - loss: 0.2305 - binary_accuracy: 0.9343 - val_loss: 0.3051 - val_binary_accuracy: 0.8769\n",
      "Epoch 5/20\n",
      "15000/15000 [==============================] - 3s - loss: 0.1964 - binary_accuracy: 0.9425 - val_loss: 0.2822 - val_binary_accuracy: 0.8895\n",
      "Epoch 6/20\n",
      "15000/15000 [==============================] - 2s - loss: 0.1706 - binary_accuracy: 0.9497 - val_loss: 0.2797 - val_binary_accuracy: 0.8884\n",
      "Epoch 7/20\n",
      "15000/15000 [==============================] - 2s - loss: 0.1503 - binary_accuracy: 0.9565 - val_loss: 0.2776 - val_binary_accuracy: 0.8874\n",
      "Epoch 8/20\n",
      "15000/15000 [==============================] - 2s - loss: 0.1321 - binary_accuracy: 0.9641 - val_loss: 0.2792 - val_binary_accuracy: 0.8888\n",
      "Epoch 9/20\n",
      "15000/15000 [==============================] - 2s - loss: 0.1181 - binary_accuracy: 0.9687 - val_loss: 0.3000 - val_binary_accuracy: 0.8833\n",
      "Epoch 10/20\n",
      "15000/15000 [==============================] - 2s - loss: 0.1055 - binary_accuracy: 0.9733 - val_loss: 0.2951 - val_binary_accuracy: 0.8848\n",
      "Epoch 11/20\n",
      "15000/15000 [==============================] - 3s - loss: 0.0949 - binary_accuracy: 0.9757 - val_loss: 0.3004 - val_binary_accuracy: 0.8840\n",
      "Epoch 12/20\n",
      "15000/15000 [==============================] - 2s - loss: 0.0838 - binary_accuracy: 0.9803 - val_loss: 0.3101 - val_binary_accuracy: 0.8830\n",
      "Epoch 13/20\n",
      "15000/15000 [==============================] - 2s - loss: 0.0752 - binary_accuracy: 0.9822 - val_loss: 0.3296 - val_binary_accuracy: 0.8776\n",
      "Epoch 14/20\n",
      "15000/15000 [==============================] - 2s - loss: 0.0673 - binary_accuracy: 0.9849 - val_loss: 0.3365 - val_binary_accuracy: 0.8807\n",
      "Epoch 15/20\n",
      "15000/15000 [==============================] - 3s - loss: 0.0595 - binary_accuracy: 0.9883 - val_loss: 0.3490 - val_binary_accuracy: 0.8798\n",
      "Epoch 16/20\n",
      "15000/15000 [==============================] - 2s - loss: 0.0524 - binary_accuracy: 0.9907 - val_loss: 0.3594 - val_binary_accuracy: 0.8779\n",
      "Epoch 17/20\n",
      "15000/15000 [==============================] - 2s - loss: 0.0470 - binary_accuracy: 0.9919 - val_loss: 0.3776 - val_binary_accuracy: 0.8785\n",
      "Epoch 18/20\n",
      "15000/15000 [==============================] - 2s - loss: 0.0414 - binary_accuracy: 0.9928 - val_loss: 0.3916 - val_binary_accuracy: 0.8765\n",
      "Epoch 19/20\n",
      "15000/15000 [==============================] - 2s - loss: 0.0362 - binary_accuracy: 0.9938 - val_loss: 0.4044 - val_binary_accuracy: 0.8729\n",
      "Epoch 20/20\n",
      "15000/15000 [==============================] - 3s - loss: 0.0314 - binary_accuracy: 0.9950 - val_loss: 0.4223 - val_binary_accuracy: 0.8722\n"
     ]
    }
   ],
   "source": [
    "model = models.Sequential()\n",
    "\n",
    "model.add(layers.Dense(4, activation='relu', input_shape=(10000,)))\n",
    "model.add(layers.Dense(4, activation='relu'))\n",
    "model.add(layers.Dense(1, activation='sigmoid'))\n",
    "\n",
    "model.compile(optimizer=optimizers.RMSprop(0.001),\n",
    "              loss=losses.binary_crossentropy,\n",
    "              metrics = [metrics.binary_accuracy]\n",
    "             )\n",
    "\n",
    "# Training the model\n",
    "history = model.fit(partial_x_train,\n",
    "          partial_y_train,\n",
    "          epochs = 20,\n",
    "          batch_size=512,\n",
    "          validation_data=(x_val, y_val)\n",
    "         )"
   ]
  },
  {
   "cell_type": "code",
   "execution_count": 24,
   "metadata": {},
   "outputs": [
    {
     "data": {
      "image/png": "[encoded data removed]",
      "text/plain": [
       "<matplotlib.figure.Figure at 0x1dba4bbb4e0>"
      ]
     },
     "metadata": {},
     "output_type": "display_data"
    }
   ],
   "source": [
    "# Compare with original and lower capacity\n",
    "history_dict = history.history\n",
    "val_loss_values = history_dict['val_loss']\n",
    "\n",
    "epochs = range(1, len(loss_values)+1)\n",
    "\n",
    "plt.plot(epochs, original_val_loss_values, 'bo', label='Original validation loss')\n",
    "plt.plot(epochs, val_loss_values, 'bx', label='Validation loss')\n",
    "plt.title('Orignal vs modified validation loss')\n",
    "plt.xlabel('Epochs')\n",
    "plt.ylabel('Loss')\n",
    "plt.legend()\n",
    "plt.show()"
   ]
  },
  {
   "cell_type": "code",
   "execution_count": 42,
   "metadata": {},
   "outputs": [
    {
     "name": "stdout",
     "output_type": "stream",
     "text": [
      "{'val_loss': [0.4010031384944916, 0.32416875152587893, 0.28082483844757078, 0.27299602527618411, 0.2777018817424774, 0.31874062409400938, 0.30360572643280032, 0.33486751456260683, 0.35911561636924744, 0.37159844212532045, 0.39681054563522339, 0.43900693788528444, 0.45376135721206667, 0.47840264620780942, 0.5618722524642944, 0.54474871706962591, 0.58844119586944577, 0.61155096626281735, 0.64543845491409302, 0.71161123552322392], 'val_binary_accuracy': [0.86509999933242798, 0.87830000019073484, 0.89270000047683717, 0.89020000019073486, 0.8889000000953674, 0.88140000009536745, 0.88530000019073485, 0.87770000019073491, 0.87979999990463253, 0.87970000000000004, 0.87839999980926509, 0.87719999980926511, 0.87499999990463262, 0.87290000000000001, 0.86889999923706052, 0.86969999971389766, 0.87129999971389771, 0.86819999971389772, 0.86589999933242801, 0.8664999996185303], 'binary_accuracy': [0.78933333320617671, 0.90306666644414268, 0.92426666669845581, 0.94246666685740155, 0.95206666638056436, 0.96333333339691163, 0.96899999971389772, 0.97593333304723107, 0.98053333323796588, 0.98639999990463256, 0.98860000006357829, 0.9922000002543131, 0.99446666692097985, 0.99580000025431314, 0.99693333314259847, 0.9993333333333333, 0.99860000000000004, 0.9993333333333333, 0.99906666666666666, 0.99986666666666668], 'loss': [0.51594942727088933, 0.31451114188830059, 0.23177706203460693, 0.18158037362098695, 0.15020161673227947, 0.12164488666852315, 0.10340638227065405, 0.08473736189603806, 0.072650350272655484, 0.057976306670904157, 0.048761125544706983, 0.038348906826972964, 0.030003946427504223, 0.023956428272525469, 0.019770913366476694, 0.012041406503816446, 0.012072706337273122, 0.0080959568222363793, 0.0073303506205479301, 0.0036187473103404047]}\n",
      "{'val_loss': [0.4010031384944916, 0.32416875152587893, 0.28082483844757078, 0.27299602527618411, 0.2777018817424774, 0.31874062409400938, 0.30360572643280032, 0.33486751456260683, 0.35911561636924744, 0.37159844212532045, 0.39681054563522339, 0.43900693788528444, 0.45376135721206667, 0.47840264620780942, 0.5618722524642944, 0.54474871706962591, 0.58844119586944577, 0.61155096626281735, 0.64543845491409302, 0.71161123552322392], 'val_binary_accuracy': [0.86509999933242798, 0.87830000019073484, 0.89270000047683717, 0.89020000019073486, 0.8889000000953674, 0.88140000009536745, 0.88530000019073485, 0.87770000019073491, 0.87979999990463253, 0.87970000000000004, 0.87839999980926509, 0.87719999980926511, 0.87499999990463262, 0.87290000000000001, 0.86889999923706052, 0.86969999971389766, 0.87129999971389771, 0.86819999971389772, 0.86589999933242801, 0.8664999996185303], 'binary_accuracy': [0.78933333320617671, 0.90306666644414268, 0.92426666669845581, 0.94246666685740155, 0.95206666638056436, 0.96333333339691163, 0.96899999971389772, 0.97593333304723107, 0.98053333323796588, 0.98639999990463256, 0.98860000006357829, 0.9922000002543131, 0.99446666692097985, 0.99580000025431314, 0.99693333314259847, 0.9993333333333333, 0.99860000000000004, 0.9993333333333333, 0.99906666666666666, 0.99986666666666668], 'loss': [0.51594942727088933, 0.31451114188830059, 0.23177706203460693, 0.18158037362098695, 0.15020161673227947, 0.12164488666852315, 0.10340638227065405, 0.08473736189603806, 0.072650350272655484, 0.057976306670904157, 0.048761125544706983, 0.038348906826972964, 0.030003946427504223, 0.023956428272525469, 0.019770913366476694, 0.012041406503816446, 0.012072706337273122, 0.0080959568222363793, 0.0073303506205479301, 0.0036187473103404047]}\n"
     ]
    }
   ],
   "source": [
    "print(history_dict)\n",
    "print(original_history_dict)"
   ]
  },
  {
   "cell_type": "markdown",
   "metadata": {},
   "source": [
    "# Version with higher Capacity"
   ]
  },
  {
   "cell_type": "code",
   "execution_count": 25,
   "metadata": {},
   "outputs": [
    {
     "name": "stdout",
     "output_type": "stream",
     "text": [
      "Train on 15000 samples, validate on 10000 samples\n",
      "Epoch 1/20\n",
      "15000/15000 [==============================] - 18s - loss: 0.5458 - binary_accuracy: 0.7595 - val_loss: 0.3320 - val_binary_accuracy: 0.8601\n",
      "Epoch 2/20\n",
      "15000/15000 [==============================] - 18s - loss: 0.2457 - binary_accuracy: 0.9019 - val_loss: 0.2647 - val_binary_accuracy: 0.8941\n",
      "Epoch 3/20\n",
      "15000/15000 [==============================] - 18s - loss: 0.1505 - binary_accuracy: 0.9436 - val_loss: 0.3019 - val_binary_accuracy: 0.8908\n",
      "Epoch 4/20\n",
      "15000/15000 [==============================] - 17s - loss: 0.0634 - binary_accuracy: 0.9785 - val_loss: 0.3800 - val_binary_accuracy: 0.8874\n",
      "Epoch 5/20\n",
      "15000/15000 [==============================] - 17s - loss: 0.0838 - binary_accuracy: 0.9789 - val_loss: 0.4152 - val_binary_accuracy: 0.8869\n",
      "Epoch 6/20\n",
      "15000/15000 [==============================] - 18s - loss: 0.0027 - binary_accuracy: 0.9997 - val_loss: 0.5077 - val_binary_accuracy: 0.8867\n",
      "Epoch 7/20\n",
      "15000/15000 [==============================] - 17s - loss: 3.1301e-04 - binary_accuracy: 1.0000 - val_loss: 0.6202 - val_binary_accuracy: 0.8855\n",
      "Epoch 8/20\n",
      "15000/15000 [==============================] - 18s - loss: 4.6956e-05 - binary_accuracy: 1.0000 - val_loss: 0.7138 - val_binary_accuracy: 0.8853\n",
      "Epoch 9/20\n",
      "15000/15000 [==============================] - 18s - loss: 8.2934e-06 - binary_accuracy: 1.0000 - val_loss: 0.7784 - val_binary_accuracy: 0.8855\n",
      "Epoch 10/20\n",
      "15000/15000 [==============================] - 17s - loss: 1.4142e-06 - binary_accuracy: 1.0000 - val_loss: 0.8523 - val_binary_accuracy: 0.8854\n",
      "Epoch 11/20\n",
      "15000/15000 [==============================] - 17s - loss: 3.8780e-07 - binary_accuracy: 1.0000 - val_loss: 0.8933 - val_binary_accuracy: 0.8853\n",
      "Epoch 12/20\n",
      "15000/15000 [==============================] - 17s - loss: 1.6623e-07 - binary_accuracy: 1.0000 - val_loss: 0.9331 - val_binary_accuracy: 0.8853\n",
      "Epoch 13/20\n",
      "15000/15000 [==============================] - 17s - loss: 0.2850 - binary_accuracy: 0.9763 - val_loss: 0.8910 - val_binary_accuracy: 0.8870\n",
      "Epoch 14/20\n",
      "15000/15000 [==============================] - 21s - loss: 1.7789e-06 - binary_accuracy: 1.0000 - val_loss: 0.8884 - val_binary_accuracy: 0.8861\n",
      "Epoch 15/20\n",
      "15000/15000 [==============================] - 17s - loss: 2.4611e-07 - binary_accuracy: 1.0000 - val_loss: 0.8928 - val_binary_accuracy: 0.8863\n",
      "Epoch 16/20\n",
      "15000/15000 [==============================] - 17s - loss: 2.0694e-07 - binary_accuracy: 1.0000 - val_loss: 0.8970 - val_binary_accuracy: 0.8863\n",
      "Epoch 17/20\n",
      "15000/15000 [==============================] - 17s - loss: 1.8312e-07 - binary_accuracy: 1.0000 - val_loss: 0.9013 - val_binary_accuracy: 0.8865\n",
      "Epoch 18/20\n",
      "15000/15000 [==============================] - 17s - loss: 1.6573e-07 - binary_accuracy: 1.0000 - val_loss: 0.9073 - val_binary_accuracy: 0.8863\n",
      "Epoch 19/20\n",
      "15000/15000 [==============================] - 17s - loss: 1.5038e-07 - binary_accuracy: 1.0000 - val_loss: 0.9172 - val_binary_accuracy: 0.8861\n",
      "Epoch 20/20\n",
      "15000/15000 [==============================] - 18s - loss: 1.3445e-07 - binary_accuracy: 1.0000 - val_loss: 0.9375 - val_binary_accuracy: 0.8858\n"
     ]
    },
    {
     "data": {
      "text/plain": [
       "<keras.callbacks.History at 0x1dba699c898>"
      ]
     },
     "execution_count": 25,
     "metadata": {},
     "output_type": "execute_result"
    }
   ],
   "source": [
    "model = models.Sequential()\n",
    "model.add(layers.Dense(512, activation='relu', input_shape=(10000,)))\n",
    "model.add(layers.Dense(512, activation='relu'))\n",
    "model.add(layers.Dense(1, activation='sigmoid'))\n",
    "\n",
    "model.compile(optimizer=optimizers.RMSprop(0.001),\n",
    "              loss=losses.binary_crossentropy,\n",
    "              metrics = [metrics.binary_accuracy]\n",
    "             )\n",
    "\n",
    "# Training the model\n",
    "history = model.fit(partial_x_train,\n",
    "          partial_y_train,\n",
    "          epochs = 20,\n",
    "          batch_size=512,\n",
    "          validation_data=(x_val, y_val)\n",
    "         )"
   ]
  },
  {
   "cell_type": "code",
   "execution_count": 26,
   "metadata": {},
   "outputs": [
    {
     "data": {
      "image/png": "[encoded data removed]",
      "text/plain": [
       "<matplotlib.figure.Figure at 0x1dba6742f28>"
      ]
     },
     "metadata": {},
     "output_type": "display_data"
    }
   ],
   "source": [
    "# Compare with original and lower capacity\n",
    "history_dict = history.history\n",
    "val_loss_values = history_dict['val_loss']\n",
    "\n",
    "epochs = range(1, len(loss_values)+1)\n",
    "\n",
    "plt.plot(epochs, original_val_loss_values, 'bo', label='Original validation loss')\n",
    "plt.plot(epochs, val_loss_values, 'bx', label='Validation loss')\n",
    "plt.title('Orignal vs modified validation loss')\n",
    "plt.xlabel('Epochs')\n",
    "plt.ylabel('Loss')\n",
    "plt.legend()\n",
    "plt.show()"
   ]
  },
  {
   "cell_type": "markdown",
   "metadata": {},
   "source": [
    "# Adding regularizer"
   ]
  },
  {
   "cell_type": "code",
   "execution_count": 27,
   "metadata": {},
   "outputs": [
    {
     "name": "stdout",
     "output_type": "stream",
     "text": [
      "Train on 15000 samples, validate on 10000 samples\n",
      "Epoch 1/20\n",
      "15000/15000 [==============================] - 23s - loss: 1.1568 - binary_accuracy: 0.7383 - val_loss: 0.9584 - val_binary_accuracy: 0.7066\n",
      "Epoch 2/20\n",
      "15000/15000 [==============================] - 22s - loss: 0.5641 - binary_accuracy: 0.8741 - val_loss: 0.4715 - val_binary_accuracy: 0.8882\n",
      "Epoch 3/20\n",
      "15000/15000 [==============================] - 22s - loss: 0.4203 - binary_accuracy: 0.9003 - val_loss: 0.5034 - val_binary_accuracy: 0.8522\n",
      "Epoch 4/20\n",
      "15000/15000 [==============================] - 22s - loss: 0.3528 - binary_accuracy: 0.9123 - val_loss: 0.4169 - val_binary_accuracy: 0.8836\n",
      "Epoch 5/20\n",
      "15000/15000 [==============================] - 22s - loss: 0.3205 - binary_accuracy: 0.9217 - val_loss: 0.3991 - val_binary_accuracy: 0.8824\n",
      "Epoch 6/20\n",
      "15000/15000 [==============================] - 22s - loss: 0.2848 - binary_accuracy: 0.9335 - val_loss: 0.3961 - val_binary_accuracy: 0.8829\n",
      "Epoch 7/20\n",
      "15000/15000 [==============================] - 22s - loss: 0.2555 - binary_accuracy: 0.9448 - val_loss: 0.4196 - val_binary_accuracy: 0.8807\n",
      "Epoch 8/20\n",
      "15000/15000 [==============================] - 23s - loss: 0.2425 - binary_accuracy: 0.9480 - val_loss: 0.4633 - val_binary_accuracy: 0.8624\n",
      "Epoch 9/20\n",
      "15000/15000 [==============================] - 23s - loss: 0.2288 - binary_accuracy: 0.9547 - val_loss: 0.4352 - val_binary_accuracy: 0.8847\n",
      "Epoch 10/20\n",
      "15000/15000 [==============================] - 22s - loss: 0.2216 - binary_accuracy: 0.9527 - val_loss: 0.4005 - val_binary_accuracy: 0.8822\n",
      "Epoch 11/20\n",
      "15000/15000 [==============================] - 22s - loss: 0.1970 - binary_accuracy: 0.9625 - val_loss: 0.4030 - val_binary_accuracy: 0.8780\n",
      "Epoch 12/20\n",
      "15000/15000 [==============================] - 22s - loss: 0.1888 - binary_accuracy: 0.9659 - val_loss: 0.4138 - val_binary_accuracy: 0.8614\n",
      "Epoch 13/20\n",
      "15000/15000 [==============================] - 22s - loss: 0.1698 - binary_accuracy: 0.9765 - val_loss: 0.4656 - val_binary_accuracy: 0.8724\n",
      "Epoch 14/20\n",
      "15000/15000 [==============================] - 22s - loss: 0.1737 - binary_accuracy: 0.9715 - val_loss: 0.4599 - val_binary_accuracy: 0.8722\n",
      "Epoch 15/20\n",
      "15000/15000 [==============================] - 22s - loss: 0.1662 - binary_accuracy: 0.9762 - val_loss: 0.4590 - val_binary_accuracy: 0.8807\n",
      "Epoch 16/20\n",
      "15000/15000 [==============================] - 22s - loss: 0.1617 - binary_accuracy: 0.9743 - val_loss: 0.4514 - val_binary_accuracy: 0.8467\n",
      "Epoch 17/20\n",
      "15000/15000 [==============================] - 22s - loss: 0.1575 - binary_accuracy: 0.9768 - val_loss: 0.4491 - val_binary_accuracy: 0.8705\n",
      "Epoch 18/20\n",
      "15000/15000 [==============================] - 22s - loss: 0.1367 - binary_accuracy: 0.9827 - val_loss: 0.4700 - val_binary_accuracy: 0.8780\n",
      "Epoch 19/20\n",
      "15000/15000 [==============================] - 22s - loss: 0.1588 - binary_accuracy: 0.9703 - val_loss: 0.3721 - val_binary_accuracy: 0.8772\n",
      "Epoch 20/20\n",
      "15000/15000 [==============================] - 22s - loss: 0.1272 - binary_accuracy: 0.9835 - val_loss: 0.4502 - val_binary_accuracy: 0.8808\n"
     ]
    },
    {
     "data": {
      "image/png": "[encoded data removed]",
      "text/plain": [
       "<matplotlib.figure.Figure at 0x1dbaa2fa6d8>"
      ]
     },
     "metadata": {},
     "output_type": "display_data"
    }
   ],
   "source": [
    "from keras import regularizers\n",
    "\n",
    "model = models.Sequential()\n",
    "model.add(layers.Dense(512, kernel_regularizer = regularizers.l2(0.001), activation='relu', input_shape=(10000,)))\n",
    "model.add(layers.Dense(512, kernel_regularizer = regularizers.l2(0.001), activation='relu'))\n",
    "model.add(layers.Dense(1, activation='sigmoid'))\n",
    "\n",
    "model.compile(optimizer=optimizers.RMSprop(0.001),\n",
    "              loss=losses.binary_crossentropy,\n",
    "              metrics = [metrics.binary_accuracy]\n",
    "             )\n",
    "\n",
    "# Training the model\n",
    "history = model.fit(partial_x_train,\n",
    "          partial_y_train,\n",
    "          epochs = 20,\n",
    "          batch_size=512,\n",
    "          validation_data=(x_val, y_val)\n",
    "         )\n",
    "\n",
    "\n",
    "# Compare with original and lower capacity\n",
    "history_dict = history.history\n",
    "val_loss_values = history_dict['val_loss']\n",
    "\n",
    "epochs = range(1, len(loss_values)+1)\n",
    "\n",
    "plt.plot(epochs, original_val_loss_values, 'bo', label='Original validation loss')\n",
    "plt.plot(epochs, val_loss_values, 'bx', label='Validation loss')\n",
    "plt.title('Orignal vs modified validation loss')\n",
    "plt.xlabel('Epochs')\n",
    "plt.ylabel('Loss')\n",
    "plt.legend()\n",
    "plt.show()"
   ]
  },
  {
   "cell_type": "code",
   "execution_count": 27,
   "metadata": {},
   "outputs": [
    {
     "name": "stdout",
     "output_type": "stream",
     "text": [
      "Train on 15000 samples, validate on 10000 samples\n",
      "Epoch 1/20\n",
      "15000/15000 [==============================] - 23s - loss: 1.1568 - binary_accuracy: 0.7383 - val_loss: 0.9584 - val_binary_accuracy: 0.7066\n",
      "Epoch 2/20\n",
      "15000/15000 [==============================] - 22s - loss: 0.5641 - binary_accuracy: 0.8741 - val_loss: 0.4715 - val_binary_accuracy: 0.8882\n",
      "Epoch 3/20\n",
      "15000/15000 [==============================] - 22s - loss: 0.4203 - binary_accuracy: 0.9003 - val_loss: 0.5034 - val_binary_accuracy: 0.8522\n",
      "Epoch 4/20\n",
      "15000/15000 [==============================] - 22s - loss: 0.3528 - binary_accuracy: 0.9123 - val_loss: 0.4169 - val_binary_accuracy: 0.8836\n",
      "Epoch 5/20\n",
      "15000/15000 [==============================] - 22s - loss: 0.3205 - binary_accuracy: 0.9217 - val_loss: 0.3991 - val_binary_accuracy: 0.8824\n",
      "Epoch 6/20\n",
      "15000/15000 [==============================] - 22s - loss: 0.2848 - binary_accuracy: 0.9335 - val_loss: 0.3961 - val_binary_accuracy: 0.8829\n",
      "Epoch 7/20\n",
      "15000/15000 [==============================] - 22s - loss: 0.2555 - binary_accuracy: 0.9448 - val_loss: 0.4196 - val_binary_accuracy: 0.8807\n",
      "Epoch 8/20\n",
      "15000/15000 [==============================] - 23s - loss: 0.2425 - binary_accuracy: 0.9480 - val_loss: 0.4633 - val_binary_accuracy: 0.8624\n",
      "Epoch 9/20\n",
      "15000/15000 [==============================] - 23s - loss: 0.2288 - binary_accuracy: 0.9547 - val_loss: 0.4352 - val_binary_accuracy: 0.8847\n",
      "Epoch 10/20\n",
      "15000/15000 [==============================] - 22s - loss: 0.2216 - binary_accuracy: 0.9527 - val_loss: 0.4005 - val_binary_accuracy: 0.8822\n",
      "Epoch 11/20\n",
      "15000/15000 [==============================] - 22s - loss: 0.1970 - binary_accuracy: 0.9625 - val_loss: 0.4030 - val_binary_accuracy: 0.8780\n",
      "Epoch 12/20\n",
      "15000/15000 [==============================] - 22s - loss: 0.1888 - binary_accuracy: 0.9659 - val_loss: 0.4138 - val_binary_accuracy: 0.8614\n",
      "Epoch 13/20\n",
      "15000/15000 [==============================] - 22s - loss: 0.1698 - binary_accuracy: 0.9765 - val_loss: 0.4656 - val_binary_accuracy: 0.8724\n",
      "Epoch 14/20\n",
      "15000/15000 [==============================] - 22s - loss: 0.1737 - binary_accuracy: 0.9715 - val_loss: 0.4599 - val_binary_accuracy: 0.8722\n",
      "Epoch 15/20\n",
      "15000/15000 [==============================] - 22s - loss: 0.1662 - binary_accuracy: 0.9762 - val_loss: 0.4590 - val_binary_accuracy: 0.8807\n",
      "Epoch 16/20\n",
      "15000/15000 [==============================] - 22s - loss: 0.1617 - binary_accuracy: 0.9743 - val_loss: 0.4514 - val_binary_accuracy: 0.8467\n",
      "Epoch 17/20\n",
      "15000/15000 [==============================] - 22s - loss: 0.1575 - binary_accuracy: 0.9768 - val_loss: 0.4491 - val_binary_accuracy: 0.8705\n",
      "Epoch 18/20\n",
      "15000/15000 [==============================] - 22s - loss: 0.1367 - binary_accuracy: 0.9827 - val_loss: 0.4700 - val_binary_accuracy: 0.8780\n",
      "Epoch 19/20\n",
      "15000/15000 [==============================] - 22s - loss: 0.1588 - binary_accuracy: 0.9703 - val_loss: 0.3721 - val_binary_accuracy: 0.8772\n",
      "Epoch 20/20\n",
      "15000/15000 [==============================] - 22s - loss: 0.1272 - binary_accuracy: 0.9835 - val_loss: 0.4502 - val_binary_accuracy: 0.8808\n"
     ]
    },
    {
     "data": {
      "image/png": "[encoded data removed]",
      "text/plain": [
       "<matplotlib.figure.Figure at 0x1dbaa2fa6d8>"
      ]
     },
     "metadata": {},
     "output_type": "display_data"
    }
   ],
   "source": [
    "from keras import regularizers\n",
    "\n",
    "model = models.Sequential()\n",
    "model.add(layers.Dense(512, kernel_regularizer = regularizers.l2(0.001), activation='relu', input_shape=(10000,)))\n",
    "model.add(layers.Dense(512, kernel_regularizer = regularizers.l2(0.001), activation='relu'))\n",
    "model.add(layers.Dense(1, activation='sigmoid'))\n",
    "\n",
    "model.compile(optimizer=optimizers.RMSprop(0.001),\n",
    "              loss=losses.binary_crossentropy,\n",
    "              metrics = [metrics.binary_accuracy]\n",
    "             )\n",
    "\n",
    "# Training the model\n",
    "history = model.fit(partial_x_train,\n",
    "          partial_y_train,\n",
    "          epochs = 20,\n",
    "          batch_size=512,\n",
    "          validation_data=(x_val, y_val)\n",
    "         )\n",
    "\n",
    "\n",
    "# Compare with original and lower capacity\n",
    "history_dict = history.history\n",
    "val_loss_values = history_dict['val_loss']\n",
    "\n",
    "epochs = range(1, len(loss_values)+1)\n",
    "\n",
    "plt.plot(epochs, original_val_loss_values, 'bo', label='Original validation loss')\n",
    "plt.plot(epochs, val_loss_values, 'bx', label='Validation loss')\n",
    "plt.title('Orignal vs modified validation loss')\n",
    "plt.xlabel('Epochs')\n",
    "plt.ylabel('Loss')\n",
    "plt.legend()\n",
    "plt.show()"
   ]
  },
  {
   "cell_type": "code",
   "execution_count": 28,
   "metadata": {},
   "outputs": [
    {
     "name": "stdout",
     "output_type": "stream",
     "text": [
      "Train on 15000 samples, validate on 10000 samples\n",
      "Epoch 1/20\n",
      "15000/15000 [==============================] - 5s - loss: 0.6233 - binary_accuracy: 0.6528 - val_loss: 0.4718 - val_binary_accuracy: 0.8517\n",
      "Epoch 2/20\n",
      "15000/15000 [==============================] - 3s - loss: 0.4896 - binary_accuracy: 0.7764 - val_loss: 0.3804 - val_binary_accuracy: 0.8641\n",
      "Epoch 3/20\n",
      "15000/15000 [==============================] - 3s - loss: 0.4042 - binary_accuracy: 0.8324 - val_loss: 0.3180 - val_binary_accuracy: 0.8851\n",
      "Epoch 4/20\n",
      "15000/15000 [==============================] - 3s - loss: 0.3467 - binary_accuracy: 0.8638 - val_loss: 0.2839 - val_binary_accuracy: 0.8904\n",
      "Epoch 5/20\n",
      "15000/15000 [==============================] - 3s - loss: 0.3010 - binary_accuracy: 0.8883 - val_loss: 0.2730 - val_binary_accuracy: 0.8921\n",
      "Epoch 6/20\n",
      "15000/15000 [==============================] - 3s - loss: 0.2639 - binary_accuracy: 0.9070 - val_loss: 0.2771 - val_binary_accuracy: 0.8884\n",
      "Epoch 7/20\n",
      "15000/15000 [==============================] - 3s - loss: 0.2312 - binary_accuracy: 0.9205 - val_loss: 0.2778 - val_binary_accuracy: 0.8922\n",
      "Epoch 8/20\n",
      "15000/15000 [==============================] - 3s - loss: 0.2062 - binary_accuracy: 0.9317 - val_loss: 0.2911 - val_binary_accuracy: 0.8875\n",
      "Epoch 9/20\n",
      "15000/15000 [==============================] - 3s - loss: 0.1798 - binary_accuracy: 0.9405 - val_loss: 0.2974 - val_binary_accuracy: 0.8913\n",
      "Epoch 10/20\n",
      "15000/15000 [==============================] - 3s - loss: 0.1601 - binary_accuracy: 0.9493 - val_loss: 0.3220 - val_binary_accuracy: 0.8889\n",
      "Epoch 11/20\n",
      "15000/15000 [==============================] - 3s - loss: 0.1432 - binary_accuracy: 0.9537 - val_loss: 0.3495 - val_binary_accuracy: 0.8889\n",
      "Epoch 12/20\n",
      "15000/15000 [==============================] - 3s - loss: 0.1289 - binary_accuracy: 0.9573 - val_loss: 0.4155 - val_binary_accuracy: 0.8744\n",
      "Epoch 13/20\n",
      "15000/15000 [==============================] - 3s - loss: 0.1167 - binary_accuracy: 0.9637 - val_loss: 0.4020 - val_binary_accuracy: 0.8892\n",
      "Epoch 14/20\n",
      "15000/15000 [==============================] - 3s - loss: 0.1027 - binary_accuracy: 0.9675 - val_loss: 0.4348 - val_binary_accuracy: 0.8870\n",
      "Epoch 15/20\n",
      "15000/15000 [==============================] - 3s - loss: 0.1007 - binary_accuracy: 0.9672 - val_loss: 0.4615 - val_binary_accuracy: 0.8806\n",
      "Epoch 16/20\n",
      "15000/15000 [==============================] - 3s - loss: 0.0910 - binary_accuracy: 0.9715 - val_loss: 0.4474 - val_binary_accuracy: 0.8858\n",
      "Epoch 17/20\n",
      "15000/15000 [==============================] - 3s - loss: 0.0851 - binary_accuracy: 0.9738 - val_loss: 0.4913 - val_binary_accuracy: 0.8845\n",
      "Epoch 18/20\n",
      "15000/15000 [==============================] - 3s - loss: 0.0835 - binary_accuracy: 0.9733 - val_loss: 0.5031 - val_binary_accuracy: 0.8862\n",
      "Epoch 19/20\n",
      "15000/15000 [==============================] - 3s - loss: 0.0786 - binary_accuracy: 0.9742 - val_loss: 0.5073 - val_binary_accuracy: 0.8818\n",
      "Epoch 20/20\n",
      "15000/15000 [==============================] - 3s - loss: 0.0761 - binary_accuracy: 0.9762 - val_loss: 0.5857 - val_binary_accuracy: 0.8797\n"
     ]
    },
    {
     "data": {
      "image/png": "[encoded data removed]",
      "text/plain": [
       "<matplotlib.figure.Figure at 0x1dbaac75cc0>"
      ]
     },
     "metadata": {},
     "output_type": "display_data"
    }
   ],
   "source": [
    "model = models.Sequential()\n",
    "model.add(layers.Dense(16, activation='relu', input_shape=(10000,)))\n",
    "model.add(layers.Dropout(0.5))\n",
    "model.add(layers.Dense(16, activation='relu'))\n",
    "model.add(layers.Dropout(0.5))\n",
    "model.add(layers.Dense(1, activation='sigmoid'))\n",
    "\n",
    "model.compile(optimizer=optimizers.RMSprop(0.001),\n",
    "              loss=losses.binary_crossentropy,\n",
    "              metrics = [metrics.binary_accuracy]\n",
    "             )\n",
    "\n",
    "# Training the model\n",
    "history = model.fit(partial_x_train,\n",
    "          partial_y_train,\n",
    "          epochs = 20,\n",
    "          batch_size=512,\n",
    "          validation_data=(x_val, y_val)\n",
    "         )\n",
    "\n",
    "\n",
    "# Compare with original and lower capacity\n",
    "history_dict = history.history\n",
    "val_loss_values = history_dict['val_loss']\n",
    "\n",
    "epochs = range(1, len(loss_values)+1)\n",
    "\n",
    "plt.plot(epochs, original_val_loss_values, 'bo', label='Original validation loss')\n",
    "plt.plot(epochs, val_loss_values, 'bx', label='Validation loss')\n",
    "plt.title('Orignal vs modified validation loss')\n",
    "plt.xlabel('Epochs')\n",
    "plt.ylabel('Loss')\n",
    "plt.legend()\n",
    "plt.show()"
   ]
  },
  {
   "cell_type": "code",
   "execution_count": null,
   "metadata": {
    "collapsed": true
   },
   "outputs": [],
   "source": []
  }
 ],
 "metadata": {
  "kernelspec": {
   "display_name": "Python [conda root]",
   "language": "python",
   "name": "conda-root-py"
  },
  "language_info": {
   "codemirror_mode": {
    "name": "ipython",
    "version": 3
   },
   "file_extension": ".py",
   "mimetype": "text/x-python",
   "name": "python",
   "nbconvert_exporter": "python",
   "pygments_lexer": "ipython3",
   "version": "3.5.4"
  }
 },
 "nbformat": 4,
 "nbformat_minor": 2
}
