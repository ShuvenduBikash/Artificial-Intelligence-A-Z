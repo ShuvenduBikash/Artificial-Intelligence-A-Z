{
 "cells": [
  {
   "cell_type": "markdown",
   "metadata": {},
   "source": [
    "# Loading dataset"
   ]
  },
  {
   "cell_type": "code",
   "execution_count": 1,
   "metadata": {
    "collapsed": true
   },
   "outputs": [],
   "source": [
    "import os, shutil\n",
    "original_dataset_dir = '/home/shuvendu/Documents/datasets/Cat_and_Dog/train'\n",
    "base_dir = '/home/shuvendu/Documents/datasets/Cat_and_Dog_small'"
   ]
  },
  {
   "cell_type": "code",
   "execution_count": null,
   "metadata": {
    "collapsed": true
   },
   "outputs": [],
   "source": [
    "os.mkdir(base_dir)"
   ]
  },
  {
   "cell_type": "code",
   "execution_count": 2,
   "metadata": {
    "collapsed": true
   },
   "outputs": [],
   "source": [
    "# Make the required datadir\n",
    "train_dir = os.path.join(base_dir, 'train')\n",
    "\n",
    "validation_dir = os.path.join(base_dir, 'validation')\n",
    "\n",
    "test_dir = os.path.join(base_dir, 'test')\n"
   ]
  },
  {
   "cell_type": "code",
   "execution_count": null,
   "metadata": {
    "collapsed": true
   },
   "outputs": [],
   "source": [
    "os.mkdir(test_dir)\n",
    "os.mkdir(train_dir)\n",
    "os.mkdir(validation_dir)"
   ]
  },
  {
   "cell_type": "code",
   "execution_count": null,
   "metadata": {
    "collapsed": true
   },
   "outputs": [],
   "source": [
    "train_cats_dir = os.path.join(train_dir, 'cats')\n",
    "os.mkdir(train_cats_dir)\n",
    "\n",
    "train_dogs_dir = os.path.join(train_dir, 'dogs')\n",
    "os.mkdir(train_dogs_dir)\n",
    "\n",
    "validation_cats_dir = os.path.join(validation_dir, 'cats')\n",
    "os.mkdir(validation_cats_dir)\n",
    "\n",
    "validation_dogs_dir = os.path.join(validation_dir, 'dogs')\n",
    "os.mkdir(validation_dogs_dir)\n",
    "\n",
    "test_cats_dir = os.path.join(test_dir, 'cats')\n",
    "os.mkdir(test_cats_dir)\n",
    "\n",
    "test_dogs_dir = os.path.join(test_dir, 'dogs')\n",
    "os.mkdir(test_dogs_dir)"
   ]
  },
  {
   "cell_type": "code",
   "execution_count": null,
   "metadata": {
    "collapsed": true
   },
   "outputs": [],
   "source": [
    "fnames = ['cat.{}.jpg'.format(i) for i in range(1000)]\n",
    "for fname in fnames:\n",
    "    src = os.path.join(original_dataset_dir, fname)\n",
    "    dst = os.path.join(train_cats_dir, fname)\n",
    "    shutil.copyfile(src, dst)\n",
    "    \n",
    "fnames = ['cat.{}.jpg'.format(i) for i in range(1000, 1500)]\n",
    "for fname in fnames:\n",
    "    src = os.path.join(original_dataset_dir, fname)\n",
    "    dst = os.path.join(validation_cats_dir, fname)\n",
    "    shutil.copyfile(src, dst)\n",
    "    \n",
    "fnames = ['cat.{}.jpg'.format(i) for i in range(1500, 2000)]\n",
    "for fname in fnames:\n",
    "    src = os.path.join(original_dataset_dir, fname)\n",
    "    dst = os.path.join(test_cats_dir, fname)\n",
    "    shutil.copyfile(src, dst)"
   ]
  },
  {
   "cell_type": "code",
   "execution_count": null,
   "metadata": {
    "collapsed": true
   },
   "outputs": [],
   "source": [
    "fnames = ['dog.{}.jpg'.format(i) for i in range(1000)]\n",
    "for fname in fnames:\n",
    "    src = os.path.join(original_dataset_dir, fname)\n",
    "    dst = os.path.join(train_dogs_dir, fname)\n",
    "    shutil.copyfile(src, dst)\n",
    "    \n",
    "fnames = ['dog.{}.jpg'.format(i) for i in range(1000, 1500)]\n",
    "for fname in fnames:\n",
    "    src = os.path.join(original_dataset_dir, fname)\n",
    "    dst = os.path.join(validation_dogs_dir, fname)\n",
    "    shutil.copyfile(src, dst)\n",
    "    \n",
    "fnames = ['dog.{}.jpg'.format(i) for i in range(1500, 2000)]\n",
    "for fname in fnames:\n",
    "    src = os.path.join(original_dataset_dir, fname)\n",
    "    dst = os.path.join(test_dogs_dir, fname)\n",
    "    shutil.copyfile(src, dst)"
   ]
  },
  {
   "cell_type": "markdown",
   "metadata": {},
   "source": [
    "# Data Preprocessing"
   ]
  },
  {
   "cell_type": "code",
   "execution_count": 3,
   "metadata": {},
   "outputs": [
    {
     "name": "stderr",
     "output_type": "stream",
     "text": [
      "Using TensorFlow backend.\n",
      "/home/shuvendu/anaconda3/lib/python3.6/importlib/_bootstrap.py:205: RuntimeWarning: compiletime version 3.5 of module 'tensorflow.python.framework.fast_tensor_util' does not match runtime version 3.6\n",
      "  return f(*args, **kwds)\n"
     ]
    }
   ],
   "source": [
    "from keras.preprocessing.image import ImageDataGenerator"
   ]
  },
  {
   "cell_type": "code",
   "execution_count": 4,
   "metadata": {
    "collapsed": true
   },
   "outputs": [],
   "source": [
    "train_datagen = ImageDataGenerator(rescale=1./255)\n",
    "test_datagen = ImageDataGenerator(rescale=1./255)\n"
   ]
  },
  {
   "cell_type": "code",
   "execution_count": 5,
   "metadata": {},
   "outputs": [
    {
     "name": "stdout",
     "output_type": "stream",
     "text": [
      "Found 2000 images belonging to 2 classes.\n",
      "Found 1000 images belonging to 2 classes.\n"
     ]
    }
   ],
   "source": [
    "train_generator = train_datagen.flow_from_directory(\n",
    "    train_dir,\n",
    "    target_size = (150, 150),\n",
    "    batch_size=20,\n",
    "    class_mode='binary'\n",
    ")\n",
    "\n",
    "validation_generator = train_datagen.flow_from_directory(\n",
    "    validation_dir,\n",
    "    target_size = (150, 150),\n",
    "    batch_size=20,\n",
    "    class_mode='binary'\n",
    ")"
   ]
  },
  {
   "cell_type": "code",
   "execution_count": 6,
   "metadata": {},
   "outputs": [
    {
     "name": "stdout",
     "output_type": "stream",
     "text": [
      "data batch shape:  (20, 150, 150, 3)\n",
      "labels batch shape:  (20,)\n"
     ]
    }
   ],
   "source": [
    "for data_batch, labels_batch in train_generator:\n",
    "    print('data batch shape: ', data_batch.shape)\n",
    "    print('labels batch shape: ', labels_batch.shape)\n",
    "    break"
   ]
  },
  {
   "cell_type": "markdown",
   "metadata": {},
   "source": [
    "# Build the model"
   ]
  },
  {
   "cell_type": "code",
   "execution_count": 7,
   "metadata": {
    "collapsed": true
   },
   "outputs": [],
   "source": [
    "from keras import models, layers, metrics, losses, optimizers"
   ]
  },
  {
   "cell_type": "code",
   "execution_count": 8,
   "metadata": {},
   "outputs": [
    {
     "name": "stdout",
     "output_type": "stream",
     "text": [
      "_________________________________________________________________\n",
      "Layer (type)                 Output Shape              Param #   \n",
      "=================================================================\n",
      "conv2d_1 (Conv2D)            (None, 148, 148, 32)      896       \n",
      "_________________________________________________________________\n",
      "max_pooling2d_1 (MaxPooling2 (None, 74, 74, 32)        0         \n",
      "_________________________________________________________________\n",
      "conv2d_2 (Conv2D)            (None, 72, 72, 64)        18496     \n",
      "_________________________________________________________________\n",
      "max_pooling2d_2 (MaxPooling2 (None, 36, 36, 64)        0         \n",
      "_________________________________________________________________\n",
      "conv2d_3 (Conv2D)            (None, 34, 34, 128)       73856     \n",
      "_________________________________________________________________\n",
      "max_pooling2d_3 (MaxPooling2 (None, 17, 17, 128)       0         \n",
      "_________________________________________________________________\n",
      "conv2d_4 (Conv2D)            (None, 15, 15, 128)       147584    \n",
      "_________________________________________________________________\n",
      "max_pooling2d_4 (MaxPooling2 (None, 7, 7, 128)         0         \n",
      "_________________________________________________________________\n",
      "flatten_1 (Flatten)          (None, 6272)              0         \n",
      "_________________________________________________________________\n",
      "dense_1 (Dense)              (None, 512)               3211776   \n",
      "_________________________________________________________________\n",
      "dense_2 (Dense)              (None, 1)                 513       \n",
      "=================================================================\n",
      "Total params: 3,453,121\n",
      "Trainable params: 3,453,121\n",
      "Non-trainable params: 0\n",
      "_________________________________________________________________\n"
     ]
    }
   ],
   "source": [
    "model = models.Sequential()\n",
    "\n",
    "model.add(layers.Conv2D(32, (3, 3), activation='relu', input_shape=(150, 150, 3)))\n",
    "model.add(layers.MaxPool2D(2, 2))\n",
    "model.add(layers.Conv2D(64, (3, 3), activation='relu'))\n",
    "model.add(layers.MaxPool2D(2,2))\n",
    "model.add(layers.Conv2D(128, (3, 3), activation='relu'))\n",
    "model.add(layers.MaxPool2D(2, 2))\n",
    "model.add(layers.Conv2D(128, (3, 3), activation='relu'))\n",
    "model.add(layers.MaxPool2D(2, 2))\n",
    "\n",
    "model.add(layers.Flatten())\n",
    "model.add(layers.Dense(512, activation='relu'))\n",
    "model.add(layers.Dense(1, activation='sigmoid'))\n",
    "\n",
    "model.summary()"
   ]
  },
  {
   "cell_type": "code",
   "execution_count": 9,
   "metadata": {
    "collapsed": true
   },
   "outputs": [],
   "source": [
    "# compile the model\n",
    "model.compile(optimizer=optimizers.RMSprop(lr=1e-4),\n",
    "              loss = losses.binary_crossentropy,\n",
    "              metrics = ['acc']\n",
    "             )"
   ]
  },
  {
   "cell_type": "markdown",
   "metadata": {},
   "source": [
    "# Training the model"
   ]
  },
  {
   "cell_type": "code",
   "execution_count": 10,
   "metadata": {},
   "outputs": [
    {
     "name": "stdout",
     "output_type": "stream",
     "text": [
      "Epoch 1/30\n",
      "100/100 [==============================] - 61s - loss: 0.6898 - acc: 0.5345 - val_loss: 0.6782 - val_acc: 0.5650\n",
      "Epoch 2/30\n",
      "100/100 [==============================] - 5s - loss: 0.6562 - acc: 0.6130 - val_loss: 0.6573 - val_acc: 0.5890\n",
      "Epoch 3/30\n",
      "100/100 [==============================] - 5s - loss: 0.5986 - acc: 0.6925 - val_loss: 0.6134 - val_acc: 0.6460\n",
      "Epoch 4/30\n",
      "100/100 [==============================] - 5s - loss: 0.5559 - acc: 0.7070 - val_loss: 0.5988 - val_acc: 0.6730\n",
      "Epoch 5/30\n",
      "100/100 [==============================] - 5s - loss: 0.5308 - acc: 0.7430 - val_loss: 0.5746 - val_acc: 0.6960\n",
      "Epoch 6/30\n",
      "100/100 [==============================] - 5s - loss: 0.5084 - acc: 0.7450 - val_loss: 0.5739 - val_acc: 0.6950\n",
      "Epoch 7/30\n",
      "100/100 [==============================] - 5s - loss: 0.4862 - acc: 0.7735 - val_loss: 0.5721 - val_acc: 0.6940\n",
      "Epoch 8/30\n",
      "100/100 [==============================] - 5s - loss: 0.4603 - acc: 0.7835 - val_loss: 0.5361 - val_acc: 0.7120\n",
      "Epoch 9/30\n",
      "100/100 [==============================] - 5s - loss: 0.4355 - acc: 0.7975 - val_loss: 0.5524 - val_acc: 0.7290\n",
      "Epoch 10/30\n",
      "100/100 [==============================] - 5s - loss: 0.4114 - acc: 0.8220 - val_loss: 0.5788 - val_acc: 0.7100\n",
      "Epoch 11/30\n",
      "100/100 [==============================] - 5s - loss: 0.3906 - acc: 0.8210 - val_loss: 0.5511 - val_acc: 0.7320\n",
      "Epoch 12/30\n",
      "100/100 [==============================] - 5s - loss: 0.3681 - acc: 0.8350 - val_loss: 0.5364 - val_acc: 0.7420\n",
      "Epoch 13/30\n",
      "100/100 [==============================] - 5s - loss: 0.3476 - acc: 0.8515 - val_loss: 0.5834 - val_acc: 0.7140\n",
      "Epoch 14/30\n",
      "100/100 [==============================] - 5s - loss: 0.3192 - acc: 0.8575 - val_loss: 0.5710 - val_acc: 0.7150\n",
      "Epoch 15/30\n",
      "100/100 [==============================] - 5s - loss: 0.2999 - acc: 0.8805 - val_loss: 0.6112 - val_acc: 0.7130\n",
      "Epoch 16/30\n",
      "100/100 [==============================] - 5s - loss: 0.2836 - acc: 0.8890 - val_loss: 0.5636 - val_acc: 0.7440\n",
      "Epoch 17/30\n",
      "100/100 [==============================] - 5s - loss: 0.2533 - acc: 0.9030 - val_loss: 0.6285 - val_acc: 0.7070\n",
      "Epoch 18/30\n",
      "100/100 [==============================] - 5s - loss: 0.2364 - acc: 0.9085 - val_loss: 0.6646 - val_acc: 0.7220\n",
      "Epoch 19/30\n",
      "100/100 [==============================] - 5s - loss: 0.2172 - acc: 0.9175 - val_loss: 0.5827 - val_acc: 0.7390\n",
      "Epoch 20/30\n",
      "100/100 [==============================] - 5s - loss: 0.1955 - acc: 0.9295 - val_loss: 0.6724 - val_acc: 0.7200\n",
      "Epoch 21/30\n",
      "100/100 [==============================] - 5s - loss: 0.1742 - acc: 0.9375 - val_loss: 0.6910 - val_acc: 0.7290\n",
      "Epoch 22/30\n",
      "100/100 [==============================] - 5s - loss: 0.1615 - acc: 0.9465 - val_loss: 0.7123 - val_acc: 0.7210\n",
      "Epoch 23/30\n",
      "100/100 [==============================] - 5s - loss: 0.1393 - acc: 0.9525 - val_loss: 0.8196 - val_acc: 0.7220\n",
      "Epoch 24/30\n",
      "100/100 [==============================] - 5s - loss: 0.1307 - acc: 0.9510 - val_loss: 0.7487 - val_acc: 0.7300\n",
      "Epoch 25/30\n",
      "100/100 [==============================] - 5s - loss: 0.1158 - acc: 0.9625 - val_loss: 0.7635 - val_acc: 0.7300\n",
      "Epoch 26/30\n",
      "100/100 [==============================] - 5s - loss: 0.0956 - acc: 0.9740 - val_loss: 0.8497 - val_acc: 0.7310\n",
      "Epoch 27/30\n",
      "100/100 [==============================] - 5s - loss: 0.0838 - acc: 0.9725 - val_loss: 0.8249 - val_acc: 0.7200\n",
      "Epoch 28/30\n",
      "100/100 [==============================] - 5s - loss: 0.0717 - acc: 0.9790 - val_loss: 0.7778 - val_acc: 0.7390\n",
      "Epoch 29/30\n",
      "100/100 [==============================] - 5s - loss: 0.0610 - acc: 0.9825 - val_loss: 0.9567 - val_acc: 0.7350\n",
      "Epoch 30/30\n",
      "100/100 [==============================] - 5s - loss: 0.0564 - acc: 0.9830 - val_loss: 0.8954 - val_acc: 0.7340\n"
     ]
    }
   ],
   "source": [
    "history = model.fit_generator(\n",
    "    train_generator,\n",
    "    steps_per_epoch = 100,\n",
    "    epochs=30,\n",
    "    validation_data=validation_generator,\n",
    "    validation_steps=50\n",
    ")"
   ]
  },
  {
   "cell_type": "code",
   "execution_count": 11,
   "metadata": {
    "collapsed": true
   },
   "outputs": [],
   "source": [
    "# save the model\n",
    "model.save('cats_and_dogs_small_1.h5')"
   ]
  },
  {
   "cell_type": "markdown",
   "metadata": {},
   "source": [
    "# Plotting data for observatoin"
   ]
  },
  {
   "cell_type": "code",
   "execution_count": 12,
   "metadata": {},
   "outputs": [
    {
     "data": {
      "image/png": "[encoded data removed]",
      "text/plain": [
       "<matplotlib.figure.Figure at 0x7f3d0fdb2898>"
      ]
     },
     "metadata": {},
     "output_type": "display_data"
    },
    {
     "data": {
      "image/png": "[encoded data removed]",
      "text/plain": [
       "<matplotlib.figure.Figure at 0x7f3ce00ab0f0>"
      ]
     },
     "metadata": {},
     "output_type": "display_data"
    }
   ],
   "source": [
    "import matplotlib.pyplot as plt\n",
    "\n",
    "acc = history.history['acc']\n",
    "val_acc = history.history['val_acc']\n",
    "loss = history.history['loss']\n",
    "val_loss = history.history['val_loss']\n",
    "\n",
    "epochs = range(1, len(acc)+1)\n",
    "\n",
    "plt.plot(epochs, acc, 'bo', label='Training acc')\n",
    "plt.plot(epochs, val_acc, 'b', label='Validation acc')\n",
    "plt.title('Training and validation accuracy')\n",
    "plt.legend()\n",
    "\n",
    "plt.figure()\n",
    "plt.plot(epochs, loss, 'bo', label='Training losses')\n",
    "plt.plot(epochs, val_loss, 'b', label='Validation losses')\n",
    "plt.title('Training and validation loss')\n",
    "plt.legend()\n",
    "\n",
    "plt.show()"
   ]
  },
  {
   "cell_type": "markdown",
   "metadata": {},
   "source": [
    "# Image augmentation: way of removing overfitting\n",
    "The goal is that at training time,\n",
    "your model will never see the exact same picture twice. This helps expose the model\n",
    "to more aspects of the data and generalize better."
   ]
  },
  {
   "cell_type": "code",
   "execution_count": 13,
   "metadata": {},
   "outputs": [
    {
     "name": "stdout",
     "output_type": "stream",
     "text": [
      "Found 2000 images belonging to 2 classes.\n",
      "Found 1000 images belonging to 2 classes.\n"
     ]
    }
   ],
   "source": [
    "train_datagen = ImageDataGenerator(rescale=1./255, \n",
    "                                   rotation_range=40, \n",
    "                                   width_shift_range=0.2, \n",
    "                                   height_shift_range=0.2, \n",
    "                                   shear_range=0.2,\n",
    "                                   zoom_range=0.2, \n",
    "                                   horizontal_flip=True)\n",
    "test_datagen = ImageDataGenerator(rescale=1./255)\n",
    "\n",
    "train_generator = train_datagen.flow_from_directory(train_dir,\n",
    "                                                    target_size=(150, 150), \n",
    "                                                    batch_size=32, \n",
    "                                                    class_mode='binary')\n",
    "\n",
    "validation_generator = test_datagen.flow_from_directory(validation_dir,\n",
    "                                                       target_size=(150, 150),\n",
    "                                                       batch_size=32,\n",
    "                                                       class_mode='binary')"
   ]
  },
  {
   "cell_type": "code",
   "execution_count": 14,
   "metadata": {},
   "outputs": [
    {
     "name": "stdout",
     "output_type": "stream",
     "text": [
      "_________________________________________________________________\n",
      "Layer (type)                 Output Shape              Param #   \n",
      "=================================================================\n",
      "conv2d_5 (Conv2D)            (None, 148, 148, 32)      896       \n",
      "_________________________________________________________________\n",
      "max_pooling2d_5 (MaxPooling2 (None, 74, 74, 32)        0         \n",
      "_________________________________________________________________\n",
      "conv2d_6 (Conv2D)            (None, 72, 72, 64)        18496     \n",
      "_________________________________________________________________\n",
      "max_pooling2d_6 (MaxPooling2 (None, 36, 36, 64)        0         \n",
      "_________________________________________________________________\n",
      "conv2d_7 (Conv2D)            (None, 34, 34, 128)       73856     \n",
      "_________________________________________________________________\n",
      "max_pooling2d_7 (MaxPooling2 (None, 17, 17, 128)       0         \n",
      "_________________________________________________________________\n",
      "conv2d_8 (Conv2D)            (None, 15, 15, 128)       147584    \n",
      "_________________________________________________________________\n",
      "max_pooling2d_8 (MaxPooling2 (None, 7, 7, 128)         0         \n",
      "_________________________________________________________________\n",
      "flatten_2 (Flatten)          (None, 6272)              0         \n",
      "_________________________________________________________________\n",
      "dropout_1 (Dropout)          (None, 6272)              0         \n",
      "_________________________________________________________________\n",
      "dense_3 (Dense)              (None, 512)               3211776   \n",
      "_________________________________________________________________\n",
      "dense_4 (Dense)              (None, 1)                 513       \n",
      "=================================================================\n",
      "Total params: 3,453,121\n",
      "Trainable params: 3,453,121\n",
      "Non-trainable params: 0\n",
      "_________________________________________________________________\n"
     ]
    }
   ],
   "source": [
    "# Add a dropout layer to the model\n",
    "model = models.Sequential()\n",
    "\n",
    "model.add(layers.Conv2D(32, (3, 3), activation='relu', input_shape=(150, 150, 3)))\n",
    "model.add(layers.MaxPool2D(2, 2))\n",
    "model.add(layers.Conv2D(64, (3, 3), activation='relu'))\n",
    "model.add(layers.MaxPool2D(2,2))\n",
    "model.add(layers.Conv2D(128, (3, 3), activation='relu'))\n",
    "model.add(layers.MaxPool2D(2, 2))\n",
    "model.add(layers.Conv2D(128, (3, 3), activation='relu'))\n",
    "model.add(layers.MaxPool2D(2, 2))\n",
    "\n",
    "model.add(layers.Flatten())\n",
    "model.add(layers.Dropout(0.5))\n",
    "model.add(layers.Dense(512, activation='relu'))\n",
    "model.add(layers.Dense(1, activation='sigmoid'))\n",
    "\n",
    "model.summary()"
   ]
  },
  {
   "cell_type": "code",
   "execution_count": 15,
   "metadata": {
    "collapsed": true
   },
   "outputs": [],
   "source": [
    "model.compile(loss='binary_crossentropy', \n",
    "              optimizer=optimizers.RMSprop(lr=1e-4),\n",
    "              metrics=['acc'])"
   ]
  },
  {
   "cell_type": "code",
   "execution_count": 16,
   "metadata": {},
   "outputs": [
    {
     "name": "stdout",
     "output_type": "stream",
     "text": [
      "Epoch 1/100\n",
      "100/100 [==============================] - 16s - loss: 0.6958 - acc: 0.5100 - val_loss: 0.6821 - val_acc: 0.5216\n",
      "Epoch 2/100\n",
      "100/100 [==============================] - 15s - loss: 0.6820 - acc: 0.5662 - val_loss: 0.6555 - val_acc: 0.6321\n",
      "Epoch 3/100\n",
      "100/100 [==============================] - 15s - loss: 0.6694 - acc: 0.5884 - val_loss: 0.6428 - val_acc: 0.6288\n",
      "Epoch 4/100\n",
      "100/100 [==============================] - 15s - loss: 0.6476 - acc: 0.6147 - val_loss: 0.6098 - val_acc: 0.6753\n",
      "Epoch 5/100\n",
      "100/100 [==============================] - 16s - loss: 0.6282 - acc: 0.6413 - val_loss: 0.5964 - val_acc: 0.6561\n",
      "Epoch 6/100\n",
      "100/100 [==============================] - 15s - loss: 0.6138 - acc: 0.6531 - val_loss: 0.6008 - val_acc: 0.6611\n",
      "Epoch 7/100\n",
      "100/100 [==============================] - 15s - loss: 0.6004 - acc: 0.6616 - val_loss: 0.5630 - val_acc: 0.6991\n",
      "Epoch 8/100\n",
      "100/100 [==============================] - 15s - loss: 0.5865 - acc: 0.6900 - val_loss: 0.5681 - val_acc: 0.6834\n",
      "Epoch 9/100\n",
      "100/100 [==============================] - 15s - loss: 0.5906 - acc: 0.6753 - val_loss: 0.5864 - val_acc: 0.6656\n",
      "Epoch 10/100\n",
      "100/100 [==============================] - 15s - loss: 0.5897 - acc: 0.6753 - val_loss: 0.5567 - val_acc: 0.6904\n",
      "Epoch 11/100\n",
      "100/100 [==============================] - 15s - loss: 0.5792 - acc: 0.6903 - val_loss: 0.5865 - val_acc: 0.6637\n",
      "Epoch 12/100\n",
      "100/100 [==============================] - 15s - loss: 0.5630 - acc: 0.7122 - val_loss: 0.5443 - val_acc: 0.7049\n",
      "Epoch 13/100\n",
      "100/100 [==============================] - 15s - loss: 0.5681 - acc: 0.7094 - val_loss: 0.5454 - val_acc: 0.7157\n",
      "Epoch 14/100\n",
      "100/100 [==============================] - 15s - loss: 0.5515 - acc: 0.7103 - val_loss: 0.5424 - val_acc: 0.7036\n",
      "Epoch 15/100\n",
      "100/100 [==============================] - 15s - loss: 0.5540 - acc: 0.7213 - val_loss: 0.5290 - val_acc: 0.7284\n",
      "Epoch 16/100\n",
      "100/100 [==============================] - 15s - loss: 0.5406 - acc: 0.7197 - val_loss: 0.5232 - val_acc: 0.7345\n",
      "Epoch 17/100\n",
      "100/100 [==============================] - 15s - loss: 0.5513 - acc: 0.7122 - val_loss: 0.5436 - val_acc: 0.7081\n",
      "Epoch 18/100\n",
      "100/100 [==============================] - 15s - loss: 0.5368 - acc: 0.7219 - val_loss: 0.5077 - val_acc: 0.7481\n",
      "Epoch 19/100\n",
      "100/100 [==============================] - 15s - loss: 0.5334 - acc: 0.7241 - val_loss: 0.5922 - val_acc: 0.6862\n",
      "Epoch 20/100\n",
      "100/100 [==============================] - 15s - loss: 0.5363 - acc: 0.7197 - val_loss: 0.4963 - val_acc: 0.7576\n",
      "Epoch 21/100\n",
      "100/100 [==============================] - 16s - loss: 0.5261 - acc: 0.7344 - val_loss: 0.5023 - val_acc: 0.7442\n",
      "Epoch 22/100\n",
      "100/100 [==============================] - 16s - loss: 0.5272 - acc: 0.7250 - val_loss: 0.4885 - val_acc: 0.7532\n",
      "Epoch 23/100\n",
      "100/100 [==============================] - 15s - loss: 0.5197 - acc: 0.7412 - val_loss: 0.4731 - val_acc: 0.7595\n",
      "Epoch 24/100\n",
      "100/100 [==============================] - 15s - loss: 0.5017 - acc: 0.7566 - val_loss: 0.5241 - val_acc: 0.7307\n",
      "Epoch 25/100\n",
      "100/100 [==============================] - 15s - loss: 0.5222 - acc: 0.7366 - val_loss: 0.4820 - val_acc: 0.7659\n",
      "Epoch 26/100\n",
      "100/100 [==============================] - 15s - loss: 0.4987 - acc: 0.7494 - val_loss: 0.4672 - val_acc: 0.7590\n",
      "Epoch 27/100\n",
      "100/100 [==============================] - 15s - loss: 0.5005 - acc: 0.7575 - val_loss: 0.4780 - val_acc: 0.7642\n",
      "Epoch 28/100\n",
      "100/100 [==============================] - 15s - loss: 0.4989 - acc: 0.7616 - val_loss: 0.5127 - val_acc: 0.7310\n",
      "Epoch 29/100\n",
      "100/100 [==============================] - 15s - loss: 0.4929 - acc: 0.7644 - val_loss: 0.5125 - val_acc: 0.7390\n",
      "Epoch 30/100\n",
      "100/100 [==============================] - 15s - loss: 0.4903 - acc: 0.7550 - val_loss: 0.4614 - val_acc: 0.7855\n",
      "Epoch 31/100\n",
      "100/100 [==============================] - 15s - loss: 0.4945 - acc: 0.7594 - val_loss: 0.4792 - val_acc: 0.7610\n",
      "Epoch 32/100\n",
      "100/100 [==============================] - 15s - loss: 0.4837 - acc: 0.7587 - val_loss: 0.4566 - val_acc: 0.7627\n",
      "Epoch 33/100\n",
      "100/100 [==============================] - 15s - loss: 0.4732 - acc: 0.7725 - val_loss: 0.4639 - val_acc: 0.7728\n",
      "Epoch 34/100\n",
      "100/100 [==============================] - 15s - loss: 0.4760 - acc: 0.7725 - val_loss: 0.4642 - val_acc: 0.7784\n",
      "Epoch 35/100\n",
      "100/100 [==============================] - 15s - loss: 0.4755 - acc: 0.7716 - val_loss: 0.4632 - val_acc: 0.7773\n",
      "Epoch 36/100\n",
      "100/100 [==============================] - 15s - loss: 0.4597 - acc: 0.7875 - val_loss: 0.4727 - val_acc: 0.7706\n",
      "Epoch 37/100\n",
      "100/100 [==============================] - 15s - loss: 0.4719 - acc: 0.7706 - val_loss: 0.4528 - val_acc: 0.7786\n",
      "Epoch 38/100\n",
      "100/100 [==============================] - 15s - loss: 0.4701 - acc: 0.7756 - val_loss: 0.4697 - val_acc: 0.7690\n",
      "Epoch 39/100\n",
      "100/100 [==============================] - 15s - loss: 0.4577 - acc: 0.7791 - val_loss: 0.4400 - val_acc: 0.8022\n",
      "Epoch 40/100\n",
      "100/100 [==============================] - 15s - loss: 0.4671 - acc: 0.7731 - val_loss: 0.4407 - val_acc: 0.7906\n",
      "Epoch 41/100\n",
      "100/100 [==============================] - 15s - loss: 0.4611 - acc: 0.7803 - val_loss: 0.4420 - val_acc: 0.7861\n",
      "Epoch 42/100\n",
      "100/100 [==============================] - 15s - loss: 0.4617 - acc: 0.7778 - val_loss: 0.4419 - val_acc: 0.7900\n",
      "Epoch 43/100\n",
      "100/100 [==============================] - 15s - loss: 0.4561 - acc: 0.7875 - val_loss: 0.4328 - val_acc: 0.7989\n",
      "Epoch 44/100\n",
      "100/100 [==============================] - 15s - loss: 0.4607 - acc: 0.7788 - val_loss: 0.4521 - val_acc: 0.7693\n",
      "Epoch 45/100\n",
      "100/100 [==============================] - 15s - loss: 0.4502 - acc: 0.7872 - val_loss: 0.4263 - val_acc: 0.7963\n",
      "Epoch 46/100\n",
      "100/100 [==============================] - 15s - loss: 0.4501 - acc: 0.7866 - val_loss: 0.4375 - val_acc: 0.8035\n",
      "Epoch 47/100\n",
      "100/100 [==============================] - 15s - loss: 0.4435 - acc: 0.7928 - val_loss: 0.4528 - val_acc: 0.7874\n",
      "Epoch 48/100\n",
      "100/100 [==============================] - 15s - loss: 0.4573 - acc: 0.7766 - val_loss: 0.4425 - val_acc: 0.7843\n",
      "Epoch 49/100\n",
      "100/100 [==============================] - 15s - loss: 0.4386 - acc: 0.7944 - val_loss: 0.4200 - val_acc: 0.8061\n",
      "Epoch 50/100\n",
      "100/100 [==============================] - 15s - loss: 0.4318 - acc: 0.8016 - val_loss: 0.4357 - val_acc: 0.7938\n",
      "Epoch 51/100\n",
      "100/100 [==============================] - 15s - loss: 0.4372 - acc: 0.7975 - val_loss: 0.4407 - val_acc: 0.7964\n",
      "Epoch 52/100\n",
      "100/100 [==============================] - 15s - loss: 0.4245 - acc: 0.7997 - val_loss: 0.4131 - val_acc: 0.8014\n",
      "Epoch 53/100\n",
      "100/100 [==============================] - 15s - loss: 0.4459 - acc: 0.7969 - val_loss: 0.4124 - val_acc: 0.8242\n",
      "Epoch 54/100\n",
      "100/100 [==============================] - 15s - loss: 0.4246 - acc: 0.8025 - val_loss: 0.5380 - val_acc: 0.7616\n",
      "Epoch 55/100\n",
      "100/100 [==============================] - 15s - loss: 0.4294 - acc: 0.7991 - val_loss: 0.4369 - val_acc: 0.7944\n",
      "Epoch 56/100\n",
      "100/100 [==============================] - 16s - loss: 0.4185 - acc: 0.8062 - val_loss: 0.4809 - val_acc: 0.7822\n",
      "Epoch 57/100\n",
      "100/100 [==============================] - 15s - loss: 0.4242 - acc: 0.8044 - val_loss: 0.4234 - val_acc: 0.8065\n",
      "Epoch 58/100\n",
      "100/100 [==============================] - 15s - loss: 0.4255 - acc: 0.8056 - val_loss: 0.4190 - val_acc: 0.7976\n",
      "Epoch 59/100\n",
      "100/100 [==============================] - 15s - loss: 0.4347 - acc: 0.7922 - val_loss: 0.4249 - val_acc: 0.8093\n",
      "Epoch 60/100\n",
      "100/100 [==============================] - 15s - loss: 0.4125 - acc: 0.8134 - val_loss: 0.4315 - val_acc: 0.8154\n",
      "Epoch 61/100\n",
      "100/100 [==============================] - 15s - loss: 0.4254 - acc: 0.8016 - val_loss: 0.4295 - val_acc: 0.8067\n",
      "Epoch 62/100\n",
      "100/100 [==============================] - 15s - loss: 0.3910 - acc: 0.8297 - val_loss: 0.4991 - val_acc: 0.7735\n",
      "Epoch 63/100\n",
      "100/100 [==============================] - 15s - loss: 0.4108 - acc: 0.8137 - val_loss: 0.4622 - val_acc: 0.7773\n",
      "Epoch 64/100\n",
      "100/100 [==============================] - 15s - loss: 0.4075 - acc: 0.8094 - val_loss: 0.3949 - val_acc: 0.8273\n",
      "Epoch 65/100\n",
      "100/100 [==============================] - 15s - loss: 0.4166 - acc: 0.8081 - val_loss: 0.3980 - val_acc: 0.8280\n",
      "Epoch 66/100\n"
     ]
    },
    {
     "name": "stdout",
     "output_type": "stream",
     "text": [
      "100/100 [==============================] - 15s - loss: 0.4077 - acc: 0.8156 - val_loss: 0.4306 - val_acc: 0.8061\n",
      "Epoch 67/100\n",
      "100/100 [==============================] - 15s - loss: 0.4046 - acc: 0.8156 - val_loss: 0.4423 - val_acc: 0.8141\n",
      "Epoch 68/100\n",
      "100/100 [==============================] - 15s - loss: 0.3865 - acc: 0.8247 - val_loss: 0.6020 - val_acc: 0.7354\n",
      "Epoch 69/100\n",
      "100/100 [==============================] - 16s - loss: 0.3956 - acc: 0.8153 - val_loss: 0.3984 - val_acc: 0.8138\n",
      "Epoch 70/100\n",
      "100/100 [==============================] - 15s - loss: 0.3969 - acc: 0.8216 - val_loss: 0.4399 - val_acc: 0.8033\n",
      "Epoch 71/100\n",
      "100/100 [==============================] - 16s - loss: 0.3959 - acc: 0.8206 - val_loss: 0.3954 - val_acc: 0.8247\n",
      "Epoch 72/100\n",
      "100/100 [==============================] - 15s - loss: 0.3937 - acc: 0.8259 - val_loss: 0.4071 - val_acc: 0.8287\n",
      "Epoch 73/100\n",
      "100/100 [==============================] - 15s - loss: 0.3951 - acc: 0.8247 - val_loss: 0.4013 - val_acc: 0.8211\n",
      "Epoch 74/100\n",
      "100/100 [==============================] - 15s - loss: 0.3973 - acc: 0.8150 - val_loss: 0.3740 - val_acc: 0.8351\n",
      "Epoch 75/100\n",
      "100/100 [==============================] - 15s - loss: 0.3845 - acc: 0.8241 - val_loss: 0.5156 - val_acc: 0.7678\n",
      "Epoch 76/100\n",
      "100/100 [==============================] - 15s - loss: 0.3673 - acc: 0.8372 - val_loss: 0.4577 - val_acc: 0.8125\n",
      "Epoch 77/100\n",
      "100/100 [==============================] - 15s - loss: 0.3899 - acc: 0.8228 - val_loss: 0.4018 - val_acc: 0.8350\n",
      "Epoch 78/100\n",
      "100/100 [==============================] - 15s - loss: 0.3797 - acc: 0.8275 - val_loss: 0.3872 - val_acc: 0.8338\n",
      "Epoch 79/100\n",
      "100/100 [==============================] - 15s - loss: 0.3879 - acc: 0.8269 - val_loss: 0.3863 - val_acc: 0.8267\n",
      "Epoch 80/100\n",
      "100/100 [==============================] - 15s - loss: 0.3890 - acc: 0.8288 - val_loss: 0.4546 - val_acc: 0.8014\n",
      "Epoch 81/100\n",
      "100/100 [==============================] - 15s - loss: 0.3733 - acc: 0.8322 - val_loss: 0.3943 - val_acc: 0.8189\n",
      "Epoch 82/100\n",
      "100/100 [==============================] - 15s - loss: 0.3756 - acc: 0.8319 - val_loss: 0.3989 - val_acc: 0.8274\n",
      "Epoch 83/100\n",
      "100/100 [==============================] - 15s - loss: 0.3707 - acc: 0.8375 - val_loss: 0.3861 - val_acc: 0.8376\n",
      "Epoch 84/100\n",
      "100/100 [==============================] - 15s - loss: 0.3665 - acc: 0.8412 - val_loss: 0.3711 - val_acc: 0.8293\n",
      "Epoch 85/100\n",
      "100/100 [==============================] - 15s - loss: 0.3660 - acc: 0.8419 - val_loss: 0.4003 - val_acc: 0.8204\n",
      "Epoch 86/100\n",
      "100/100 [==============================] - 15s - loss: 0.3749 - acc: 0.8309 - val_loss: 0.4002 - val_acc: 0.8325\n",
      "Epoch 87/100\n",
      "100/100 [==============================] - 15s - loss: 0.3665 - acc: 0.8372 - val_loss: 0.4056 - val_acc: 0.8192\n",
      "Epoch 88/100\n",
      "100/100 [==============================] - 15s - loss: 0.3720 - acc: 0.8328 - val_loss: 0.4255 - val_acc: 0.8185\n",
      "Epoch 89/100\n",
      "100/100 [==============================] - 15s - loss: 0.3606 - acc: 0.8406 - val_loss: 0.3986 - val_acc: 0.8215\n",
      "Epoch 90/100\n",
      "100/100 [==============================] - 15s - loss: 0.3521 - acc: 0.8422 - val_loss: 0.4149 - val_acc: 0.8268\n",
      "Epoch 91/100\n",
      "100/100 [==============================] - 15s - loss: 0.3523 - acc: 0.8434 - val_loss: 0.3923 - val_acc: 0.8454\n",
      "Epoch 92/100\n",
      "100/100 [==============================] - 15s - loss: 0.3494 - acc: 0.8475 - val_loss: 0.4643 - val_acc: 0.7976\n",
      "Epoch 93/100\n",
      "100/100 [==============================] - 15s - loss: 0.3414 - acc: 0.8437 - val_loss: 0.3920 - val_acc: 0.8299\n",
      "Epoch 94/100\n",
      "100/100 [==============================] - 15s - loss: 0.3425 - acc: 0.8497 - val_loss: 0.3910 - val_acc: 0.8331\n",
      "Epoch 95/100\n",
      "100/100 [==============================] - 15s - loss: 0.3383 - acc: 0.8522 - val_loss: 0.7059 - val_acc: 0.7214\n",
      "Epoch 96/100\n",
      "100/100 [==============================] - 15s - loss: 0.3555 - acc: 0.8425 - val_loss: 0.4097 - val_acc: 0.8312\n",
      "Epoch 97/100\n",
      "100/100 [==============================] - 15s - loss: 0.3414 - acc: 0.8488 - val_loss: 0.4102 - val_acc: 0.8154\n",
      "Epoch 98/100\n",
      "100/100 [==============================] - 15s - loss: 0.3290 - acc: 0.8566 - val_loss: 0.5329 - val_acc: 0.7925\n",
      "Epoch 99/100\n",
      "100/100 [==============================] - 15s - loss: 0.3369 - acc: 0.8519 - val_loss: 0.4015 - val_acc: 0.8370\n",
      "Epoch 100/100\n",
      "100/100 [==============================] - 15s - loss: 0.3264 - acc: 0.8550 - val_loss: 0.4492 - val_acc: 0.8274\n"
     ]
    }
   ],
   "source": [
    "# Retrain the model\n",
    "history = model.fit_generator(train_generator, \n",
    "                              validation_data=validation_generator, \n",
    "                              steps_per_epoch=100, \n",
    "                              epochs=100, \n",
    "                              validation_steps=50)"
   ]
  },
  {
   "cell_type": "code",
   "execution_count": 17,
   "metadata": {
    "collapsed": true
   },
   "outputs": [],
   "source": [
    "model.save('cats_and_dogs_small_2.h5')"
   ]
  },
  {
   "cell_type": "code",
   "execution_count": 18,
   "metadata": {},
   "outputs": [
    {
     "data": {
      "image/png": "[encoded data removed]",
      "text/plain": [
       "<matplotlib.figure.Figure at 0x7f3cc347d5f8>"
      ]
     },
     "metadata": {},
     "output_type": "display_data"
    },
    {
     "data": {
      "image/png": "[encoded data removed]",
      "text/plain": [
       "<matplotlib.figure.Figure at 0x7f3cc32ca2e8>"
      ]
     },
     "metadata": {},
     "output_type": "display_data"
    }
   ],
   "source": [
    "import matplotlib.pyplot as plt\n",
    "\n",
    "acc = history.history['acc']\n",
    "val_acc = history.history['val_acc']\n",
    "loss = history.history['loss']\n",
    "val_loss = history.history['val_loss']\n",
    "\n",
    "epochs = range(1, len(acc)+1)\n",
    "\n",
    "plt.plot(epochs, acc, 'bo', label='Training acc')\n",
    "plt.plot(epochs, val_acc, 'b', label='Validation acc')\n",
    "plt.title('Training and validation accuracy')\n",
    "plt.legend()\n",
    "\n",
    "plt.figure()\n",
    "plt.plot(epochs, loss, 'bo', label='Training losses')\n",
    "plt.plot(epochs, val_loss, 'b', label='Validation losses')\n",
    "plt.title('Training and validation loss')\n",
    "plt.legend()\n",
    "\n",
    "plt.show()"
   ]
  },
  {
   "cell_type": "code",
   "execution_count": null,
   "metadata": {
    "collapsed": true
   },
   "outputs": [],
   "source": []
  }
 ],
 "metadata": {
  "kernelspec": {
   "display_name": "Python 3",
   "language": "python",
   "name": "python3"
  },
  "language_info": {
   "codemirror_mode": {
    "name": "ipython",
    "version": 3
   },
   "file_extension": ".py",
   "mimetype": "text/x-python",
   "name": "python",
   "nbconvert_exporter": "python",
   "pygments_lexer": "ipython3",
   "version": "3.6.1"
  }
 },
 "nbformat": 4,
 "nbformat_minor": 2
}
