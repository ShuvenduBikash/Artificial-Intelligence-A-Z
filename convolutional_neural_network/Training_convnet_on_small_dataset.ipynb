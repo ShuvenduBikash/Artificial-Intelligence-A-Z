{
 "cells": [
  {
   "cell_type": "markdown",
   "metadata": {},
   "source": [
    "# Loading dataset"
   ]
  },
  {
   "cell_type": "code",
   "execution_count": null,
   "metadata": {},
   "outputs": [],
   "source": [
    "import os, shutil\n",
    "original_dataset_dir = '/home/shuvendu/Documents/datasets/Cat_and_Dog/train'\n",
    "base_dir = 'E:\\\\Datasets\\\\Cat_and_Dog_small'"
   ]
  },
  {
   "cell_type": "code",
   "execution_count": null,
   "metadata": {},
   "outputs": [],
   "source": [
    "os.mkdir(base_dir)"
   ]
  },
  {
   "cell_type": "code",
   "execution_count": null,
   "metadata": {},
   "outputs": [],
   "source": [
    "# Make the required datadir\n",
    "train_dir = os.path.join(base_dir, 'train')\n",
    "\n",
    "validation_dir = os.path.join(base_dir, 'validation')\n",
    "\n",
    "test_dir = os.path.join(base_dir, 'test')\n"
   ]
  },
  {
   "cell_type": "code",
   "execution_count": null,
   "metadata": {},
   "outputs": [],
   "source": [
    "os.mkdir(test_dir)\n",
    "os.mkdir(train_dir)\n",
    "os.mkdir(validation_dir)"
   ]
  },
  {
   "cell_type": "code",
   "execution_count": null,
   "metadata": {},
   "outputs": [],
   "source": [
    "train_cats_dir = os.path.join(train_dir, 'cats')\n",
    "os.mkdir(train_cats_dir)\n",
    "\n",
    "train_dogs_dir = os.path.join(train_dir, 'dogs')\n",
    "os.mkdir(train_dogs_dir)\n",
    "\n",
    "validation_cats_dir = os.path.join(validation_dir, 'cats')\n",
    "os.mkdir(validation_cats_dir)\n",
    "\n",
    "validation_dogs_dir = os.path.join(validation_dir, 'dogs')\n",
    "os.mkdir(validation_dogs_dir)\n",
    "\n",
    "test_cats_dir = os.path.join(test_dir, 'cats')\n",
    "os.mkdir(test_cats_dir)\n",
    "\n",
    "test_dogs_dir = os.path.join(test_dir, 'dogs')\n",
    "os.mkdir(test_dogs_dir)"
   ]
  },
  {
   "cell_type": "code",
   "execution_count": null,
   "metadata": {},
   "outputs": [],
   "source": [
    "fnames = ['cat.{}.jpg'.format(i) for i in range(1000)]\n",
    "for fname in fnames:\n",
    "    src = os.path.join(original_dataset_dir, fname)\n",
    "    dst = os.path.join(train_cats_dir, fname)\n",
    "    shutil.copyfile(src, dst)\n",
    "    \n",
    "fnames = ['cat.{}.jpg'.format(i) for i in range(1000, 1500)]\n",
    "for fname in fnames:\n",
    "    src = os.path.join(original_dataset_dir, fname)\n",
    "    dst = os.path.join(validation_cats_dir, fname)\n",
    "    shutil.copyfile(src, dst)\n",
    "    \n",
    "fnames = ['cat.{}.jpg'.format(i) for i in range(1500, 2000)]\n",
    "for fname in fnames:\n",
    "    src = os.path.join(original_dataset_dir, fname)\n",
    "    dst = os.path.join(test_cats_dir, fname)\n",
    "    shutil.copyfile(src, dst)"
   ]
  },
  {
   "cell_type": "code",
   "execution_count": null,
   "metadata": {},
   "outputs": [],
   "source": [
    "fnames = ['dog.{}.jpg'.format(i) for i in range(1000)]\n",
    "for fname in fnames:\n",
    "    src = os.path.join(original_dataset_dir, fname)\n",
    "    dst = os.path.join(train_dogs_dir, fname)\n",
    "    shutil.copyfile(src, dst)\n",
    "    \n",
    "fnames = ['dog.{}.jpg'.format(i) for i in range(1000, 1500)]\n",
    "for fname in fnames:\n",
    "    src = os.path.join(original_dataset_dir, fname)\n",
    "    dst = os.path.join(validation_dogs_dir, fname)\n",
    "    shutil.copyfile(src, dst)\n",
    "    \n",
    "fnames = ['dog.{}.jpg'.format(i) for i in range(1500, 2000)]\n",
    "for fname in fnames:\n",
    "    src = os.path.join(original_dataset_dir, fname)\n",
    "    dst = os.path.join(test_dogs_dir, fname)\n",
    "    shutil.copyfile(src, dst)"
   ]
  },
  {
   "cell_type": "markdown",
   "metadata": {},
   "source": [
    "# Data Preprocessing"
   ]
  },
  {
   "cell_type": "code",
   "execution_count": null,
   "metadata": {},
   "outputs": [],
   "source": [
    "from keras.preprocessing.image import ImageDataGenerator"
   ]
  },
  {
   "cell_type": "code",
   "execution_count": null,
   "metadata": {},
   "outputs": [],
   "source": [
    "train_datagen = ImageDataGenerator(rescale=1./255)\n",
    "test_datagen = ImageDataGenerator(rescale=1./255)\n"
   ]
  },
  {
   "cell_type": "code",
   "execution_count": null,
   "metadata": {},
   "outputs": [],
   "source": [
    "train_generator = train_datagen.flow_from_directory(\n",
    "    train_dir,\n",
    "    target_size = (150, 150),\n",
    "    batch_size=20,\n",
    "    class_mode='binary'\n",
    ")\n",
    "\n",
    "validation_generator = train_datagen.flow_from_directory(\n",
    "    validation_dir,\n",
    "    target_size = (150, 150),\n",
    "    batch_size=20,\n",
    "    class_mode='binary'\n",
    ")"
   ]
  },
  {
   "cell_type": "code",
   "execution_count": null,
   "metadata": {},
   "outputs": [],
   "source": [
    "for data_batch, labels_batch in train_generator:\n",
    "    print('data batch shape: ', data_batch.shape)\n",
    "    print('labels batch shape: ', labels_batch.shape)\n",
    "    break"
   ]
  },
  {
   "cell_type": "markdown",
   "metadata": {},
   "source": [
    "# Build the model"
   ]
  },
  {
   "cell_type": "code",
   "execution_count": null,
   "metadata": {},
   "outputs": [],
   "source": [
    "from keras import models, layers, metrics, losses, optimizers"
   ]
  },
  {
   "cell_type": "code",
   "execution_count": null,
   "metadata": {},
   "outputs": [],
   "source": [
    "model = models.Sequential()\n",
    "\n",
    "model.add(layers.Conv2D(32, (3, 3), activation='relu', input_shape=(150, 150, 3)))\n",
    "model.add(layers.MaxPool2D(2, 2))\n",
    "model.add(layers.Conv2D(64, (3, 3), activation='relu'))\n",
    "model.add(layers.MaxPool2D(2,2))\n",
    "model.add(layers.Conv2D(128, (3, 3), activation='relu'))\n",
    "model.add(layers.MaxPool2D(2, 2))\n",
    "model.add(layers.Conv2D(128, (3, 3), activation='relu'))\n",
    "model.add(layers.MaxPool2D(2, 2))\n",
    "\n",
    "model.add(layers.Flatten())\n",
    "model.add(layers.Dense(512, activation='relu'))\n",
    "model.add(layers.Dense(1, activation='sigmoid'))\n",
    "\n",
    "model.summary()"
   ]
  },
  {
   "cell_type": "code",
   "execution_count": null,
   "metadata": {},
   "outputs": [],
   "source": [
    "# compile the model\n",
    "model.compile(optimizer=optimizers.RMSprop(lr=1e-4),\n",
    "              loss = losses.binary_crossentropy,\n",
    "              metrics = ['acc']\n",
    "             )"
   ]
  },
  {
   "cell_type": "markdown",
   "metadata": {},
   "source": [
    "# Training the model"
   ]
  },
  {
   "cell_type": "code",
   "execution_count": 19,
   "metadata": {},
   "outputs": [
    {
     "name": "stdout",
     "output_type": "stream",
     "text": [
      "100/100 [==============================] - 22s 221ms/step - loss: 0.6891 - acc: 0.5315 - val_loss: 0.6775 - val_acc: 0.5362\n",
      "Epoch 2/30\n",
      "100/100 [==============================] - 20s 200ms/step - loss: 0.6719 - acc: 0.5847 - val_loss: 0.6558 - val_acc: 0.6142\n",
      "Epoch 3/30\n",
      "100/100 [==============================] - 20s 199ms/step - loss: 0.6550 - acc: 0.6022 - val_loss: 0.6354 - val_acc: 0.6237\n",
      "Epoch 4/30\n",
      "100/100 [==============================] - 21s 213ms/step - loss: 0.6287 - acc: 0.6456 - val_loss: 0.6067 - val_acc: 0.6510\n",
      "Epoch 5/30\n",
      "100/100 [==============================] - 20s 202ms/step - loss: 0.6182 - acc: 0.6575 - val_loss: 0.5878 - val_acc: 0.6802\n",
      "Epoch 6/30\n",
      "100/100 [==============================] - 21s 213ms/step - loss: 0.5928 - acc: 0.6859 - val_loss: 0.5771 - val_acc: 0.6878\n",
      "Epoch 7/30\n",
      "100/100 [==============================] - 20s 196ms/step - loss: 0.5925 - acc: 0.6809 - val_loss: 0.5812 - val_acc: 0.6897\n",
      "Epoch 8/30\n",
      "100/100 [==============================] - 20s 196ms/step - loss: 0.5795 - acc: 0.6919 - val_loss: 0.5701 - val_acc: 0.6973\n",
      "Epoch 9/30\n",
      "100/100 [==============================] - 20s 198ms/step - loss: 0.5843 - acc: 0.6819 - val_loss: 0.5591 - val_acc: 0.7018\n",
      "Epoch 10/30\n",
      "100/100 [==============================] - 20s 196ms/step - loss: 0.5695 - acc: 0.7025 - val_loss: 0.5306 - val_acc: 0.7145\n",
      "Epoch 11/30\n",
      "100/100 [==============================] - 20s 204ms/step - loss: 0.5674 - acc: 0.7012 - val_loss: 0.5410 - val_acc: 0.7227\n",
      "Epoch 12/30\n",
      "100/100 [==============================] - 20s 195ms/step - loss: 0.5490 - acc: 0.7244 - val_loss: 0.5828 - val_acc: 0.6999\n",
      "Epoch 13/30\n",
      "100/100 [==============================] - 19s 195ms/step - loss: 0.5466 - acc: 0.7069 - val_loss: 0.5611 - val_acc: 0.7030\n",
      "Epoch 14/30\n",
      "100/100 [==============================] - 20s 197ms/step - loss: 0.5427 - acc: 0.7266 - val_loss: 0.5238 - val_acc: 0.7234\n",
      "Epoch 15/30\n",
      "100/100 [==============================] - 19s 195ms/step - loss: 0.5449 - acc: 0.7144 - val_loss: 0.5582 - val_acc: 0.7246\n",
      "Epoch 16/30\n",
      "100/100 [==============================] - 20s 200ms/step - loss: 0.5378 - acc: 0.7181 - val_loss: 0.5358 - val_acc: 0.7183\n",
      "Epoch 17/30\n",
      "100/100 [==============================] - 19s 195ms/step - loss: 0.5293 - acc: 0.7309 - val_loss: 0.5082 - val_acc: 0.7456\n",
      "Epoch 18/30\n",
      "100/100 [==============================] - 21s 214ms/step - loss: 0.5230 - acc: 0.7366 - val_loss: 0.4913 - val_acc: 0.7570\n",
      "Epoch 19/30\n",
      "100/100 [==============================] - 20s 196ms/step - loss: 0.5106 - acc: 0.7425 - val_loss: 0.5248 - val_acc: 0.7284\n",
      "Epoch 20/30\n",
      "100/100 [==============================] - 19s 195ms/step - loss: 0.5103 - acc: 0.7472 - val_loss: 0.4950 - val_acc: 0.7500\n",
      "Epoch 21/30\n",
      "100/100 [==============================] - 20s 197ms/step - loss: 0.5092 - acc: 0.7481 - val_loss: 0.5031 - val_acc: 0.7449\n",
      "Epoch 22/30\n",
      "100/100 [==============================] - 20s 196ms/step - loss: 0.5042 - acc: 0.7516 - val_loss: 0.4700 - val_acc: 0.7709\n",
      "Epoch 23/30\n",
      "100/100 [==============================] - 21s 209ms/step - loss: 0.5068 - acc: 0.7462 - val_loss: 0.4886 - val_acc: 0.7557\n",
      "Epoch 24/30\n",
      "100/100 [==============================] - 20s 198ms/step - loss: 0.4896 - acc: 0.7541 - val_loss: 0.4990 - val_acc: 0.7532\n",
      "Epoch 25/30\n",
      "100/100 [==============================] - 20s 197ms/step - loss: 0.4959 - acc: 0.7562 - val_loss: 0.4934 - val_acc: 0.7595\n",
      "Epoch 26/30\n",
      "100/100 [==============================] - 20s 201ms/step - loss: 0.4798 - acc: 0.7691 - val_loss: 0.5063 - val_acc: 0.7475\n",
      "Epoch 27/30\n",
      "100/100 [==============================] - 20s 198ms/step - loss: 0.4746 - acc: 0.7819 - val_loss: 0.5043 - val_acc: 0.7487\n",
      "Epoch 28/30\n",
      "100/100 [==============================] - 20s 205ms/step - loss: 0.4698 - acc: 0.7728 - val_loss: 0.5197 - val_acc: 0.7437\n",
      "Epoch 29/30\n",
      "100/100 [==============================] - 20s 197ms/step - loss: 0.4700 - acc: 0.7784 - val_loss: 0.4622 - val_acc: 0.7760\n",
      "Epoch 30/30\n",
      "100/100 [==============================] - 20s 197ms/step - loss: 0.4676 - acc: 0.7753 - val_loss: 0.5466 - val_acc: 0.7303\n"
     ]
    }
   ],
   "source": [
    "history = model.fit_generator(\n",
    "    train_generator,\n",
    "    steps_per_epoch = 100,\n",
    "    epochs=30,\n",
    "    validation_data=validation_generator,\n",
    "    validation_steps=50\n",
    ")"
   ]
  },
  {
   "cell_type": "code",
   "execution_count": null,
   "metadata": {},
   "outputs": [],
   "source": [
    "# save the model\n",
    "model.save('cats_and_dogs_small_1.h5')"
   ]
  },
  {
   "cell_type": "markdown",
   "metadata": {},
   "source": [
    "# Plotting data for observatoin"
   ]
  },
  {
   "cell_type": "code",
   "execution_count": null,
   "metadata": {},
   "outputs": [],
   "source": [
    "import matplotlib.pyplot as plt\n",
    "\n",
    "acc = history.history['acc']\n",
    "val_acc = history.history['val_acc']\n",
    "loss = history.history['loss']\n",
    "val_loss = history.history['val_loss']\n",
    "\n",
    "epochs = range(1, len(acc)+1)\n",
    "\n",
    "plt.plot(epochs, acc, 'bo', label='Training acc')\n",
    "plt.plot(epochs, val_acc, 'b', label='Validation acc')\n",
    "plt.title('Training and validation accuracy')\n",
    "plt.legend()\n",
    "\n",
    "plt.figure()\n",
    "plt.plot(epochs, loss, 'bo', label='Training losses')\n",
    "plt.plot(epochs, val_loss, 'b', label='Validation losses')\n",
    "plt.title('Training and validation loss')\n",
    "plt.legend()\n",
    "\n",
    "plt.show()"
   ]
  },
  {
   "cell_type": "markdown",
   "metadata": {},
   "source": [
    "# Image augmentation: way of removing overfitting\n",
    "The goal is that at training time,\n",
    "your model will never see the exact same picture twice. This helps expose the model\n",
    "to more aspects of the data and generalize better."
   ]
  },
  {
   "cell_type": "code",
   "execution_count": null,
   "metadata": {},
   "outputs": [],
   "source": [
    "train_datagen = ImageDataGenerator(rescale=1./255, \n",
    "                                   rotation_range=40, \n",
    "                                   width_shift_range=0.2, \n",
    "                                   height_shift_range=0.2, \n",
    "                                   shear_range=0.2,\n",
    "                                   zoom_range=0.2, \n",
    "                                   horizontal_flip=True)\n",
    "test_datagen = ImageDataGenerator(rescale=1./255)\n",
    "\n",
    "train_generator = train_datagen.flow_from_directory(train_dir,\n",
    "                                                    target_size=(150, 150), \n",
    "                                                    batch_size=32, \n",
    "                                                    class_mode='binary')\n",
    "\n",
    "validation_generator = test_datagen.flow_from_directory(validation_dir,\n",
    "                                                       target_size=(150, 150),\n",
    "                                                       batch_size=32,\n",
    "                                                       class_mode='binary')"
   ]
  },
  {
   "cell_type": "code",
   "execution_count": null,
   "metadata": {},
   "outputs": [],
   "source": [
    "# Add a dropout layer to the model\n",
    "model = models.Sequential()\n",
    "\n",
    "model.add(layers.Conv2D(32, (3, 3), activation='relu', input_shape=(150, 150, 3)))\n",
    "model.add(layers.MaxPool2D(2, 2))\n",
    "model.add(layers.Conv2D(64, (3, 3), activation='relu'))\n",
    "model.add(layers.MaxPool2D(2,2))\n",
    "model.add(layers.Conv2D(128, (3, 3), activation='relu'))\n",
    "model.add(layers.MaxPool2D(2, 2))\n",
    "model.add(layers.Conv2D(128, (3, 3), activation='relu'))\n",
    "model.add(layers.MaxPool2D(2, 2))\n",
    "\n",
    "model.add(layers.Flatten())\n",
    "model.add(layers.Dropout(0.5))\n",
    "model.add(layers.Dense(512, activation='relu'))\n",
    "model.add(layers.Dense(1, activation='sigmoid'))\n",
    "\n",
    "model.summary()"
   ]
  },
  {
   "cell_type": "code",
   "execution_count": null,
   "metadata": {},
   "outputs": [],
   "source": [
    "model.compile(loss='binary_crossentropy', \n",
    "              optimizer=optimizers.RMSprop(lr=1e-4),\n",
    "              metrics=['acc'])"
   ]
  },
  {
   "cell_type": "code",
   "execution_count": null,
   "metadata": {},
   "outputs": [],
   "source": [
    "# Retrain the model\n",
    "history = model.fit_generator(train_generator, \n",
    "                              validation_data=validation_generator, \n",
    "                              steps_per_epoch=100, \n",
    "                              epochs=100, \n",
    "                              validation_steps=50)"
   ]
  },
  {
   "cell_type": "code",
   "execution_count": 20,
   "metadata": {},
   "outputs": [],
   "source": [
    "model.save('cats_and_dogs_small_2.h5')"
   ]
  },
  {
   "cell_type": "code",
   "execution_count": null,
   "metadata": {},
   "outputs": [],
   "source": [
    "import matplotlib.pyplot as plt\n",
    "\n",
    "acc = history.history['acc']\n",
    "val_acc = history.history['val_acc']\n",
    "loss = history.history['loss']\n",
    "val_loss = history.history['val_loss']\n",
    "\n",
    "epochs = range(1, len(acc)+1)\n",
    "\n",
    "plt.plot(epochs, acc, 'bo', label='Training acc')\n",
    "plt.plot(epochs, val_acc, 'b', label='Validation acc')\n",
    "plt.title('Training and validation accuracy')\n",
    "plt.legend()\n",
    "\n",
    "plt.figure()\n",
    "plt.plot(epochs, loss, 'bo', label='Training losses')\n",
    "plt.plot(epochs, val_loss, 'b', label='Validation losses')\n",
    "plt.title('Training and validation loss')\n",
    "plt.legend()\n",
    "\n",
    "plt.show()"
   ]
  },
  {
   "cell_type": "code",
   "execution_count": null,
   "metadata": {},
   "outputs": [],
   "source": []
  }
 ],
 "metadata": {
  "anaconda-cloud": {},
  "kernelspec": {
   "display_name": "Python [default]",
   "language": "python",
   "name": "python3"
  },
  "language_info": {
   "codemirror_mode": {
    "name": "ipython",
    "version": 3
   },
   "file_extension": ".py",
   "mimetype": "text/x-python",
   "name": "python",
   "nbconvert_exporter": "python",
   "pygments_lexer": "ipython3",
   "version": "3.5.2"
  }
 },
 "nbformat": 4,
 "nbformat_minor": 2
}
