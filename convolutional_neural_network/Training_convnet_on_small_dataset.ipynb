{
 "cells": [
  {
   "cell_type": "markdown",
   "metadata": {},
   "source": [
    "# Loading dataset"
   ]
  },
  {
   "cell_type": "code",
   "execution_count": 1,
   "metadata": {},
   "outputs": [],
   "source": [
    "import os, shutil\n",
    "original_dataset_dir = '/home/shuvendu/Documents/datasets/Cat_and_Dog/train'\n",
    "base_dir = 'E:\\\\Datasets\\\\Cat_and_Dog_small'"
   ]
  },
  {
   "cell_type": "code",
   "execution_count": null,
   "metadata": {
    "collapsed": true
   },
   "outputs": [],
   "source": [
    "os.mkdir(base_dir)"
   ]
  },
  {
   "cell_type": "code",
   "execution_count": 2,
   "metadata": {},
   "outputs": [],
   "source": [
    "# Make the required datadir\n",
    "train_dir = os.path.join(base_dir, 'train')\n",
    "\n",
    "validation_dir = os.path.join(base_dir, 'validation')\n",
    "\n",
    "test_dir = os.path.join(base_dir, 'test')\n"
   ]
  },
  {
   "cell_type": "code",
   "execution_count": null,
   "metadata": {
    "collapsed": true
   },
   "outputs": [],
   "source": [
    "os.mkdir(test_dir)\n",
    "os.mkdir(train_dir)\n",
    "os.mkdir(validation_dir)"
   ]
  },
  {
   "cell_type": "code",
   "execution_count": null,
   "metadata": {
    "collapsed": true
   },
   "outputs": [],
   "source": [
    "train_cats_dir = os.path.join(train_dir, 'cats')\n",
    "os.mkdir(train_cats_dir)\n",
    "\n",
    "train_dogs_dir = os.path.join(train_dir, 'dogs')\n",
    "os.mkdir(train_dogs_dir)\n",
    "\n",
    "validation_cats_dir = os.path.join(validation_dir, 'cats')\n",
    "os.mkdir(validation_cats_dir)\n",
    "\n",
    "validation_dogs_dir = os.path.join(validation_dir, 'dogs')\n",
    "os.mkdir(validation_dogs_dir)\n",
    "\n",
    "test_cats_dir = os.path.join(test_dir, 'cats')\n",
    "os.mkdir(test_cats_dir)\n",
    "\n",
    "test_dogs_dir = os.path.join(test_dir, 'dogs')\n",
    "os.mkdir(test_dogs_dir)"
   ]
  },
  {
   "cell_type": "code",
   "execution_count": null,
   "metadata": {
    "collapsed": true
   },
   "outputs": [],
   "source": [
    "fnames = ['cat.{}.jpg'.format(i) for i in range(1000)]\n",
    "for fname in fnames:\n",
    "    src = os.path.join(original_dataset_dir, fname)\n",
    "    dst = os.path.join(train_cats_dir, fname)\n",
    "    shutil.copyfile(src, dst)\n",
    "    \n",
    "fnames = ['cat.{}.jpg'.format(i) for i in range(1000, 1500)]\n",
    "for fname in fnames:\n",
    "    src = os.path.join(original_dataset_dir, fname)\n",
    "    dst = os.path.join(validation_cats_dir, fname)\n",
    "    shutil.copyfile(src, dst)\n",
    "    \n",
    "fnames = ['cat.{}.jpg'.format(i) for i in range(1500, 2000)]\n",
    "for fname in fnames:\n",
    "    src = os.path.join(original_dataset_dir, fname)\n",
    "    dst = os.path.join(test_cats_dir, fname)\n",
    "    shutil.copyfile(src, dst)"
   ]
  },
  {
   "cell_type": "code",
   "execution_count": null,
   "metadata": {
    "collapsed": true
   },
   "outputs": [],
   "source": [
    "fnames = ['dog.{}.jpg'.format(i) for i in range(1000)]\n",
    "for fname in fnames:\n",
    "    src = os.path.join(original_dataset_dir, fname)\n",
    "    dst = os.path.join(train_dogs_dir, fname)\n",
    "    shutil.copyfile(src, dst)\n",
    "    \n",
    "fnames = ['dog.{}.jpg'.format(i) for i in range(1000, 1500)]\n",
    "for fname in fnames:\n",
    "    src = os.path.join(original_dataset_dir, fname)\n",
    "    dst = os.path.join(validation_dogs_dir, fname)\n",
    "    shutil.copyfile(src, dst)\n",
    "    \n",
    "fnames = ['dog.{}.jpg'.format(i) for i in range(1500, 2000)]\n",
    "for fname in fnames:\n",
    "    src = os.path.join(original_dataset_dir, fname)\n",
    "    dst = os.path.join(test_dogs_dir, fname)\n",
    "    shutil.copyfile(src, dst)"
   ]
  },
  {
   "cell_type": "markdown",
   "metadata": {},
   "source": [
    "# Data Preprocessing"
   ]
  },
  {
   "cell_type": "code",
   "execution_count": 3,
   "metadata": {},
   "outputs": [
    {
     "name": "stderr",
     "output_type": "stream",
     "text": [
      "Using TensorFlow backend.\n"
     ]
    }
   ],
   "source": [
    "from keras.preprocessing.image import ImageDataGenerator"
   ]
  },
  {
   "cell_type": "code",
   "execution_count": 4,
   "metadata": {},
   "outputs": [],
   "source": [
    "train_datagen = ImageDataGenerator(rescale=1./255)\n",
    "test_datagen = ImageDataGenerator(rescale=1./255)\n"
   ]
  },
  {
   "cell_type": "code",
   "execution_count": 5,
   "metadata": {},
   "outputs": [
    {
     "name": "stdout",
     "output_type": "stream",
     "text": [
      "Found 2000 images belonging to 2 classes.\n",
      "Found 1000 images belonging to 2 classes.\n"
     ]
    }
   ],
   "source": [
    "train_generator = train_datagen.flow_from_directory(\n",
    "    train_dir,\n",
    "    target_size = (150, 150),\n",
    "    batch_size=20,\n",
    "    class_mode='binary'\n",
    ")\n",
    "\n",
    "validation_generator = train_datagen.flow_from_directory(\n",
    "    validation_dir,\n",
    "    target_size = (150, 150),\n",
    "    batch_size=20,\n",
    "    class_mode='binary'\n",
    ")"
   ]
  },
  {
   "cell_type": "code",
   "execution_count": 6,
   "metadata": {},
   "outputs": [
    {
     "name": "stdout",
     "output_type": "stream",
     "text": [
      "data batch shape:  (20, 150, 150, 3)\n",
      "labels batch shape:  (20,)\n"
     ]
    }
   ],
   "source": [
    "for data_batch, labels_batch in train_generator:\n",
    "    print('data batch shape: ', data_batch.shape)\n",
    "    print('labels batch shape: ', labels_batch.shape)\n",
    "    break"
   ]
  },
  {
   "cell_type": "markdown",
   "metadata": {},
   "source": [
    "# Build the model"
   ]
  },
  {
   "cell_type": "code",
   "execution_count": 7,
   "metadata": {},
   "outputs": [],
   "source": [
    "from keras import models, layers, metrics, losses, optimizers"
   ]
  },
  {
   "cell_type": "code",
   "execution_count": 8,
   "metadata": {},
   "outputs": [
    {
     "name": "stdout",
     "output_type": "stream",
     "text": [
      "_________________________________________________________________\n",
      "Layer (type)                 Output Shape              Param #   \n",
      "=================================================================\n",
      "conv2d_1 (Conv2D)            (None, 148, 148, 32)      896       \n",
      "_________________________________________________________________\n",
      "max_pooling2d_1 (MaxPooling2 (None, 74, 74, 32)        0         \n",
      "_________________________________________________________________\n",
      "conv2d_2 (Conv2D)            (None, 72, 72, 64)        18496     \n",
      "_________________________________________________________________\n",
      "max_pooling2d_2 (MaxPooling2 (None, 36, 36, 64)        0         \n",
      "_________________________________________________________________\n",
      "conv2d_3 (Conv2D)            (None, 34, 34, 128)       73856     \n",
      "_________________________________________________________________\n",
      "max_pooling2d_3 (MaxPooling2 (None, 17, 17, 128)       0         \n",
      "_________________________________________________________________\n",
      "conv2d_4 (Conv2D)            (None, 15, 15, 128)       147584    \n",
      "_________________________________________________________________\n",
      "max_pooling2d_4 (MaxPooling2 (None, 7, 7, 128)         0         \n",
      "_________________________________________________________________\n",
      "flatten_1 (Flatten)          (None, 6272)              0         \n",
      "_________________________________________________________________\n",
      "dense_1 (Dense)              (None, 512)               3211776   \n",
      "_________________________________________________________________\n",
      "dense_2 (Dense)              (None, 1)                 513       \n",
      "=================================================================\n",
      "Total params: 3,453,121\n",
      "Trainable params: 3,453,121\n",
      "Non-trainable params: 0\n",
      "_________________________________________________________________\n"
     ]
    }
   ],
   "source": [
    "model = models.Sequential()\n",
    "\n",
    "model.add(layers.Conv2D(32, (3, 3), activation='relu', input_shape=(150, 150, 3)))\n",
    "model.add(layers.MaxPool2D(2, 2))\n",
    "model.add(layers.Conv2D(64, (3, 3), activation='relu'))\n",
    "model.add(layers.MaxPool2D(2,2))\n",
    "model.add(layers.Conv2D(128, (3, 3), activation='relu'))\n",
    "model.add(layers.MaxPool2D(2, 2))\n",
    "model.add(layers.Conv2D(128, (3, 3), activation='relu'))\n",
    "model.add(layers.MaxPool2D(2, 2))\n",
    "\n",
    "model.add(layers.Flatten())\n",
    "model.add(layers.Dense(512, activation='relu'))\n",
    "model.add(layers.Dense(1, activation='sigmoid'))\n",
    "\n",
    "model.summary()"
   ]
  },
  {
   "cell_type": "code",
   "execution_count": 9,
   "metadata": {},
   "outputs": [],
   "source": [
    "# compile the model\n",
    "model.compile(optimizer=optimizers.RMSprop(lr=1e-4),\n",
    "              loss = losses.binary_crossentropy,\n",
    "              metrics = ['acc']\n",
    "             )"
   ]
  },
  {
   "cell_type": "markdown",
   "metadata": {},
   "source": [
    "# Training the model"
   ]
  },
  {
   "cell_type": "code",
   "execution_count": 10,
   "metadata": {},
   "outputs": [
    {
     "name": "stdout",
     "output_type": "stream",
     "text": [
      "Epoch 1/30\n",
      "100/100 [==============================] - 17s - loss: 0.6862 - acc: 0.5390 - val_loss: 0.6691 - val_acc: 0.5610\n",
      "Epoch 2/30\n",
      "100/100 [==============================] - 6s - loss: 0.6587 - acc: 0.6040 - val_loss: 0.6303 - val_acc: 0.6250\n",
      "Epoch 3/30\n",
      "100/100 [==============================] - 6s - loss: 0.6122 - acc: 0.6675 - val_loss: 0.5984 - val_acc: 0.6700\n",
      "Epoch 4/30\n",
      "100/100 [==============================] - 6s - loss: 0.5645 - acc: 0.7070 - val_loss: 0.5944 - val_acc: 0.6610\n",
      "Epoch 5/30\n",
      "100/100 [==============================] - 6s - loss: 0.5339 - acc: 0.7300 - val_loss: 0.5799 - val_acc: 0.6900\n",
      "Epoch 6/30\n",
      "100/100 [==============================] - 6s - loss: 0.5043 - acc: 0.7445 - val_loss: 0.5548 - val_acc: 0.7040\n",
      "Epoch 7/30\n",
      "100/100 [==============================] - 6s - loss: 0.4810 - acc: 0.7670 - val_loss: 0.5672 - val_acc: 0.6890\n",
      "Epoch 8/30\n",
      "100/100 [==============================] - 5s - loss: 0.4468 - acc: 0.7790 - val_loss: 0.5708 - val_acc: 0.7090\n",
      "Epoch 9/30\n",
      "100/100 [==============================] - 6s - loss: 0.4240 - acc: 0.8130 - val_loss: 0.5699 - val_acc: 0.7230\n",
      "Epoch 10/30\n",
      "100/100 [==============================] - 6s - loss: 0.4071 - acc: 0.8190 - val_loss: 0.5848 - val_acc: 0.7070\n",
      "Epoch 11/30\n",
      "100/100 [==============================] - 5s - loss: 0.3761 - acc: 0.8325 - val_loss: 0.5615 - val_acc: 0.7330\n",
      "Epoch 12/30\n",
      "100/100 [==============================] - 6s - loss: 0.3541 - acc: 0.8485 - val_loss: 0.5778 - val_acc: 0.7140\n",
      "Epoch 13/30\n",
      "100/100 [==============================] - 5s - loss: 0.3310 - acc: 0.8580 - val_loss: 0.5640 - val_acc: 0.7210\n",
      "Epoch 14/30\n",
      "100/100 [==============================] - 5s - loss: 0.3101 - acc: 0.8630 - val_loss: 0.5851 - val_acc: 0.7290\n",
      "Epoch 15/30\n",
      "100/100 [==============================] - 6s - loss: 0.2878 - acc: 0.8765 - val_loss: 0.6152 - val_acc: 0.7160\n",
      "Epoch 16/30\n",
      "100/100 [==============================] - 6s - loss: 0.2676 - acc: 0.8930 - val_loss: 0.5558 - val_acc: 0.7450\n",
      "Epoch 17/30\n",
      "100/100 [==============================] - 6s - loss: 0.2448 - acc: 0.9025 - val_loss: 0.6507 - val_acc: 0.7120\n",
      "Epoch 18/30\n",
      "100/100 [==============================] - 6s - loss: 0.2214 - acc: 0.9140 - val_loss: 0.6377 - val_acc: 0.7280\n",
      "Epoch 19/30\n",
      "100/100 [==============================] - 6s - loss: 0.2027 - acc: 0.9260 - val_loss: 0.6339 - val_acc: 0.7470\n",
      "Epoch 20/30\n",
      "100/100 [==============================] - 5s - loss: 0.1825 - acc: 0.9335 - val_loss: 0.6724 - val_acc: 0.7230\n",
      "Epoch 21/30\n",
      "100/100 [==============================] - 6s - loss: 0.1619 - acc: 0.9445 - val_loss: 0.7474 - val_acc: 0.7300\n",
      "Epoch 22/30\n",
      "100/100 [==============================] - 5s - loss: 0.1425 - acc: 0.9520 - val_loss: 0.6770 - val_acc: 0.7340\n",
      "Epoch 23/30\n",
      "100/100 [==============================] - 5s - loss: 0.1346 - acc: 0.9570 - val_loss: 0.9021 - val_acc: 0.6950\n",
      "Epoch 24/30\n",
      "100/100 [==============================] - 6s - loss: 0.1102 - acc: 0.9635 - val_loss: 0.7291 - val_acc: 0.7400\n",
      "Epoch 25/30\n",
      "100/100 [==============================] - 6s - loss: 0.1009 - acc: 0.9700 - val_loss: 0.7927 - val_acc: 0.7330\n",
      "Epoch 26/30\n",
      "100/100 [==============================] - 5s - loss: 0.0841 - acc: 0.9735 - val_loss: 0.7964 - val_acc: 0.7520\n",
      "Epoch 27/30\n",
      "100/100 [==============================] - 5s - loss: 0.0729 - acc: 0.9780 - val_loss: 1.0156 - val_acc: 0.7300\n",
      "Epoch 28/30\n",
      "100/100 [==============================] - 5s - loss: 0.0636 - acc: 0.9800 - val_loss: 0.8218 - val_acc: 0.7500\n",
      "Epoch 29/30\n",
      "100/100 [==============================] - 5s - loss: 0.0536 - acc: 0.9875 - val_loss: 0.9733 - val_acc: 0.7290\n",
      "Epoch 30/30\n",
      "100/100 [==============================] - 6s - loss: 0.0440 - acc: 0.9890 - val_loss: 1.0896 - val_acc: 0.7210\n"
     ]
    }
   ],
   "source": [
    "history = model.fit_generator(\n",
    "    train_generator,\n",
    "    steps_per_epoch = 100,\n",
    "    epochs=30,\n",
    "    validation_data=validation_generator,\n",
    "    validation_steps=50\n",
    ")"
   ]
  },
  {
   "cell_type": "code",
   "execution_count": 11,
   "metadata": {},
   "outputs": [],
   "source": [
    "# save the model\n",
    "model.save('cats_and_dogs_small_1.h5')"
   ]
  },
  {
   "cell_type": "markdown",
   "metadata": {},
   "source": [
    "# Plotting data for observatoin"
   ]
  },
  {
   "cell_type": "code",
   "execution_count": 12,
   "metadata": {},
   "outputs": [
    {
     "data": {
      "text/plain": [
       "<matplotlib.figure.Figure at 0x1a167516400>"
      ]
     },
     "metadata": {},
     "output_type": "display_data"
    },
    {
     "data": {
      "text/plain": [
       "<matplotlib.figure.Figure at 0x1a108af8b00>"
      ]
     },
     "metadata": {},
     "output_type": "display_data"
    }
   ],
   "source": [
    "import matplotlib.pyplot as plt\n",
    "\n",
    "acc = history.history['acc']\n",
    "val_acc = history.history['val_acc']\n",
    "loss = history.history['loss']\n",
    "val_loss = history.history['val_loss']\n",
    "\n",
    "epochs = range(1, len(acc)+1)\n",
    "\n",
    "plt.plot(epochs, acc, 'bo', label='Training acc')\n",
    "plt.plot(epochs, val_acc, 'b', label='Validation acc')\n",
    "plt.title('Training and validation accuracy')\n",
    "plt.legend()\n",
    "\n",
    "plt.figure()\n",
    "plt.plot(epochs, loss, 'bo', label='Training losses')\n",
    "plt.plot(epochs, val_loss, 'b', label='Validation losses')\n",
    "plt.title('Training and validation loss')\n",
    "plt.legend()\n",
    "\n",
    "plt.show()"
   ]
  },
  {
   "cell_type": "markdown",
   "metadata": {},
   "source": [
    "# Image augmentation: way of removing overfitting\n",
    "The goal is that at training time,\n",
    "your model will never see the exact same picture twice. This helps expose the model\n",
    "to more aspects of the data and generalize better."
   ]
  },
  {
   "cell_type": "code",
   "execution_count": 13,
   "metadata": {},
   "outputs": [
    {
     "name": "stdout",
     "output_type": "stream",
     "text": [
      "Found 2000 images belonging to 2 classes.\n",
      "Found 1000 images belonging to 2 classes.\n"
     ]
    }
   ],
   "source": [
    "train_datagen = ImageDataGenerator(rescale=1./255, \n",
    "                                   rotation_range=40, \n",
    "                                   width_shift_range=0.2, \n",
    "                                   height_shift_range=0.2, \n",
    "                                   shear_range=0.2,\n",
    "                                   zoom_range=0.2, \n",
    "                                   horizontal_flip=True)\n",
    "test_datagen = ImageDataGenerator(rescale=1./255)\n",
    "\n",
    "train_generator = train_datagen.flow_from_directory(train_dir,\n",
    "                                                    target_size=(150, 150), \n",
    "                                                    batch_size=32, \n",
    "                                                    class_mode='binary')\n",
    "\n",
    "validation_generator = test_datagen.flow_from_directory(validation_dir,\n",
    "                                                       target_size=(150, 150),\n",
    "                                                       batch_size=32,\n",
    "                                                       class_mode='binary')"
   ]
  },
  {
   "cell_type": "code",
   "execution_count": 14,
   "metadata": {},
   "outputs": [
    {
     "name": "stdout",
     "output_type": "stream",
     "text": [
      "_________________________________________________________________\n",
      "Layer (type)                 Output Shape              Param #   \n",
      "=================================================================\n",
      "conv2d_5 (Conv2D)            (None, 148, 148, 32)      896       \n",
      "_________________________________________________________________\n",
      "max_pooling2d_5 (MaxPooling2 (None, 74, 74, 32)        0         \n",
      "_________________________________________________________________\n",
      "conv2d_6 (Conv2D)            (None, 72, 72, 64)        18496     \n",
      "_________________________________________________________________\n",
      "max_pooling2d_6 (MaxPooling2 (None, 36, 36, 64)        0         \n",
      "_________________________________________________________________\n",
      "conv2d_7 (Conv2D)            (None, 34, 34, 128)       73856     \n",
      "_________________________________________________________________\n",
      "max_pooling2d_7 (MaxPooling2 (None, 17, 17, 128)       0         \n",
      "_________________________________________________________________\n",
      "conv2d_8 (Conv2D)            (None, 15, 15, 128)       147584    \n",
      "_________________________________________________________________\n",
      "max_pooling2d_8 (MaxPooling2 (None, 7, 7, 128)         0         \n",
      "_________________________________________________________________\n",
      "flatten_2 (Flatten)          (None, 6272)              0         \n",
      "_________________________________________________________________\n",
      "dropout_1 (Dropout)          (None, 6272)              0         \n",
      "_________________________________________________________________\n",
      "dense_3 (Dense)              (None, 512)               3211776   \n",
      "_________________________________________________________________\n",
      "dense_4 (Dense)              (None, 1)                 513       \n",
      "=================================================================\n",
      "Total params: 3,453,121\n",
      "Trainable params: 3,453,121\n",
      "Non-trainable params: 0\n",
      "_________________________________________________________________\n"
     ]
    }
   ],
   "source": [
    "# Add a dropout layer to the model\n",
    "model = models.Sequential()\n",
    "\n",
    "model.add(layers.Conv2D(32, (3, 3), activation='relu', input_shape=(150, 150, 3)))\n",
    "model.add(layers.MaxPool2D(2, 2))\n",
    "model.add(layers.Conv2D(64, (3, 3), activation='relu'))\n",
    "model.add(layers.MaxPool2D(2,2))\n",
    "model.add(layers.Conv2D(128, (3, 3), activation='relu'))\n",
    "model.add(layers.MaxPool2D(2, 2))\n",
    "model.add(layers.Conv2D(128, (3, 3), activation='relu'))\n",
    "model.add(layers.MaxPool2D(2, 2))\n",
    "\n",
    "model.add(layers.Flatten())\n",
    "model.add(layers.Dropout(0.5))\n",
    "model.add(layers.Dense(512, activation='relu'))\n",
    "model.add(layers.Dense(1, activation='sigmoid'))\n",
    "\n",
    "model.summary()"
   ]
  },
  {
   "cell_type": "code",
   "execution_count": 15,
   "metadata": {},
   "outputs": [],
   "source": [
    "model.compile(loss='binary_crossentropy', \n",
    "              optimizer=optimizers.RMSprop(lr=1e-4),\n",
    "              metrics=['acc'])"
   ]
  },
  {
   "cell_type": "code",
   "execution_count": 16,
   "metadata": {},
   "outputs": [
    {
     "name": "stdout",
     "output_type": "stream",
     "text": [
      "Epoch 1/100\n",
      "100/100 [==============================] - 19s - loss: 0.6919 - acc: 0.5169 - val_loss: 0.6807 - val_acc: 0.5958\n",
      "Epoch 2/100\n",
      "100/100 [==============================] - 17s - loss: 0.6743 - acc: 0.5791 - val_loss: 0.6541 - val_acc: 0.6128\n",
      "Epoch 3/100\n",
      "100/100 [==============================] - 17s - loss: 0.6726 - acc: 0.5809 - val_loss: 0.6436 - val_acc: 0.6339\n",
      "Epoch 4/100\n",
      "100/100 [==============================] - 17s - loss: 0.6461 - acc: 0.6247 - val_loss: 0.6207 - val_acc: 0.6546\n",
      "Epoch 5/100\n",
      "100/100 [==============================] - 18s - loss: 0.6294 - acc: 0.6438 - val_loss: 0.6651 - val_acc: 0.5647\n",
      "Epoch 6/100\n",
      "100/100 [==============================] - 18s - loss: 0.6156 - acc: 0.6619 - val_loss: 0.5997 - val_acc: 0.6682\n",
      "Epoch 7/100\n",
      "100/100 [==============================] - 57s - loss: 0.5999 - acc: 0.6613 - val_loss: 0.5591 - val_acc: 0.7055\n",
      "Epoch 8/100\n",
      "100/100 [==============================] - 62s - loss: 0.5979 - acc: 0.6787 - val_loss: 0.5576 - val_acc: 0.7107\n",
      "Epoch 9/100\n",
      "100/100 [==============================] - 61s - loss: 0.5824 - acc: 0.6884 - val_loss: 0.5743 - val_acc: 0.6821\n",
      "Epoch 10/100\n",
      "100/100 [==============================] - 62s - loss: 0.5749 - acc: 0.6938 - val_loss: 0.5750 - val_acc: 0.6897\n",
      "Epoch 11/100\n",
      "100/100 [==============================] - 61s - loss: 0.5642 - acc: 0.7088 - val_loss: 0.5585 - val_acc: 0.6986\n",
      "Epoch 12/100\n",
      "100/100 [==============================] - 39s - loss: 0.5640 - acc: 0.7072 - val_loss: 0.5285 - val_acc: 0.7307\n",
      "Epoch 13/100\n",
      "100/100 [==============================] - 17s - loss: 0.5559 - acc: 0.7131 - val_loss: 0.5341 - val_acc: 0.7307\n",
      "Epoch 14/100\n",
      "100/100 [==============================] - 17s - loss: 0.5516 - acc: 0.7203 - val_loss: 0.5219 - val_acc: 0.7373\n",
      "Epoch 15/100\n",
      "100/100 [==============================] - 17s - loss: 0.5538 - acc: 0.7237 - val_loss: 0.5334 - val_acc: 0.7159\n",
      "Epoch 16/100\n",
      "100/100 [==============================] - 17s - loss: 0.5361 - acc: 0.7259 - val_loss: 0.5260 - val_acc: 0.7379\n",
      "Epoch 17/100\n",
      "100/100 [==============================] - 17s - loss: 0.5381 - acc: 0.7247 - val_loss: 0.5492 - val_acc: 0.7081\n",
      "Epoch 18/100\n",
      "100/100 [==============================] - 17s - loss: 0.5363 - acc: 0.7238 - val_loss: 0.5067 - val_acc: 0.7390\n",
      "Epoch 19/100\n",
      "100/100 [==============================] - 17s - loss: 0.5206 - acc: 0.7394 - val_loss: 0.5085 - val_acc: 0.7468\n",
      "Epoch 20/100\n",
      "100/100 [==============================] - 18s - loss: 0.5313 - acc: 0.7216 - val_loss: 0.4845 - val_acc: 0.7661\n",
      "Epoch 21/100\n",
      "100/100 [==============================] - 17s - loss: 0.5189 - acc: 0.7462 - val_loss: 0.5258 - val_acc: 0.7272\n",
      "Epoch 22/100\n",
      "100/100 [==============================] - 17s - loss: 0.5077 - acc: 0.7409 - val_loss: 0.4796 - val_acc: 0.7655\n",
      "Epoch 23/100\n",
      "100/100 [==============================] - 17s - loss: 0.5039 - acc: 0.7550 - val_loss: 0.4780 - val_acc: 0.7719\n",
      "Epoch 24/100\n",
      "100/100 [==============================] - 17s - loss: 0.5084 - acc: 0.7475 - val_loss: 0.5122 - val_acc: 0.7418\n",
      "Epoch 25/100\n",
      "100/100 [==============================] - 17s - loss: 0.4913 - acc: 0.7641 - val_loss: 0.4870 - val_acc: 0.7616\n",
      "Epoch 26/100\n",
      "100/100 [==============================] - 17s - loss: 0.5036 - acc: 0.7563 - val_loss: 0.4745 - val_acc: 0.7671\n",
      "Epoch 27/100\n",
      "100/100 [==============================] - 17s - loss: 0.4989 - acc: 0.7544 - val_loss: 0.4724 - val_acc: 0.7648\n",
      "Epoch 28/100\n",
      "100/100 [==============================] - 17s - loss: 0.4827 - acc: 0.7625 - val_loss: 0.4952 - val_acc: 0.7703\n",
      "Epoch 29/100\n",
      "100/100 [==============================] - 17s - loss: 0.4903 - acc: 0.7612 - val_loss: 0.4735 - val_acc: 0.7760\n",
      "Epoch 30/100\n",
      "100/100 [==============================] - 17s - loss: 0.4835 - acc: 0.7650 - val_loss: 0.4488 - val_acc: 0.7841\n",
      "Epoch 31/100\n",
      "100/100 [==============================] - 17s - loss: 0.4804 - acc: 0.7747 - val_loss: 0.4794 - val_acc: 0.7779\n",
      "Epoch 32/100\n",
      "100/100 [==============================] - 17s - loss: 0.4859 - acc: 0.7691 - val_loss: 0.4468 - val_acc: 0.7893\n",
      "Epoch 33/100\n",
      "100/100 [==============================] - 17s - loss: 0.4728 - acc: 0.7697 - val_loss: 0.5662 - val_acc: 0.7221\n",
      "Epoch 34/100\n",
      "100/100 [==============================] - 17s - loss: 0.4753 - acc: 0.7694 - val_loss: 0.4451 - val_acc: 0.7887\n",
      "Epoch 35/100\n",
      "100/100 [==============================] - 17s - loss: 0.4717 - acc: 0.7731 - val_loss: 0.4508 - val_acc: 0.7790\n",
      "Epoch 36/100\n",
      "100/100 [==============================] - 17s - loss: 0.4756 - acc: 0.7747 - val_loss: 0.4462 - val_acc: 0.7792\n",
      "Epoch 37/100\n",
      "100/100 [==============================] - 17s - loss: 0.4661 - acc: 0.7791 - val_loss: 0.4555 - val_acc: 0.7841\n",
      "Epoch 38/100\n",
      "100/100 [==============================] - 17s - loss: 0.4660 - acc: 0.7706 - val_loss: 0.4321 - val_acc: 0.7995\n",
      "Epoch 39/100\n",
      "100/100 [==============================] - 17s - loss: 0.4536 - acc: 0.7800 - val_loss: 0.4473 - val_acc: 0.7957\n",
      "Epoch 40/100\n",
      "100/100 [==============================] - 17s - loss: 0.4548 - acc: 0.7853 - val_loss: 0.4426 - val_acc: 0.7899\n",
      "Epoch 41/100\n",
      "100/100 [==============================] - 17s - loss: 0.4576 - acc: 0.7837 - val_loss: 0.5189 - val_acc: 0.7525\n",
      "Epoch 42/100\n",
      "100/100 [==============================] - 17s - loss: 0.4522 - acc: 0.7813 - val_loss: 0.4469 - val_acc: 0.7835\n",
      "Epoch 43/100\n",
      "100/100 [==============================] - 17s - loss: 0.4500 - acc: 0.7881 - val_loss: 0.4492 - val_acc: 0.7900\n",
      "Epoch 44/100\n",
      "100/100 [==============================] - 17s - loss: 0.4393 - acc: 0.7959 - val_loss: 0.4483 - val_acc: 0.7919\n",
      "Epoch 45/100\n",
      "100/100 [==============================] - 17s - loss: 0.4493 - acc: 0.7925 - val_loss: 0.4495 - val_acc: 0.7893\n",
      "Epoch 46/100\n",
      "100/100 [==============================] - 17s - loss: 0.4556 - acc: 0.7784 - val_loss: 0.4407 - val_acc: 0.7798\n",
      "Epoch 47/100\n",
      "100/100 [==============================] - 17s - loss: 0.4483 - acc: 0.7847 - val_loss: 0.4916 - val_acc: 0.7790\n",
      "Epoch 48/100\n",
      "100/100 [==============================] - 17s - loss: 0.4295 - acc: 0.7963 - val_loss: 0.4320 - val_acc: 0.7830\n",
      "Epoch 49/100\n",
      "100/100 [==============================] - 17s - loss: 0.4350 - acc: 0.7975 - val_loss: 0.4312 - val_acc: 0.7957\n",
      "Epoch 50/100\n",
      "100/100 [==============================] - 17s - loss: 0.4358 - acc: 0.7997 - val_loss: 0.4222 - val_acc: 0.8080\n",
      "Epoch 51/100\n",
      "100/100 [==============================] - 17s - loss: 0.4336 - acc: 0.7959 - val_loss: 0.4189 - val_acc: 0.8154\n",
      "Epoch 52/100\n",
      "100/100 [==============================] - 17s - loss: 0.4278 - acc: 0.8006 - val_loss: 0.4305 - val_acc: 0.8067\n",
      "Epoch 53/100\n",
      "100/100 [==============================] - 17s - loss: 0.4074 - acc: 0.8197 - val_loss: 0.4909 - val_acc: 0.7830\n",
      "Epoch 54/100\n",
      "100/100 [==============================] - 17s - loss: 0.4201 - acc: 0.8116 - val_loss: 0.4420 - val_acc: 0.7963\n",
      "Epoch 55/100\n",
      "100/100 [==============================] - 17s - loss: 0.4217 - acc: 0.7997 - val_loss: 0.4171 - val_acc: 0.8015\n",
      "Epoch 56/100\n",
      "100/100 [==============================] - 17s - loss: 0.4161 - acc: 0.8094 - val_loss: 0.4230 - val_acc: 0.8077\n",
      "Epoch 57/100\n",
      "100/100 [==============================] - 17s - loss: 0.4243 - acc: 0.8069 - val_loss: 0.4418 - val_acc: 0.8009\n",
      "Epoch 58/100\n",
      "100/100 [==============================] - 17s - loss: 0.4206 - acc: 0.8094 - val_loss: 0.4052 - val_acc: 0.8084\n",
      "Epoch 59/100\n",
      "100/100 [==============================] - 17s - loss: 0.4151 - acc: 0.8069 - val_loss: 0.4147 - val_acc: 0.8138\n",
      "Epoch 60/100\n",
      "100/100 [==============================] - 17s - loss: 0.4093 - acc: 0.8206 - val_loss: 0.4220 - val_acc: 0.8022\n",
      "Epoch 61/100\n",
      "100/100 [==============================] - 17s - loss: 0.3919 - acc: 0.8266 - val_loss: 0.4066 - val_acc: 0.8299\n",
      "Epoch 62/100\n",
      "100/100 [==============================] - 16s - loss: 0.4087 - acc: 0.8150 - val_loss: 0.3999 - val_acc: 0.8235\n",
      "Epoch 63/100\n",
      "100/100 [==============================] - 16s - loss: 0.4079 - acc: 0.8172 - val_loss: 0.4510 - val_acc: 0.7773\n",
      "Epoch 64/100\n",
      "100/100 [==============================] - 17s - loss: 0.3943 - acc: 0.8206 - val_loss: 0.4190 - val_acc: 0.8131\n",
      "Epoch 65/100\n",
      "100/100 [==============================] - 16s - loss: 0.4073 - acc: 0.8128 - val_loss: 0.4765 - val_acc: 0.7996\n",
      "Epoch 66/100\n"
     ]
    },
    {
     "name": "stdout",
     "output_type": "stream",
     "text": [
      "100/100 [==============================] - 16s - loss: 0.3916 - acc: 0.8219 - val_loss: 0.4189 - val_acc: 0.8109\n",
      "Epoch 67/100\n",
      "100/100 [==============================] - 16s - loss: 0.3957 - acc: 0.8206 - val_loss: 0.4362 - val_acc: 0.7899\n",
      "Epoch 68/100\n",
      "100/100 [==============================] - 16s - loss: 0.3811 - acc: 0.8247 - val_loss: 0.4700 - val_acc: 0.7963\n",
      "Epoch 69/100\n",
      "100/100 [==============================] - 16s - loss: 0.3893 - acc: 0.8237 - val_loss: 0.4015 - val_acc: 0.8267\n",
      "Epoch 70/100\n",
      "100/100 [==============================] - 16s - loss: 0.3868 - acc: 0.8262 - val_loss: 0.3867 - val_acc: 0.8254\n",
      "Epoch 71/100\n",
      "100/100 [==============================] - 17s - loss: 0.3762 - acc: 0.8328 - val_loss: 0.4101 - val_acc: 0.8230\n",
      "Epoch 72/100\n",
      "100/100 [==============================] - 16s - loss: 0.3808 - acc: 0.8216 - val_loss: 0.4083 - val_acc: 0.8151\n",
      "Epoch 73/100\n",
      "100/100 [==============================] - 17s - loss: 0.3871 - acc: 0.8272 - val_loss: 0.4238 - val_acc: 0.8115\n",
      "Epoch 74/100\n",
      "100/100 [==============================] - 16s - loss: 0.3878 - acc: 0.8250 - val_loss: 0.3990 - val_acc: 0.8286\n",
      "Epoch 75/100\n",
      "100/100 [==============================] - 17942s - loss: 0.3846 - acc: 0.8219 - val_loss: 0.4058 - val_acc: 0.8131\n",
      "Epoch 76/100\n",
      "100/100 [==============================] - 3693s - loss: 0.3595 - acc: 0.8431 - val_loss: 0.4656 - val_acc: 0.7830\n",
      "Epoch 77/100\n",
      "100/100 [==============================] - 22s - loss: 0.3640 - acc: 0.8456 - val_loss: 0.4302 - val_acc: 0.8170\n",
      "Epoch 78/100\n",
      "100/100 [==============================] - 20s - loss: 0.3672 - acc: 0.8341 - val_loss: 0.4790 - val_acc: 0.7925\n",
      "Epoch 79/100\n",
      "100/100 [==============================] - 20s - loss: 0.3769 - acc: 0.8347 - val_loss: 0.4233 - val_acc: 0.7996\n",
      "Epoch 80/100\n",
      "100/100 [==============================] - 17s - loss: 0.3631 - acc: 0.8328 - val_loss: 0.4317 - val_acc: 0.7861\n",
      "Epoch 81/100\n",
      "100/100 [==============================] - 17s - loss: 0.3580 - acc: 0.8447 - val_loss: 0.4160 - val_acc: 0.8376\n",
      "Epoch 82/100\n",
      "100/100 [==============================] - 17s - loss: 0.3724 - acc: 0.8337 - val_loss: 0.4033 - val_acc: 0.8235\n",
      "Epoch 83/100\n",
      "100/100 [==============================] - 17s - loss: 0.3518 - acc: 0.8450 - val_loss: 0.3788 - val_acc: 0.8344\n",
      "Epoch 84/100\n",
      "100/100 [==============================] - 17s - loss: 0.3599 - acc: 0.8422 - val_loss: 0.4242 - val_acc: 0.7996\n",
      "Epoch 85/100\n",
      "100/100 [==============================] - 17s - loss: 0.3603 - acc: 0.8428 - val_loss: 0.4006 - val_acc: 0.8280\n",
      "Epoch 86/100\n",
      "100/100 [==============================] - 17s - loss: 0.3492 - acc: 0.8497 - val_loss: 0.3975 - val_acc: 0.8255\n",
      "Epoch 87/100\n",
      "100/100 [==============================] - 17s - loss: 0.3557 - acc: 0.8419 - val_loss: 0.3953 - val_acc: 0.8293\n",
      "Epoch 88/100\n",
      "100/100 [==============================] - 17s - loss: 0.3529 - acc: 0.8431 - val_loss: 0.3969 - val_acc: 0.8287\n",
      "Epoch 89/100\n",
      "100/100 [==============================] - 17s - loss: 0.3562 - acc: 0.8416 - val_loss: 0.4442 - val_acc: 0.8131\n",
      "Epoch 90/100\n",
      "100/100 [==============================] - 17s - loss: 0.3582 - acc: 0.8359 - val_loss: 0.3913 - val_acc: 0.8217\n",
      "Epoch 91/100\n",
      "100/100 [==============================] - 17s - loss: 0.3486 - acc: 0.8534 - val_loss: 0.4266 - val_acc: 0.8319\n",
      "Epoch 92/100\n",
      "100/100 [==============================] - 17s - loss: 0.3534 - acc: 0.8413 - val_loss: 0.3863 - val_acc: 0.8241\n",
      "Epoch 93/100\n",
      "100/100 [==============================] - 18s - loss: 0.3432 - acc: 0.8459 - val_loss: 0.3910 - val_acc: 0.8363\n",
      "Epoch 94/100\n",
      "100/100 [==============================] - 16s - loss: 0.3313 - acc: 0.8528 - val_loss: 0.3925 - val_acc: 0.8344\n",
      "Epoch 95/100\n",
      "100/100 [==============================] - 17s - loss: 0.3451 - acc: 0.8484 - val_loss: 0.3819 - val_acc: 0.8414\n",
      "Epoch 96/100\n",
      "100/100 [==============================] - 16s - loss: 0.3363 - acc: 0.8484 - val_loss: 0.4035 - val_acc: 0.8261\n",
      "Epoch 97/100\n",
      "100/100 [==============================] - 16s - loss: 0.3612 - acc: 0.8381 - val_loss: 0.4711 - val_acc: 0.8073\n",
      "Epoch 98/100\n",
      "100/100 [==============================] - 17s - loss: 0.3290 - acc: 0.8513 - val_loss: 0.3707 - val_acc: 0.8471\n",
      "Epoch 99/100\n",
      "100/100 [==============================] - 16s - loss: 0.3400 - acc: 0.8459 - val_loss: 0.4037 - val_acc: 0.8048\n",
      "Epoch 100/100\n",
      "100/100 [==============================] - 16s - loss: 0.3317 - acc: 0.8566 - val_loss: 0.3822 - val_acc: 0.8280\n"
     ]
    }
   ],
   "source": [
    "# Retrain the model\n",
    "history = model.fit_generator(train_generator, \n",
    "                              validation_data=validation_generator, \n",
    "                              steps_per_epoch=100, \n",
    "                              epochs=100, \n",
    "                              validation_steps=50)"
   ]
  },
  {
   "cell_type": "code",
   "execution_count": 17,
   "metadata": {},
   "outputs": [],
   "source": [
    "model.save('cats_and_dogs_small_2.h5')"
   ]
  },
  {
   "cell_type": "code",
   "execution_count": 18,
   "metadata": {},
   "outputs": [
    {
     "data": {
      "image/png": "[encoded data removed]",
      "text/plain": [
       "<matplotlib.figure.Figure at 0x1a10928e908>"
      ]
     },
     "metadata": {},
     "output_type": "display_data"
    },
    {
     "data": {
      "image/png": "[encoded data removed]",
      "text/plain": [
       "<matplotlib.figure.Figure at 0x1a1094303c8>"
      ]
     },
     "metadata": {},
     "output_type": "display_data"
    }
   ],
   "source": [
    "import matplotlib.pyplot as plt\n",
    "\n",
    "acc = history.history['acc']\n",
    "val_acc = history.history['val_acc']\n",
    "loss = history.history['loss']\n",
    "val_loss = history.history['val_loss']\n",
    "\n",
    "epochs = range(1, len(acc)+1)\n",
    "\n",
    "plt.plot(epochs, acc, 'bo', label='Training acc')\n",
    "plt.plot(epochs, val_acc, 'b', label='Validation acc')\n",
    "plt.title('Training and validation accuracy')\n",
    "plt.legend()\n",
    "\n",
    "plt.figure()\n",
    "plt.plot(epochs, loss, 'bo', label='Training losses')\n",
    "plt.plot(epochs, val_loss, 'b', label='Validation losses')\n",
    "plt.title('Training and validation loss')\n",
    "plt.legend()\n",
    "\n",
    "plt.show()"
   ]
  },
  {
   "cell_type": "code",
   "execution_count": null,
   "metadata": {
    "collapsed": true
   },
   "outputs": [],
   "source": []
  }
 ],
 "metadata": {
  "kernelspec": {
   "display_name": "Python [default]",
   "language": "python",
   "name": "python3"
  },
  "language_info": {
   "codemirror_mode": {
    "name": "ipython",
    "version": 3
   },
   "file_extension": ".py",
   "mimetype": "text/x-python",
   "name": "python",
   "nbconvert_exporter": "python",
   "pygments_lexer": "ipython3",
   "version": "3.5.4"
  }
 },
 "nbformat": 4,
 "nbformat_minor": 2
}
