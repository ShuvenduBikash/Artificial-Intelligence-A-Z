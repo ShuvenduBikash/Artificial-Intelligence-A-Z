{
 "cells": [
  {
   "cell_type": "markdown",
   "metadata": {},
   "source": [
    "# Loading dataset"
   ]
  },
  {
   "cell_type": "code",
   "execution_count": 1,
   "metadata": {
    "collapsed": true
   },
   "outputs": [],
   "source": [
    "import os, shutil\n",
    "original_dataset_dir = '/home/shuvendu/Documents/datasets/Cat_and_Dog/train'\n",
    "base_dir = '/home/shuvendu/Documents/datasets/Cat_and_Dog_small'"
   ]
  },
  {
   "cell_type": "code",
   "execution_count": 2,
   "metadata": {
    "collapsed": true
   },
   "outputs": [],
   "source": [
    "os.mkdir(base_dir)"
   ]
  },
  {
   "cell_type": "code",
   "execution_count": 3,
   "metadata": {
    "collapsed": true
   },
   "outputs": [],
   "source": [
    "# Make the required datadir\n",
    "train_dir = os.path.join(base_dir, 'train')\n",
    "os.mkdir(train_dir)\n",
    "validation_dir = os.path.join(base_dir, 'validation')\n",
    "os.mkdir(validation_dir)\n",
    "test_dir = os.path.join(base_dir, 'test')\n",
    "os.mkdir(test_dir)"
   ]
  },
  {
   "cell_type": "code",
   "execution_count": 4,
   "metadata": {
    "collapsed": true
   },
   "outputs": [],
   "source": [
    "train_cats_dir = os.path.join(train_dir, 'cats')\n",
    "os.mkdir(train_cats_dir)\n",
    "\n",
    "train_dogs_dir = os.path.join(train_dir, 'dogs')\n",
    "os.mkdir(train_dogs_dir)\n",
    "\n",
    "validation_cats_dir = os.path.join(validation_dir, 'cats')\n",
    "os.mkdir(validation_cats_dir)\n",
    "\n",
    "validation_dogs_dir = os.path.join(validation_dir, 'dogs')\n",
    "os.mkdir(validation_dogs_dir)\n",
    "\n",
    "test_cats_dir = os.path.join(test_dir, 'cats')\n",
    "os.mkdir(test_cats_dir)\n",
    "\n",
    "test_dogs_dir = os.path.join(test_dir, 'dogs')\n",
    "os.mkdir(test_dogs_dir)"
   ]
  },
  {
   "cell_type": "code",
   "execution_count": 5,
   "metadata": {
    "collapsed": true
   },
   "outputs": [],
   "source": [
    "fnames = ['cat.{}.jpg'.format(i) for i in range(1000)]\n",
    "for fname in fnames:\n",
    "    src = os.path.join(original_dataset_dir, fname)\n",
    "    dst = os.path.join(train_cats_dir, fname)\n",
    "    shutil.copyfile(src, dst)\n",
    "    \n",
    "fnames = ['cat.{}.jpg'.format(i) for i in range(1000, 1500)]\n",
    "for fname in fnames:\n",
    "    src = os.path.join(original_dataset_dir, fname)\n",
    "    dst = os.path.join(validation_cats_dir, fname)\n",
    "    shutil.copyfile(src, dst)\n",
    "    \n",
    "fnames = ['cat.{}.jpg'.format(i) for i in range(1500, 2000)]\n",
    "for fname in fnames:\n",
    "    src = os.path.join(original_dataset_dir, fname)\n",
    "    dst = os.path.join(test_cats_dir, fname)\n",
    "    shutil.copyfile(src, dst)"
   ]
  },
  {
   "cell_type": "code",
   "execution_count": 6,
   "metadata": {
    "collapsed": true
   },
   "outputs": [],
   "source": [
    "fnames = ['dog.{}.jpg'.format(i) for i in range(1000)]\n",
    "for fname in fnames:\n",
    "    src = os.path.join(original_dataset_dir, fname)\n",
    "    dst = os.path.join(train_dogs_dir, fname)\n",
    "    shutil.copyfile(src, dst)\n",
    "    \n",
    "fnames = ['dog.{}.jpg'.format(i) for i in range(1000, 1500)]\n",
    "for fname in fnames:\n",
    "    src = os.path.join(original_dataset_dir, fname)\n",
    "    dst = os.path.join(validation_dogs_dir, fname)\n",
    "    shutil.copyfile(src, dst)\n",
    "    \n",
    "fnames = ['dog.{}.jpg'.format(i) for i in range(1500, 2000)]\n",
    "for fname in fnames:\n",
    "    src = os.path.join(original_dataset_dir, fname)\n",
    "    dst = os.path.join(test_dogs_dir, fname)\n",
    "    shutil.copyfile(src, dst)"
   ]
  },
  {
   "cell_type": "markdown",
   "metadata": {},
   "source": [
    "# Data Preprocessing"
   ]
  },
  {
   "cell_type": "code",
   "execution_count": 7,
   "metadata": {},
   "outputs": [
    {
     "name": "stderr",
     "output_type": "stream",
     "text": [
      "Using TensorFlow backend.\n",
      "/home/shuvendu/anaconda3/lib/python3.6/importlib/_bootstrap.py:205: RuntimeWarning: compiletime version 3.5 of module 'tensorflow.python.framework.fast_tensor_util' does not match runtime version 3.6\n",
      "  return f(*args, **kwds)\n"
     ]
    }
   ],
   "source": [
    "from keras.preprocessing.image import ImageDataGenerator"
   ]
  },
  {
   "cell_type": "code",
   "execution_count": 8,
   "metadata": {
    "collapsed": true
   },
   "outputs": [],
   "source": [
    "train_datagen = ImageDataGenerator(rescale=1./255)\n",
    "test_datagen = ImageDataGenerator(rescale=1./255)\n"
   ]
  },
  {
   "cell_type": "code",
   "execution_count": 9,
   "metadata": {},
   "outputs": [
    {
     "name": "stdout",
     "output_type": "stream",
     "text": [
      "Found 2000 images belonging to 2 classes.\n",
      "Found 1000 images belonging to 2 classes.\n"
     ]
    }
   ],
   "source": [
    "train_generator = train_datagen.flow_from_directory(\n",
    "    train_dir,\n",
    "    target_size = (150, 150),\n",
    "    batch_size=20,\n",
    "    class_mode='binary'\n",
    ")\n",
    "\n",
    "validation_generator = train_datagen.flow_from_directory(\n",
    "    validation_dir,\n",
    "    target_size = (150, 150),\n",
    "    batch_size=20,\n",
    "    class_mode='binary'\n",
    ")"
   ]
  },
  {
   "cell_type": "code",
   "execution_count": 10,
   "metadata": {},
   "outputs": [
    {
     "name": "stdout",
     "output_type": "stream",
     "text": [
      "data batch shape:  (20, 150, 150, 3)\n",
      "labels batch shape:  (20,)\n"
     ]
    }
   ],
   "source": [
    "for data_batch, labels_batch in train_generator:\n",
    "    print('data batch shape: ', data_batch.shape)\n",
    "    print('labels batch shape: ', labels_batch.shape)\n",
    "    break"
   ]
  },
  {
   "cell_type": "markdown",
   "metadata": {},
   "source": [
    "# Build the model"
   ]
  },
  {
   "cell_type": "code",
   "execution_count": 11,
   "metadata": {
    "collapsed": true
   },
   "outputs": [],
   "source": [
    "from keras import models, layers, metrics, losses, optimizers"
   ]
  },
  {
   "cell_type": "code",
   "execution_count": 12,
   "metadata": {},
   "outputs": [
    {
     "name": "stdout",
     "output_type": "stream",
     "text": [
      "_________________________________________________________________\n",
      "Layer (type)                 Output Shape              Param #   \n",
      "=================================================================\n",
      "conv2d_1 (Conv2D)            (None, 148, 148, 32)      896       \n",
      "_________________________________________________________________\n",
      "max_pooling2d_1 (MaxPooling2 (None, 74, 74, 32)        0         \n",
      "_________________________________________________________________\n",
      "conv2d_2 (Conv2D)            (None, 72, 72, 64)        18496     \n",
      "_________________________________________________________________\n",
      "max_pooling2d_2 (MaxPooling2 (None, 36, 36, 64)        0         \n",
      "_________________________________________________________________\n",
      "conv2d_3 (Conv2D)            (None, 34, 34, 128)       73856     \n",
      "_________________________________________________________________\n",
      "max_pooling2d_3 (MaxPooling2 (None, 17, 17, 128)       0         \n",
      "_________________________________________________________________\n",
      "conv2d_4 (Conv2D)            (None, 15, 15, 128)       147584    \n",
      "_________________________________________________________________\n",
      "max_pooling2d_4 (MaxPooling2 (None, 7, 7, 128)         0         \n",
      "_________________________________________________________________\n",
      "flatten_1 (Flatten)          (None, 6272)              0         \n",
      "_________________________________________________________________\n",
      "dense_1 (Dense)              (None, 512)               3211776   \n",
      "_________________________________________________________________\n",
      "dense_2 (Dense)              (None, 1)                 513       \n",
      "=================================================================\n",
      "Total params: 3,453,121\n",
      "Trainable params: 3,453,121\n",
      "Non-trainable params: 0\n",
      "_________________________________________________________________\n"
     ]
    }
   ],
   "source": [
    "model = models.Sequential()\n",
    "\n",
    "model.add(layers.Conv2D(32, (3, 3), activation='relu', input_shape=(150, 150, 3)))\n",
    "model.add(layers.MaxPool2D(2, 2))\n",
    "model.add(layers.Conv2D(64, (3, 3), activation='relu'))\n",
    "model.add(layers.MaxPool2D(2,2))\n",
    "model.add(layers.Conv2D(128, (3, 3), activation='relu'))\n",
    "model.add(layers.MaxPool2D(2, 2))\n",
    "model.add(layers.Conv2D(128, (3, 3), activation='relu'))\n",
    "model.add(layers.MaxPool2D(2, 2))\n",
    "\n",
    "model.add(layers.Flatten())\n",
    "model.add(layers.Dense(512, activation='relu'))\n",
    "model.add(layers.Dense(1, activation='sigmoid'))\n",
    "\n",
    "model.summary()"
   ]
  },
  {
   "cell_type": "code",
   "execution_count": 13,
   "metadata": {
    "collapsed": true
   },
   "outputs": [],
   "source": [
    "# compile the model\n",
    "model.compile(optimizer=optimizers.RMSprop(lr=1e-4),\n",
    "              loss = losses.binary_crossentropy,\n",
    "              metrics = ['acc']\n",
    "             )"
   ]
  },
  {
   "cell_type": "markdown",
   "metadata": {},
   "source": [
    "# Training the model"
   ]
  },
  {
   "cell_type": "code",
   "execution_count": 14,
   "metadata": {},
   "outputs": [
    {
     "name": "stdout",
     "output_type": "stream",
     "text": [
      "Epoch 1/30\n",
      "100/100 [==============================] - 27s - loss: 0.6902 - acc: 0.5355 - val_loss: 0.6972 - val_acc: 0.5150\n",
      "Epoch 2/30\n",
      "100/100 [==============================] - 5s - loss: 0.6597 - acc: 0.6070 - val_loss: 0.6393 - val_acc: 0.6210\n",
      "Epoch 3/30\n",
      "100/100 [==============================] - 5s - loss: 0.6198 - acc: 0.6570 - val_loss: 0.6228 - val_acc: 0.6500\n",
      "Epoch 4/30\n",
      "100/100 [==============================] - 5s - loss: 0.5778 - acc: 0.6980 - val_loss: 0.5963 - val_acc: 0.6700\n",
      "Epoch 5/30\n",
      "100/100 [==============================] - 5s - loss: 0.5451 - acc: 0.7260 - val_loss: 0.6000 - val_acc: 0.6830\n",
      "Epoch 6/30\n",
      "100/100 [==============================] - 5s - loss: 0.5222 - acc: 0.7385 - val_loss: 0.5937 - val_acc: 0.6880\n",
      "Epoch 7/30\n",
      "100/100 [==============================] - 5s - loss: 0.4901 - acc: 0.7660 - val_loss: 0.5781 - val_acc: 0.6850\n",
      "Epoch 8/30\n",
      "100/100 [==============================] - 5s - loss: 0.4663 - acc: 0.7805 - val_loss: 0.7143 - val_acc: 0.6250\n",
      "Epoch 9/30\n",
      "100/100 [==============================] - 5s - loss: 0.4429 - acc: 0.7900 - val_loss: 0.5818 - val_acc: 0.7050\n",
      "Epoch 10/30\n",
      "100/100 [==============================] - 5s - loss: 0.4096 - acc: 0.8165 - val_loss: 0.6718 - val_acc: 0.6720\n",
      "Epoch 11/30\n",
      "100/100 [==============================] - 5s - loss: 0.3881 - acc: 0.8320 - val_loss: 0.5334 - val_acc: 0.7380\n",
      "Epoch 12/30\n",
      "100/100 [==============================] - 5s - loss: 0.3569 - acc: 0.8390 - val_loss: 0.5706 - val_acc: 0.7370\n",
      "Epoch 13/30\n",
      "100/100 [==============================] - 5s - loss: 0.3433 - acc: 0.8525 - val_loss: 0.5860 - val_acc: 0.7220\n",
      "Epoch 14/30\n",
      "100/100 [==============================] - 5s - loss: 0.3147 - acc: 0.8685 - val_loss: 0.5865 - val_acc: 0.7430\n",
      "Epoch 15/30\n",
      "100/100 [==============================] - 5s - loss: 0.2947 - acc: 0.8800 - val_loss: 0.5703 - val_acc: 0.7310\n",
      "Epoch 16/30\n",
      "100/100 [==============================] - 5s - loss: 0.2733 - acc: 0.8880 - val_loss: 0.5911 - val_acc: 0.7220\n",
      "Epoch 17/30\n",
      "100/100 [==============================] - 5s - loss: 0.2532 - acc: 0.8985 - val_loss: 0.6893 - val_acc: 0.7330\n",
      "Epoch 18/30\n",
      "100/100 [==============================] - 5s - loss: 0.2269 - acc: 0.9095 - val_loss: 0.5924 - val_acc: 0.7370\n",
      "Epoch 19/30\n",
      "100/100 [==============================] - 5s - loss: 0.2065 - acc: 0.9180 - val_loss: 0.6564 - val_acc: 0.7410\n",
      "Epoch 20/30\n",
      "100/100 [==============================] - 5s - loss: 0.1913 - acc: 0.9330 - val_loss: 0.6814 - val_acc: 0.7300\n",
      "Epoch 21/30\n",
      "100/100 [==============================] - 5s - loss: 0.1725 - acc: 0.9385 - val_loss: 0.6822 - val_acc: 0.7360\n",
      "Epoch 22/30\n",
      "100/100 [==============================] - 5s - loss: 0.1428 - acc: 0.9495 - val_loss: 0.6680 - val_acc: 0.7460\n",
      "Epoch 23/30\n",
      "100/100 [==============================] - 5s - loss: 0.1297 - acc: 0.9600 - val_loss: 0.7939 - val_acc: 0.7000\n",
      "Epoch 24/30\n",
      "100/100 [==============================] - 5s - loss: 0.1166 - acc: 0.9635 - val_loss: 0.7439 - val_acc: 0.7400\n",
      "Epoch 25/30\n",
      "100/100 [==============================] - 5s - loss: 0.1049 - acc: 0.9665 - val_loss: 0.7990 - val_acc: 0.7370\n",
      "Epoch 26/30\n",
      "100/100 [==============================] - 5s - loss: 0.0801 - acc: 0.9770 - val_loss: 0.7990 - val_acc: 0.7220\n",
      "Epoch 27/30\n",
      "100/100 [==============================] - 5s - loss: 0.0737 - acc: 0.9775 - val_loss: 0.9223 - val_acc: 0.7260\n",
      "Epoch 28/30\n",
      "100/100 [==============================] - 6s - loss: 0.0639 - acc: 0.9825 - val_loss: 0.8330 - val_acc: 0.7410\n",
      "Epoch 29/30\n",
      "100/100 [==============================] - 6s - loss: 0.0506 - acc: 0.9870 - val_loss: 0.9317 - val_acc: 0.7220\n",
      "Epoch 30/30\n",
      "100/100 [==============================] - 6s - loss: 0.0452 - acc: 0.9890 - val_loss: 0.9002 - val_acc: 0.7270\n"
     ]
    }
   ],
   "source": [
    "history = model.fit_generator(\n",
    "    train_generator,\n",
    "    steps_per_epoch = 100,\n",
    "    epochs=30,\n",
    "    validation_data=validation_generator,\n",
    "    validation_steps=50\n",
    ")"
   ]
  },
  {
   "cell_type": "code",
   "execution_count": 15,
   "metadata": {
    "collapsed": true
   },
   "outputs": [],
   "source": [
    "# save the model\n",
    "model.save('cats_and_dogs_small_1.h5')"
   ]
  },
  {
   "cell_type": "markdown",
   "metadata": {},
   "source": [
    "# Plotting data for observatoin"
   ]
  },
  {
   "cell_type": "code",
   "execution_count": 16,
   "metadata": {},
   "outputs": [
    {
     "data": {
      "image/png": "[encoded data removed]",
      "text/plain": [
       "<matplotlib.figure.Figure at 0x7f0028c1bcc0>"
      ]
     },
     "metadata": {},
     "output_type": "display_data"
    },
    {
     "data": {
      "image/png": "[encoded data removed]",
      "text/plain": [
       "<matplotlib.figure.Figure at 0x7f000bb13240>"
      ]
     },
     "metadata": {},
     "output_type": "display_data"
    }
   ],
   "source": [
    "import matplotlib.pyplot as plt\n",
    "\n",
    "acc = history.history['acc']\n",
    "val_acc = history.history['val_acc']\n",
    "loss = history.history['loss']\n",
    "val_loss = history.history['val_loss']\n",
    "\n",
    "epochs = range(1, len(acc)+1)\n",
    "\n",
    "plt.plot(epochs, acc, 'bo', label='Training acc')\n",
    "plt.plot(epochs, val_acc, 'b', label='Validation acc')\n",
    "plt.title('Training and validation accuracy')\n",
    "plt.legend()\n",
    "\n",
    "plt.figure()\n",
    "plt.plot(epochs, loss, 'bo', label='Training losses')\n",
    "plt.plot(epochs, val_loss, 'b', label='Validation losses')\n",
    "plt.title('Training and validation loss')\n",
    "plt.legend()\n",
    "\n",
    "plt.show()"
   ]
  },
  {
   "cell_type": "code",
   "execution_count": null,
   "metadata": {
    "collapsed": true
   },
   "outputs": [],
   "source": []
  }
 ],
 "metadata": {
  "kernelspec": {
   "display_name": "Python 3",
   "language": "python",
   "name": "python3"
  },
  "language_info": {
   "codemirror_mode": {
    "name": "ipython",
    "version": 3
   },
   "file_extension": ".py",
   "mimetype": "text/x-python",
   "name": "python",
   "nbconvert_exporter": "python",
   "pygments_lexer": "ipython3",
   "version": "3.6.1"
  }
 },
 "nbformat": 4,
 "nbformat_minor": 2
}
