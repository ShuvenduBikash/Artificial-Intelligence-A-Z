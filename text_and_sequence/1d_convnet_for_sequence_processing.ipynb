{
 "cells": [
  {
   "cell_type": "code",
   "execution_count": 1,
   "metadata": {},
   "outputs": [
    {
     "name": "stderr",
     "output_type": "stream",
     "text": [
      "Using TensorFlow backend.\n"
     ]
    },
    {
     "name": "stdout",
     "output_type": "stream",
     "text": [
      "Loading data...\n",
      "25000 train sequences\n",
      "25000 test sequences\n",
      "Pad sequences (samples x time)\n",
      "x_train shape: (25000, 500)\n",
      "x_test shape: (25000, 500)\n"
     ]
    }
   ],
   "source": [
    "from keras.datasets import imdb\n",
    "from keras.preprocessing import sequence\n",
    "\n",
    "max_features = 10000\n",
    "max_len = 500\n",
    "\n",
    "print('Loading data...')\n",
    "(x_train, y_train), (x_test, y_test) = imdb.load_data(num_words=max_features)\n",
    "print(len(x_train), 'train sequences')\n",
    "print(len(x_test), 'test sequences')\n",
    "\n",
    "print('Pad sequences (samples x time)')\n",
    "x_train = sequence.pad_sequences(x_train, maxlen=max_len)\n",
    "x_test = sequence.pad_sequences(x_test, maxlen=max_len)\n",
    "print('x_train shape:', x_train.shape)\n",
    "print('x_test shape:', x_test.shape)"
   ]
  },
  {
   "cell_type": "markdown",
   "metadata": {},
   "source": [
    "# Training and evaluating a sample 1D convnet on IMDB data"
   ]
  },
  {
   "cell_type": "code",
   "execution_count": 3,
   "metadata": {},
   "outputs": [],
   "source": [
    "from keras.models import Sequential\n",
    "from keras import layers\n",
    "from keras.optimizers import RMSprop"
   ]
  },
  {
   "cell_type": "code",
   "execution_count": 6,
   "metadata": {},
   "outputs": [
    {
     "name": "stdout",
     "output_type": "stream",
     "text": [
      "_________________________________________________________________\n",
      "Layer (type)                 Output Shape              Param #   \n",
      "=================================================================\n",
      "embedding_3 (Embedding)      (None, 500, 128)          1280000   \n",
      "_________________________________________________________________\n",
      "conv1d_3 (Conv1D)            (None, 494, 32)           28704     \n",
      "_________________________________________________________________\n",
      "max_pooling1d_3 (MaxPooling1 (None, 98, 32)            0         \n",
      "_________________________________________________________________\n",
      "conv1d_4 (Conv1D)            (None, 92, 32)            7200      \n",
      "_________________________________________________________________\n",
      "global_max_pooling1d_1 (Glob (None, 32)                0         \n",
      "_________________________________________________________________\n",
      "dense_1 (Dense)              (None, 1)                 33        \n",
      "=================================================================\n",
      "Total params: 1,315,937\n",
      "Trainable params: 1,315,937\n",
      "Non-trainable params: 0\n",
      "_________________________________________________________________\n"
     ]
    }
   ],
   "source": [
    "model = Sequential()\n",
    "model.add(layers.Embedding(max_features, 128, input_length=max_len))\n",
    "model.add(layers.Conv1D(32, 7, activation='relu'))\n",
    "model.add(layers.MaxPooling1D(5))\n",
    "model.add(layers.Conv1D(32, 7, activation='relu'))\n",
    "model.add(layers.GlobalMaxPooling1D())\n",
    "model.add(layers.Dense(1))\n",
    "\n",
    "model.summary()"
   ]
  },
  {
   "cell_type": "code",
   "execution_count": 8,
   "metadata": {},
   "outputs": [],
   "source": [
    "model.compile(optimizer=RMSprop(lr=1e-4), loss='binary_crossentropy', metrics=['acc'])"
   ]
  },
  {
   "cell_type": "code",
   "execution_count": 9,
   "metadata": {},
   "outputs": [
    {
     "name": "stdout",
     "output_type": "stream",
     "text": [
      "Train on 20000 samples, validate on 5000 samples\n",
      "Epoch 1/10\n",
      "20000/20000 [==============================] - 5s - loss: 1.4266 - acc: 0.4954 - val_loss: 0.7156 - val_acc: 0.4968\n",
      "Epoch 2/10\n",
      "20000/20000 [==============================] - 2s - loss: 0.6984 - acc: 0.5170 - val_loss: 0.6851 - val_acc: 0.5482\n",
      "Epoch 3/10\n",
      "20000/20000 [==============================] - 2s - loss: 0.6704 - acc: 0.5893 - val_loss: 0.6522 - val_acc: 0.6454\n",
      "Epoch 4/10\n",
      "20000/20000 [==============================] - 2s - loss: 0.6041 - acc: 0.7057 - val_loss: 0.5606 - val_acc: 0.7228\n",
      "Epoch 5/10\n",
      "20000/20000 [==============================] - 2s - loss: 0.4897 - acc: 0.7941 - val_loss: 0.4916 - val_acc: 0.8022\n",
      "Epoch 6/10\n",
      "20000/20000 [==============================] - 2s - loss: 0.4203 - acc: 0.8312 - val_loss: 0.4520 - val_acc: 0.8250\n",
      "Epoch 7/10\n",
      "20000/20000 [==============================] - 2s - loss: 0.3863 - acc: 0.8479 - val_loss: 0.4606 - val_acc: 0.8342\n",
      "Epoch 8/10\n",
      "20000/20000 [==============================] - 2s - loss: 0.3500 - acc: 0.8604 - val_loss: 0.4783 - val_acc: 0.8334\n",
      "Epoch 9/10\n",
      "20000/20000 [==============================] - 2s - loss: 0.3271 - acc: 0.8604 - val_loss: 0.4578 - val_acc: 0.8324\n",
      "Epoch 10/10\n",
      "20000/20000 [==============================] - 2s - loss: 0.3078 - acc: 0.8510 - val_loss: 0.5007 - val_acc: 0.7990\n"
     ]
    }
   ],
   "source": [
    "history = model.fit(x_train, y_train, epochs=10, batch_size=128, validation_split=0.2)"
   ]
  },
  {
   "cell_type": "code",
   "execution_count": 10,
   "metadata": {},
   "outputs": [
    {
     "data": {
      "image/png": "[encoded data removed]",
      "text/plain": [
       "<matplotlib.figure.Figure at 0x1980769b2e8>"
      ]
     },
     "metadata": {},
     "output_type": "display_data"
    },
    {
     "data": {
      "image/png": "[encoded data removed]",
      "text/plain": [
       "<matplotlib.figure.Figure at 0x1985cbecf28>"
      ]
     },
     "metadata": {},
     "output_type": "display_data"
    }
   ],
   "source": [
    "import matplotlib.pyplot as plt\n",
    "%matplotlib inline\n",
    "\n",
    "acc = history.history['acc']\n",
    "val_acc = history.history['val_acc']\n",
    "loss = history.history['loss']\n",
    "val_loss = history.history['val_loss']\n",
    "\n",
    "epochs = range(1, len(acc) + 1)\n",
    "\n",
    "plt.plot(epochs, acc, 'bo', label='Training acc')\n",
    "plt.plot(epochs, val_acc, 'b', label='Validation acc')\n",
    "plt.title('Training and validation accuracy')\n",
    "plt.legend()\n",
    "\n",
    "plt.figure()\n",
    "plt.plot(epochs, loss, 'bo', label='Training loss')\n",
    "plt.plot(epochs, val_loss, 'b', label='Validation loss')\n",
    "plt.title('Training and validation loss')\n",
    "plt.legend()\n",
    "\n",
    "plt.show()"
   ]
  },
  {
   "cell_type": "markdown",
   "metadata": {},
   "source": [
    "# Applying on Weather data"
   ]
  },
  {
   "cell_type": "code",
   "execution_count": 11,
   "metadata": {},
   "outputs": [
    {
     "name": "stdout",
     "output_type": "stream",
     "text": [
      "['\"Date Time\"', '\"p (mbar)\"', '\"T (degC)\"', '\"Tpot (K)\"', '\"Tdew (degC)\"', '\"rh (%)\"', '\"VPmax (mbar)\"', '\"VPact (mbar)\"', '\"VPdef (mbar)\"', '\"sh (g/kg)\"', '\"H2OC (mmol/mol)\"', '\"rho (g/m**3)\"', '\"wv (m/s)\"', '\"max. wv (m/s)\"', '\"wd (deg)\"']\n",
      "420551\n"
     ]
    }
   ],
   "source": [
    "import os\n",
    "data_dir = 'E:\\\\Datasets'\n",
    "fname = os.path.join(data_dir, 'jena_climate_2009_2016.csv')\n",
    "\n",
    "f = open(fname, encoding='utf-8')\n",
    "data = f.read()\n",
    "f.close()\n",
    "\n",
    "lines = data.split('\\n')\n",
    "header = lines[0].split(',')\n",
    "lines = lines[1:]\n",
    "print(header)\n",
    "print(len(lines))"
   ]
  },
  {
   "cell_type": "code",
   "execution_count": 12,
   "metadata": {},
   "outputs": [
    {
     "name": "stdout",
     "output_type": "stream",
     "text": [
      "[  9.96520000e+02  -8.02000000e+00   2.65400000e+02  -8.90000000e+00\n",
      "   9.33000000e+01   3.33000000e+00   3.11000000e+00   2.20000000e-01\n",
      "   1.94000000e+00   3.12000000e+00   1.30775000e+03   1.03000000e+00\n",
      "   1.75000000e+00   1.52300000e+02]\n"
     ]
    }
   ],
   "source": [
    "import numpy as np\n",
    "\n",
    "float_data = np.zeros((len(lines), len(header)-1))\n",
    "for i, line in enumerate(lines):\n",
    "    values = [float(x) for x in line.split(',')[1:]]\n",
    "    float_data[i, :] = values\n",
    "    \n",
    "print(float_data[0])"
   ]
  },
  {
   "cell_type": "code",
   "execution_count": 13,
   "metadata": {},
   "outputs": [],
   "source": [
    "mean = float_data[:200000].mean(axis=0)\n",
    "float_data -= mean\n",
    "std = float_data[:200000].std(axis=0)\n",
    "float_data /= std"
   ]
  },
  {
   "cell_type": "code",
   "execution_count": 14,
   "metadata": {},
   "outputs": [],
   "source": [
    "def generator(data, lookback, delay, min_index, max_index, shuffle=False, batch_size = 128, step = 6):\n",
    "    \"\"\"\n",
    "    data : The original array of floating-point data, which you normalized in listing 6.32.\n",
    "    lookback : How many timesteps back the input data should go.\n",
    "    delay : How many timesteps in the future the target should be.\n",
    "    min_index and max_index : Indices in the data array that delimit which timesteps to draw from. This is useful for keeping a segment of the data for validation and another for testing.    shuffle—Whether to shuffle the samples or draw them in chronological order.\n",
    "    batch_size : The number of samples per batch.\n",
    "    step : The period, in timesteps, at which you sample data. You’ll set it to 6 in order to draw one data point every hour\n",
    "    \"\"\"\n",
    "    if max_index is None:\n",
    "        max_index = len(data) - delay - 1\n",
    "    i = min_index + lookback\n",
    "    \n",
    "    while 1:\n",
    "        if shuffle:\n",
    "            rows = np.random.randint(min_index+lookback, max_index, size=batch_size)\n",
    "        else:\n",
    "            if i + batch_size >= max_index:\n",
    "                i = min_index + lookback\n",
    "            rows = np.arange(i, min(i+batch_size, max_index))\n",
    "            i += len(rows)\n",
    "            \n",
    "        \n",
    "        samples = np.zeros((len(rows), lookback // step, data.shape[-1]))\n",
    "        targets = np.zeros((len(rows),))\n",
    "        \n",
    "        for j, row in enumerate(rows):\n",
    "            indices = range(rows[j] - lookback, rows[j], step)\n",
    "            samples[j] = data[indices]\n",
    "            targets[j] = data[rows[j] + delay][1]\n",
    "        \n",
    "        yield samples, targets   "
   ]
  },
  {
   "cell_type": "code",
   "execution_count": 15,
   "metadata": {},
   "outputs": [],
   "source": [
    "lookback = 1440\n",
    "step = 6\n",
    "delay = 144\n",
    "batch_size = 128\n",
    "\n",
    "train_gen = generator(float_data, lookback=lookback, delay=delay, min_index=0, max_index=200000, shuffle=True, step=step, batch_size=batch_size)\n",
    "val_gen = generator(float_data, lookback=lookback, delay=delay, min_index=200001, max_index=300000, step=step, batch_size=batch_size)\n",
    "test_gen = generator(float_data, lookback=lookback, delay=delay, min_index=300001, max_index=None, step=step, batch_size=batch_size)"
   ]
  },
  {
   "cell_type": "markdown",
   "metadata": {},
   "source": [
    "# Building a 1d CNN model"
   ]
  },
  {
   "cell_type": "code",
   "execution_count": 16,
   "metadata": {},
   "outputs": [
    {
     "name": "stdout",
     "output_type": "stream",
     "text": [
      "_________________________________________________________________\n",
      "Layer (type)                 Output Shape              Param #   \n",
      "=================================================================\n",
      "conv1d_5 (Conv1D)            (None, None, 32)          2272      \n",
      "_________________________________________________________________\n",
      "max_pooling1d_4 (MaxPooling1 (None, None, 32)          0         \n",
      "_________________________________________________________________\n",
      "conv1d_6 (Conv1D)            (None, None, 32)          5152      \n",
      "_________________________________________________________________\n",
      "max_pooling1d_5 (MaxPooling1 (None, None, 32)          0         \n",
      "_________________________________________________________________\n",
      "conv1d_7 (Conv1D)            (None, None, 32)          5152      \n",
      "_________________________________________________________________\n",
      "global_max_pooling1d_2 (Glob (None, 32)                0         \n",
      "_________________________________________________________________\n",
      "dense_2 (Dense)              (None, 1)                 33        \n",
      "=================================================================\n",
      "Total params: 12,609\n",
      "Trainable params: 12,609\n",
      "Non-trainable params: 0\n",
      "_________________________________________________________________\n"
     ]
    }
   ],
   "source": [
    "model = Sequential()\n",
    "model.add(layers.Conv1D(32, 5, activation='relu', input_shape=(None, float_data.shape[-1])))\n",
    "model.add(layers.MaxPooling1D(3))\n",
    "model.add(layers.Conv1D(32, 5, activation='relu'))\n",
    "model.add(layers.MaxPooling1D(3))\n",
    "model.add(layers.Conv1D(32, 5, activation='relu'))\n",
    "model.add(layers.GlobalMaxPool1D())\n",
    "model.add(layers.Dense(1))\n",
    "model.summary()"
   ]
  },
  {
   "cell_type": "code",
   "execution_count": 17,
   "metadata": {},
   "outputs": [],
   "source": [
    "model.compile(optimizer=RMSprop(), loss='mse')"
   ]
  },
  {
   "cell_type": "code",
   "execution_count": 20,
   "metadata": {},
   "outputs": [
    {
     "name": "stdout",
     "output_type": "stream",
     "text": [
      "Epoch 1/20\n",
      "500/500 [==============================] - 10s - loss: 0.3072 - val_loss: 0.3082\n",
      "Epoch 2/20\n",
      "500/500 [==============================] - 9s - loss: 0.2485 - val_loss: 0.3136\n",
      "Epoch 3/20\n",
      "500/500 [==============================] - 9s - loss: 0.2147 - val_loss: 0.2963\n",
      "Epoch 4/20\n",
      "500/500 [==============================] - 10s - loss: 0.1915 - val_loss: 0.3137\n",
      "Epoch 5/20\n",
      "500/500 [==============================] - 9s - loss: 0.1716 - val_loss: 0.3248\n",
      "Epoch 6/20\n",
      "500/500 [==============================] - 9s - loss: 0.1594 - val_loss: 0.3248\n",
      "Epoch 7/20\n",
      "500/500 [==============================] - 9s - loss: 0.1479 - val_loss: 0.3477\n",
      "Epoch 8/20\n",
      "500/500 [==============================] - 9s - loss: 0.1391 - val_loss: 0.3698\n",
      "Epoch 9/20\n",
      "500/500 [==============================] - 9s - loss: 0.1340 - val_loss: 0.3510\n",
      "Epoch 10/20\n",
      "500/500 [==============================] - 9s - loss: 0.1260 - val_loss: 0.3522\n",
      "Epoch 11/20\n",
      "500/500 [==============================] - 9s - loss: 0.1225 - val_loss: 0.3291\n",
      "Epoch 12/20\n",
      "500/500 [==============================] - 9s - loss: 0.1169 - val_loss: 0.3582\n",
      "Epoch 13/20\n",
      "500/500 [==============================] - 9s - loss: 0.1150 - val_loss: 0.3716\n",
      "Epoch 14/20\n",
      "500/500 [==============================] - 9s - loss: 0.1115 - val_loss: 0.3330\n",
      "Epoch 15/20\n",
      "500/500 [==============================] - 9s - loss: 0.1088 - val_loss: 0.3943\n",
      "Epoch 16/20\n",
      "500/500 [==============================] - 9s - loss: 0.1056 - val_loss: 0.3801\n",
      "Epoch 17/20\n",
      "500/500 [==============================] - 9s - loss: 0.1032 - val_loss: 0.3407\n",
      "Epoch 18/20\n",
      "500/500 [==============================] - 9s - loss: 0.1016 - val_loss: 0.3624\n",
      "Epoch 19/20\n",
      "500/500 [==============================] - 9s - loss: 0.0994 - val_loss: 0.3824\n",
      "Epoch 20/20\n",
      "500/500 [==============================] - 9s - loss: 0.0969 - val_loss: 0.3617\n"
     ]
    }
   ],
   "source": [
    "history = model.fit_generator(train_gen, \n",
    "                              steps_per_epoch=500,\n",
    "                              epochs=20,\n",
    "                              validation_data = val_gen,\n",
    "                              validation_steps = 500\n",
    "                             )"
   ]
  },
  {
   "cell_type": "code",
   "execution_count": 22,
   "metadata": {},
   "outputs": [
    {
     "data": {
      "image/png": "[encoded data removed]",
      "text/plain": [
       "<matplotlib.figure.Figure at 0x199aac77a58>"
      ]
     },
     "metadata": {},
     "output_type": "display_data"
    }
   ],
   "source": [
    "loss = history.history['loss']\n",
    "val_loss = history.history['val_loss']\n",
    "epochs = range(1, len(loss) + 1)\n",
    "plt.figure()\n",
    "plt.plot(epochs, loss, 'bo', label='Training loss')\n",
    "plt.plot(epochs, val_loss, 'b', label='Validation loss')\n",
    "plt.title('Training and validation loss')\n",
    "plt.legend()\n",
    "plt.show()"
   ]
  },
  {
   "cell_type": "markdown",
   "metadata": {},
   "source": [
    "# Combining the 1d ConvNet with LSTM or GRU\n",
    "The validation MAE stays in the 0.40s: you can’t even beat the common-sense baseline\n",
    "using the small convnet. Again, this is because the convnet looks for patterns anywhere in the input timeseries and has no knowledge of the temporal position of a pattern it sees (toward the beginning, toward the end, and so on). Because more recent\n",
    "data points should be interpreted differently from older data points in the case of this\n",
    "specific forecasting problem, the convnet fails at producing meaningful results. This\n",
    "limitation of convnets isn’t an issue with the IMDB data, because patterns of keywords\n",
    "associated with a positive or negative sentiment are informative independently of\n",
    "where they’re found in the input sentences.\n",
    "One strategy to combine the speed and lightness of convnets with the order-sensitivity\n",
    "of RNNs is to use a 1D convnet as a preprocessing step before an RNN (see figure 6.30).\n",
    "This is especially beneficial when you’re dealing with sequences that are so long they can’t\n",
    "realistically be processed with RNNs, such as\n",
    "sequences with thousands of steps. The convnet will turn the long input sequence into\n",
    "much shorter (downsampled) sequences of\n",
    "higher-level features. This sequence of\n",
    "extracted features then becomes the input to\n",
    "the RNN part of the network.\n",
    "This technique isn’t seen often in\n",
    "research papers and practical applications,\n",
    "possibly because it isn’t well known. It’s effective and ought to be more common. Let’s try\n",
    "it on the temperature-forecasting dataset.\n",
    "Because this strategy allows you to manipulate much longer sequences"
   ]
  },
  {
   "cell_type": "code",
   "execution_count": 23,
   "metadata": {},
   "outputs": [],
   "source": [
    "lookback = 720\n",
    "step = 3\n",
    "delay = 144\n",
    "batch_size = 128\n",
    "\n",
    "train_gen = generator(float_data, lookback=lookback, delay=delay, min_index=0, max_index=200000, shuffle=True, step=step, batch_size=batch_size)\n",
    "val_gen = generator(float_data, lookback=lookback, delay=delay, min_index=200001, max_index=300000, step=step, batch_size=batch_size)\n",
    "test_gen = generator(float_data, lookback=lookback, delay=delay, min_index=300001, max_index=None, step=step, batch_size=batch_size)\n",
    "\n",
    "val_steps = (300000 - 200001 - lookback) // 128\n",
    "test_steps = (len(float_data) - 300001 - lookback) // 128"
   ]
  },
  {
   "cell_type": "code",
   "execution_count": 24,
   "metadata": {},
   "outputs": [
    {
     "name": "stdout",
     "output_type": "stream",
     "text": [
      "_________________________________________________________________\n",
      "Layer (type)                 Output Shape              Param #   \n",
      "=================================================================\n",
      "conv1d_8 (Conv1D)            (None, None, 32)          2272      \n",
      "_________________________________________________________________\n",
      "max_pooling1d_6 (MaxPooling1 (None, None, 32)          0         \n",
      "_________________________________________________________________\n",
      "conv1d_9 (Conv1D)            (None, None, 32)          5152      \n",
      "_________________________________________________________________\n",
      "gru_1 (GRU)                  (None, 32)                6240      \n",
      "_________________________________________________________________\n",
      "dense_3 (Dense)              (None, 1)                 33        \n",
      "=================================================================\n",
      "Total params: 13,697\n",
      "Trainable params: 13,697\n",
      "Non-trainable params: 0\n",
      "_________________________________________________________________\n"
     ]
    }
   ],
   "source": [
    "model = Sequential()\n",
    "\n",
    "model.add(layers.Conv1D(32, 5, activation='relu', input_shape=(None, float_data.shape[-1])))\n",
    "model.add(layers.MaxPooling1D(3))\n",
    "model.add(layers.Conv1D(32, 5, activation='relu'))\n",
    "model.add(layers.GRU(32, dropout=0.1, recurrent_dropout=0.5))\n",
    "model.add(layers.Dense(1))\n",
    "\n",
    "model.summary()\n",
    "\n",
    "model.compile(optimizer=RMSprop(), loss='mae')"
   ]
  },
  {
   "cell_type": "code",
   "execution_count": 25,
   "metadata": {},
   "outputs": [
    {
     "name": "stdout",
     "output_type": "stream",
     "text": [
      "Epoch 1/20\n",
      "500/500 [==============================] - 54s - loss: 0.3396 - val_loss: 0.3023\n",
      "Epoch 2/20\n",
      "500/500 [==============================] - 49s - loss: 0.3081 - val_loss: 0.2794\n",
      "Epoch 3/20\n",
      "500/500 [==============================] - 48s - loss: 0.2973 - val_loss: 0.2734\n",
      "Epoch 4/20\n",
      "500/500 [==============================] - 46s - loss: 0.2916 - val_loss: 0.2730\n",
      "Epoch 5/20\n",
      "500/500 [==============================] - 47s - loss: 0.2870 - val_loss: 0.2677\n",
      "Epoch 6/20\n",
      "500/500 [==============================] - 47s - loss: 0.2820 - val_loss: 0.2833\n",
      "Epoch 7/20\n",
      "500/500 [==============================] - 48s - loss: 0.2755 - val_loss: 0.2729\n",
      "Epoch 8/20\n",
      "500/500 [==============================] - 47s - loss: 0.2725 - val_loss: 0.2887\n",
      "Epoch 9/20\n",
      "500/500 [==============================] - 47s - loss: 0.2685 - val_loss: 0.2886\n",
      "Epoch 10/20\n",
      "500/500 [==============================] - 47s - loss: 0.2658 - val_loss: 0.2843\n",
      "Epoch 11/20\n",
      "500/500 [==============================] - 47s - loss: 0.2608 - val_loss: 0.2798\n",
      "Epoch 12/20\n",
      "500/500 [==============================] - 47s - loss: 0.2576 - val_loss: 0.2770\n",
      "Epoch 13/20\n",
      "500/500 [==============================] - 47s - loss: 0.2540 - val_loss: 0.2788\n",
      "Epoch 14/20\n",
      "500/500 [==============================] - 47s - loss: 0.2494 - val_loss: 0.2824\n",
      "Epoch 15/20\n",
      "500/500 [==============================] - 47s - loss: 0.2476 - val_loss: 0.2779\n",
      "Epoch 16/20\n",
      "500/500 [==============================] - 47s - loss: 0.2434 - val_loss: 0.2892\n",
      "Epoch 17/20\n",
      "500/500 [==============================] - 47s - loss: 0.2420 - val_loss: 0.2872\n",
      "Epoch 18/20\n",
      "500/500 [==============================] - 47s - loss: 0.2391 - val_loss: 0.2920\n",
      "Epoch 19/20\n",
      "500/500 [==============================] - 47s - loss: 0.2364 - val_loss: 0.2871\n",
      "Epoch 20/20\n",
      "500/500 [==============================] - 46s - loss: 0.2334 - val_loss: 0.2862\n"
     ]
    }
   ],
   "source": [
    "history = model.fit_generator(train_gen,\n",
    "                              steps_per_epoch=500,\n",
    "                              epochs=20,\n",
    "                              validation_data=val_gen,\n",
    "                              validation_steps=val_steps)"
   ]
  },
  {
   "cell_type": "code",
   "execution_count": null,
   "metadata": {},
   "outputs": [],
   "source": []
  }
 ],
 "metadata": {
  "kernelspec": {
   "display_name": "Python [conda env:Anaconda3]",
   "language": "python",
   "name": "conda-env-Anaconda3-py"
  },
  "language_info": {
   "codemirror_mode": {
    "name": "ipython",
    "version": 3
   },
   "file_extension": ".py",
   "mimetype": "text/x-python",
   "name": "python",
   "nbconvert_exporter": "python",
   "pygments_lexer": "ipython3",
   "version": "3.5.4"
  }
 },
 "nbformat": 4,
 "nbformat_minor": 2
}
