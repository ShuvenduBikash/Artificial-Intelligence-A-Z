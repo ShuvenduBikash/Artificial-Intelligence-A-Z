{
 "cells": [
  {
   "cell_type": "markdown",
   "metadata": {},
   "source": [
    "# Loading dataset"
   ]
  },
  {
   "cell_type": "code",
   "execution_count": 16,
   "metadata": {},
   "outputs": [],
   "source": [
    "from keras.datasets import reuters\n",
    "(train_data, train_labels), (test_data, test_labels) = reuters.load_data(num_words=10000)\n",
    "\n",
    "%matplotlib inline"
   ]
  },
  {
   "cell_type": "markdown",
   "metadata": {},
   "source": [
    "# Preprocessing data"
   ]
  },
  {
   "cell_type": "code",
   "execution_count": 2,
   "metadata": {},
   "outputs": [
    {
     "name": "stdout",
     "output_type": "stream",
     "text": [
      "[1, 2, 2, 8, 43, 10, 447, 5, 25, 207, 270, 5, 3095, 111, 16, 369, 186, 90, 67, 7, 89, 5, 19, 102, 6, 19, 124, 15, 90, 67, 84, 22, 482, 26, 7, 48, 4, 49, 8, 864, 39, 209, 154, 6, 151, 6, 83, 11, 15, 22, 155, 11, 15, 7, 48, 9, 4579, 1005, 504, 6, 258, 6, 272, 11, 15, 22, 134, 44, 11, 15, 16, 8, 197, 1245, 90, 67, 52, 29, 209, 30, 32, 132, 6, 109, 15, 17, 12]\n"
     ]
    }
   ],
   "source": [
    "print(train_data[0])"
   ]
  },
  {
   "cell_type": "code",
   "execution_count": 3,
   "metadata": {},
   "outputs": [
    {
     "data": {
      "text/plain": [
       "3"
      ]
     },
     "execution_count": 3,
     "metadata": {},
     "output_type": "execute_result"
    }
   ],
   "source": [
    "train_labels[0]\n"
   ]
  },
  {
   "cell_type": "code",
   "execution_count": 4,
   "metadata": {
    "collapsed": true
   },
   "outputs": [],
   "source": [
    "# Vectorize the data\n",
    "import numpy as np\n",
    "def vectorize_sequences(sequences, dimension=10000):\n",
    "    results = np.zeros((len(sequences), dimension))\n",
    "    for i, sequence in enumerate(sequences):\n",
    "        results[i, sequence] = 1.\n",
    "    return results\n",
    "\n",
    "x_train = vectorize_sequences(train_data)\n",
    "x_test = vectorize_sequences(test_data)"
   ]
  },
  {
   "cell_type": "code",
   "execution_count": 5,
   "metadata": {},
   "outputs": [
    {
     "data": {
      "text/plain": [
       "array([ 0.,  1.,  1., ...,  0.,  0.,  0.])"
      ]
     },
     "execution_count": 5,
     "metadata": {},
     "output_type": "execute_result"
    }
   ],
   "source": [
    "x_train[0]"
   ]
  },
  {
   "cell_type": "code",
   "execution_count": 6,
   "metadata": {
    "collapsed": true
   },
   "outputs": [],
   "source": [
    "# one hot encode the output labels\n",
    "from keras.utils.np_utils import to_categorical\n",
    "\n",
    "one_hot_train_labels = to_categorical(train_labels)\n",
    "one_hot_test_labels = to_categorical(test_labels)"
   ]
  },
  {
   "cell_type": "markdown",
   "metadata": {},
   "source": [
    "# Building the network"
   ]
  },
  {
   "cell_type": "code",
   "execution_count": 11,
   "metadata": {},
   "outputs": [],
   "source": [
    "from keras import models\n",
    "from keras import layers\n",
    "\n",
    "model = models.Sequential()\n",
    "model.add(layers.Dense(64, activation='relu', input_shape=(10000,)))\n",
    "model.add(layers.Dense(64, activation='relu'))\n",
    "model.add(layers.Dense(46, activation='softmax'))"
   ]
  },
  {
   "cell_type": "code",
   "execution_count": 12,
   "metadata": {
    "collapsed": true
   },
   "outputs": [],
   "source": [
    "# Compiling the model\n",
    "from keras import losses\n",
    "model.compile(optimizer='rmsprop', loss=losses.binary_crossentropy, metrics=['accuracy'])"
   ]
  },
  {
   "cell_type": "markdown",
   "metadata": {},
   "source": [
    "# Training the model"
   ]
  },
  {
   "cell_type": "code",
   "execution_count": 13,
   "metadata": {
    "collapsed": true
   },
   "outputs": [],
   "source": [
    "# Setting asize a validation set\n",
    "x_val = x_train[:1000]\n",
    "partial_x_train = x_train[1000:]\n",
    "\n",
    "y_val = one_hot_train_labels[:1000]\n",
    "partial_y_train = one_hot_train_labels[1000:]"
   ]
  },
  {
   "cell_type": "code",
   "execution_count": 14,
   "metadata": {},
   "outputs": [
    {
     "name": "stdout",
     "output_type": "stream",
     "text": [
      "Train on 7982 samples, validate on 1000 samples\n",
      "Epoch 1/20\n",
      "7982/7982 [==============================] - 2s - loss: 0.0731 - acc: 0.9806 - val_loss: 0.0497 - val_acc: 0.9857\n",
      "Epoch 2/20\n",
      "7982/7982 [==============================] - 1s - loss: 0.0421 - acc: 0.9886 - val_loss: 0.0395 - val_acc: 0.9895\n",
      "Epoch 3/20\n",
      "7982/7982 [==============================] - 1s - loss: 0.0328 - acc: 0.9912 - val_loss: 0.0355 - val_acc: 0.9906\n",
      "Epoch 4/20\n",
      "7982/7982 [==============================] - 1s - loss: 0.0271 - acc: 0.9926 - val_loss: 0.0329 - val_acc: 0.9912\n",
      "Epoch 5/20\n",
      "7982/7982 [==============================] - 1s - loss: 0.0225 - acc: 0.9937 - val_loss: 0.0314 - val_acc: 0.9915\n",
      "Epoch 6/20\n",
      "7982/7982 [==============================] - 1s - loss: 0.0189 - acc: 0.9946 - val_loss: 0.0308 - val_acc: 0.9915\n",
      "Epoch 7/20\n",
      "7982/7982 [==============================] - 1s - loss: 0.0159 - acc: 0.9953 - val_loss: 0.0309 - val_acc: 0.9915\n",
      "Epoch 8/20\n",
      "7982/7982 [==============================] - 1s - loss: 0.0134 - acc: 0.9959 - val_loss: 0.0297 - val_acc: 0.9919\n",
      "Epoch 9/20\n",
      "7982/7982 [==============================] - 1s - loss: 0.0113 - acc: 0.9965 - val_loss: 0.0323 - val_acc: 0.9914\n",
      "Epoch 10/20\n",
      "7982/7982 [==============================] - 1s - loss: 0.0098 - acc: 0.9969 - val_loss: 0.0304 - val_acc: 0.9920\n",
      "Epoch 11/20\n",
      "7982/7982 [==============================] - 1s - loss: 0.0084 - acc: 0.9972 - val_loss: 0.0306 - val_acc: 0.9923\n",
      "Epoch 12/20\n",
      "7982/7982 [==============================] - 1s - loss: 0.0076 - acc: 0.9975 - val_loss: 0.0312 - val_acc: 0.9922\n",
      "Epoch 13/20\n",
      "7982/7982 [==============================] - 1s - loss: 0.0068 - acc: 0.9977 - val_loss: 0.0324 - val_acc: 0.9921\n",
      "Epoch 14/20\n",
      "7982/7982 [==============================] - 1s - loss: 0.0062 - acc: 0.9978 - val_loss: 0.0322 - val_acc: 0.9923\n",
      "Epoch 15/20\n",
      "7982/7982 [==============================] - 1s - loss: 0.0057 - acc: 0.9979 - val_loss: 0.0330 - val_acc: 0.9922\n",
      "Epoch 16/20\n",
      "7982/7982 [==============================] - 2s - loss: 0.0054 - acc: 0.9980 - val_loss: 0.0339 - val_acc: 0.9922\n",
      "Epoch 17/20\n",
      "7982/7982 [==============================] - 2s - loss: 0.0051 - acc: 0.9981 - val_loss: 0.0333 - val_acc: 0.9922\n",
      "Epoch 18/20\n",
      "7982/7982 [==============================] - 1s - loss: 0.0049 - acc: 0.9981 - val_loss: 0.0353 - val_acc: 0.9922\n",
      "Epoch 19/20\n",
      "7982/7982 [==============================] - 1s - loss: 0.0048 - acc: 0.9981 - val_loss: 0.0356 - val_acc: 0.9921\n",
      "Epoch 20/20\n",
      "7982/7982 [==============================] - 1s - loss: 0.0046 - acc: 0.9982 - val_loss: 0.0355 - val_acc: 0.9924\n"
     ]
    }
   ],
   "source": [
    "# training\n",
    "history = model.fit(partial_x_train, \n",
    "                   partial_y_train,\n",
    "                   epochs=20,\n",
    "                   batch_size=512,\n",
    "                   validation_data=(x_val, y_val))"
   ]
  },
  {
   "cell_type": "markdown",
   "metadata": {},
   "source": [
    "# Visualization"
   ]
  },
  {
   "cell_type": "code",
   "execution_count": 15,
   "metadata": {},
   "outputs": [
    {
     "data": {
      "image/png": "[encoded data removed]",
      "text/plain": [
       "<matplotlib.figure.Figure at 0x2ddc130db00>"
      ]
     },
     "metadata": {},
     "output_type": "display_data"
    }
   ],
   "source": [
    "import matplotlib.pyplot as plt\n",
    "loss = history.history['loss']\n",
    "val_loss = history.history['val_loss']\n",
    "epochs = range(1, len(loss) + 1)\n",
    "plt.plot(epochs, loss, 'bo', label='Training loss')\n",
    "plt.plot(epochs, val_loss, 'b', label='Validation loss')\n",
    "plt.title('Training and validation loss')\n",
    "plt.xlabel('Epochs')\n",
    "plt.ylabel('Loss')\n",
    "plt.legend()\n",
    "plt.show()"
   ]
  },
  {
   "cell_type": "code",
   "execution_count": 17,
   "metadata": {},
   "outputs": [
    {
     "data": {
      "image/png": "[encoded data removed]",
      "text/plain": [
       "<matplotlib.figure.Figure at 0x2ddc1bcb710>"
      ]
     },
     "metadata": {},
     "output_type": "display_data"
    }
   ],
   "source": [
    "plt.clf()\n",
    "acc = history.history['acc']\n",
    "val_acc = history.history['val_acc']\n",
    "plt.plot(epochs, acc, 'bo', label='Training acc')\n",
    "plt.plot(epochs, val_acc, 'b', label='Validation acc')\n",
    "plt.title('Training and validation accuracy')\n",
    "plt.xlabel('Epochs')\n",
    "plt.ylabel('Loss')\n",
    "plt.legend()\n",
    "plt.show()"
   ]
  },
  {
   "cell_type": "markdown",
   "metadata": {},
   "source": [
    "# Predicting"
   ]
  },
  {
   "cell_type": "code",
   "execution_count": 18,
   "metadata": {
    "collapsed": true
   },
   "outputs": [],
   "source": [
    "predictions = model.predict(x_test)"
   ]
  },
  {
   "cell_type": "code",
   "execution_count": 19,
   "metadata": {},
   "outputs": [
    {
     "data": {
      "text/plain": [
       "array([  2.71358713e-05,   8.45245154e-08,   1.65034439e-08,\n",
       "         9.92732942e-01,   6.84197294e-03,   4.35698041e-07,\n",
       "         1.98493240e-08,   4.62309941e-07,   5.55553652e-06,\n",
       "         4.77765582e-07,   3.77896640e-06,   8.74592661e-05,\n",
       "         2.35265276e-07,   3.29881368e-05,   3.75605040e-08,\n",
       "         4.89517937e-08,   4.02032629e-06,   7.50277195e-07,\n",
       "         1.36718782e-07,   1.30566013e-05,   3.72311733e-05,\n",
       "         3.19076150e-07,   3.57149361e-07,   1.27629858e-06,\n",
       "         5.61928903e-09,   1.21464822e-07,   1.75877313e-09,\n",
       "         1.27079909e-06,   2.91943621e-07,   6.53611278e-05,\n",
       "         3.40011457e-06,   3.86479286e-07,   1.46847833e-06,\n",
       "         1.02853971e-06,   1.30540229e-07,   3.61166208e-08,\n",
       "         1.08024571e-04,   1.46420405e-07,   2.60793556e-08,\n",
       "         2.58786149e-05,   4.33194288e-07,   5.22744621e-08,\n",
       "         7.37758832e-09,   1.27440364e-06,   9.85082327e-09,\n",
       "         4.41660113e-08], dtype=float32)"
      ]
     },
     "execution_count": 19,
     "metadata": {},
     "output_type": "execute_result"
    }
   ],
   "source": [
    "predictions[0]"
   ]
  },
  {
   "cell_type": "code",
   "execution_count": 20,
   "metadata": {},
   "outputs": [
    {
     "data": {
      "text/plain": [
       "1.0000001"
      ]
     },
     "execution_count": 20,
     "metadata": {},
     "output_type": "execute_result"
    }
   ],
   "source": [
    "predictions[0].sum()"
   ]
  },
  {
   "cell_type": "code",
   "execution_count": 21,
   "metadata": {},
   "outputs": [
    {
     "data": {
      "text/plain": [
       "3"
      ]
     },
     "execution_count": 21,
     "metadata": {},
     "output_type": "execute_result"
    }
   ],
   "source": [
    "np.argmax(predictions[0])"
   ]
  },
  {
   "cell_type": "markdown",
   "metadata": {},
   "source": [
    "# Avoiding overfitting\n",
    "\n",
    "Reduce the number of epoch, observed from plot. Which in this case is 9"
   ]
  },
  {
   "cell_type": "code",
   "execution_count": 24,
   "metadata": {},
   "outputs": [
    {
     "name": "stdout",
     "output_type": "stream",
     "text": [
      "Train on 7982 samples, validate on 1000 samples\n",
      "Epoch 1/9\n",
      "7982/7982 [==============================] - 2s - loss: 0.0784 - acc: 0.9798 - val_loss: 0.0529 - val_acc: 0.9849\n",
      "Epoch 2/9\n",
      "7982/7982 [==============================] - 1s - loss: 0.0439 - acc: 0.9878 - val_loss: 0.0404 - val_acc: 0.9891\n",
      "Epoch 3/9\n",
      "7982/7982 [==============================] - 1s - loss: 0.0333 - acc: 0.9910 - val_loss: 0.0362 - val_acc: 0.9902\n",
      "Epoch 4/9\n",
      "7982/7982 [==============================] - 1s - loss: 0.0270 - acc: 0.9924 - val_loss: 0.0331 - val_acc: 0.9910\n",
      "Epoch 5/9\n",
      "7982/7982 [==============================] - 1s - loss: 0.0222 - acc: 0.9936 - val_loss: 0.0319 - val_acc: 0.9912\n",
      "Epoch 6/9\n",
      "7982/7982 [==============================] - 1s - loss: 0.0184 - acc: 0.9946 - val_loss: 0.0309 - val_acc: 0.9915\n",
      "Epoch 7/9\n",
      "7982/7982 [==============================] - 1s - loss: 0.0152 - acc: 0.9955 - val_loss: 0.0301 - val_acc: 0.9921\n",
      "Epoch 8/9\n",
      "7982/7982 [==============================] - 1s - loss: 0.0129 - acc: 0.9960 - val_loss: 0.0299 - val_acc: 0.9923\n",
      "Epoch 9/9\n",
      "7982/7982 [==============================] - 1s - loss: 0.0108 - acc: 0.9966 - val_loss: 0.0304 - val_acc: 0.9924\n"
     ]
    }
   ],
   "source": [
    "model = models.Sequential()\n",
    "model.add(layers.Dense(64, activation='relu', input_shape=(10000,)))\n",
    "model.add(layers.Dense(64, activation='relu'))\n",
    "model.add(layers.Dense(46, activation='softmax'))\n",
    "\n",
    "# Compiling the model\n",
    "from keras import losses\n",
    "model.compile(optimizer='rmsprop', loss=losses.binary_crossentropy, metrics=['accuracy'])\n",
    "\n",
    "history = model.fit(partial_x_train, \n",
    "                   partial_y_train,\n",
    "                   epochs=9,\n",
    "                   batch_size=512,\n",
    "                   validation_data=(x_val, y_val))"
   ]
  },
  {
   "cell_type": "code",
   "execution_count": 26,
   "metadata": {},
   "outputs": [],
   "source": [
    "predictions = model.predict(x_test)"
   ]
  },
  {
   "cell_type": "code",
   "execution_count": 27,
   "metadata": {},
   "outputs": [
    {
     "data": {
      "text/plain": [
       "3"
      ]
     },
     "execution_count": 27,
     "metadata": {},
     "output_type": "execute_result"
    }
   ],
   "source": [
    "np.argmax(predictions[0])"
   ]
  },
  {
   "cell_type": "code",
   "execution_count": null,
   "metadata": {
    "collapsed": true
   },
   "outputs": [],
   "source": []
  }
 ],
 "metadata": {
  "kernelspec": {
   "display_name": "Python [conda root]",
   "language": "python",
   "name": "conda-root-py"
  },
  "language_info": {
   "codemirror_mode": {
    "name": "ipython",
    "version": 3
   },
   "file_extension": ".py",
   "mimetype": "text/x-python",
   "name": "python",
   "nbconvert_exporter": "python",
   "pygments_lexer": "ipython3",
   "version": "3.5.4"
  }
 },
 "nbformat": 4,
 "nbformat_minor": 2
}
