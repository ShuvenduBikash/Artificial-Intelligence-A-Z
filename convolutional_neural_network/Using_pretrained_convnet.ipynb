{
 "cells": [
  {
   "cell_type": "code",
   "execution_count": 1,
   "metadata": {},
   "outputs": [
    {
     "name": "stderr",
     "output_type": "stream",
     "text": [
      "Using TensorFlow backend.\n",
      "/home/shuvendu/anaconda3/lib/python3.6/importlib/_bootstrap.py:205: RuntimeWarning: compiletime version 3.5 of module 'tensorflow.python.framework.fast_tensor_util' does not match runtime version 3.6\n",
      "  return f(*args, **kwds)\n"
     ]
    }
   ],
   "source": [
    "from keras.applications import VGG16\n",
    "\n",
    "conv_base = VGG16(weights='imagenet',\n",
    "                 include_top=False,\n",
    "                 input_shape=(150, 150, 3))"
   ]
  },
  {
   "cell_type": "code",
   "execution_count": 2,
   "metadata": {},
   "outputs": [
    {
     "name": "stdout",
     "output_type": "stream",
     "text": [
      "_________________________________________________________________\n",
      "Layer (type)                 Output Shape              Param #   \n",
      "=================================================================\n",
      "input_1 (InputLayer)         (None, 150, 150, 3)       0         \n",
      "_________________________________________________________________\n",
      "block1_conv1 (Conv2D)        (None, 150, 150, 64)      1792      \n",
      "_________________________________________________________________\n",
      "block1_conv2 (Conv2D)        (None, 150, 150, 64)      36928     \n",
      "_________________________________________________________________\n",
      "block1_pool (MaxPooling2D)   (None, 75, 75, 64)        0         \n",
      "_________________________________________________________________\n",
      "block2_conv1 (Conv2D)        (None, 75, 75, 128)       73856     \n",
      "_________________________________________________________________\n",
      "block2_conv2 (Conv2D)        (None, 75, 75, 128)       147584    \n",
      "_________________________________________________________________\n",
      "block2_pool (MaxPooling2D)   (None, 37, 37, 128)       0         \n",
      "_________________________________________________________________\n",
      "block3_conv1 (Conv2D)        (None, 37, 37, 256)       295168    \n",
      "_________________________________________________________________\n",
      "block3_conv2 (Conv2D)        (None, 37, 37, 256)       590080    \n",
      "_________________________________________________________________\n",
      "block3_conv3 (Conv2D)        (None, 37, 37, 256)       590080    \n",
      "_________________________________________________________________\n",
      "block3_pool (MaxPooling2D)   (None, 18, 18, 256)       0         \n",
      "_________________________________________________________________\n",
      "block4_conv1 (Conv2D)        (None, 18, 18, 512)       1180160   \n",
      "_________________________________________________________________\n",
      "block4_conv2 (Conv2D)        (None, 18, 18, 512)       2359808   \n",
      "_________________________________________________________________\n",
      "block4_conv3 (Conv2D)        (None, 18, 18, 512)       2359808   \n",
      "_________________________________________________________________\n",
      "block4_pool (MaxPooling2D)   (None, 9, 9, 512)         0         \n",
      "_________________________________________________________________\n",
      "block5_conv1 (Conv2D)        (None, 9, 9, 512)         2359808   \n",
      "_________________________________________________________________\n",
      "block5_conv2 (Conv2D)        (None, 9, 9, 512)         2359808   \n",
      "_________________________________________________________________\n",
      "block5_conv3 (Conv2D)        (None, 9, 9, 512)         2359808   \n",
      "_________________________________________________________________\n",
      "block5_pool (MaxPooling2D)   (None, 4, 4, 512)         0         \n",
      "=================================================================\n",
      "Total params: 14,714,688\n",
      "Trainable params: 14,714,688\n",
      "Non-trainable params: 0\n",
      "_________________________________________________________________\n"
     ]
    }
   ],
   "source": [
    "conv_base.summary()"
   ]
  },
  {
   "cell_type": "markdown",
   "metadata": {},
   "source": [
    "At this point, there are two ways you could proceed:\n",
    " 1. Running the convolutional base over your dataset, recording its output to a\n",
    "Numpy array on disk, and then using this data as input to a standalone, densely\n",
    "connected classifier. This solution is fast and cheap to run, because it only requires running the convolutional\n",
    "base once for every input image, and the convolutional base is by far the most expensive part of the pipeline. But for the same reason, this technique won’t\n",
    "allow you to use data augmentation.\n",
    "\n",
    "2. Extending the model you have (conv_base) by adding Dense layers on top, and\n",
    "running the whole thing end to end on the input data. This will allow you to use\n",
    "data augmentation, because every input image goes through the convolutional\n",
    "base every time it’s seen by the model. But for the same reason, this technique is\n",
    "far more expensive than the first"
   ]
  },
  {
   "cell_type": "markdown",
   "metadata": {},
   "source": [
    "# Option 1: Fast feature extraction without data augmentation"
   ]
  },
  {
   "cell_type": "code",
   "execution_count": 3,
   "metadata": {
    "collapsed": true
   },
   "outputs": [],
   "source": [
    "import os\n",
    "import numpy as np\n",
    "from keras.preprocessing.image import ImageDataGenerator"
   ]
  },
  {
   "cell_type": "code",
   "execution_count": 4,
   "metadata": {
    "collapsed": true
   },
   "outputs": [],
   "source": [
    "base_dir = '/home/shuvendu/Documents/datasets/Cat_and_Dog_small'\n",
    "train_dir = os.path.join(base_dir, 'train')\n",
    "validation_dir = os.path.join(base_dir, 'validation')\n",
    "test_dir = os.path.join(base_dir, 'test')\n",
    "\n",
    "datagen = ImageDataGenerator(rescale=1./255)\n",
    "batch_size=20"
   ]
  },
  {
   "cell_type": "code",
   "execution_count": 7,
   "metadata": {
    "collapsed": true
   },
   "outputs": [],
   "source": [
    "def extract_features(directory, sample_count):\n",
    "    features = np.zeros(shape=(sample_count, 4, 4, 512))\n",
    "    labels = np.zeros(shape=(sample_count))\n",
    "    \n",
    "    generator = datagen.flow_from_directory(directory, \n",
    "                                            target_size=(150, 150), \n",
    "                                            batch_size=batch_size, \n",
    "                                            class_mode='binary')\n",
    "    \n",
    "    i = 0\n",
    "    for inputs_batch, labels_batch in generator:\n",
    "        features_batch = conv_base.predict(inputs_batch)\n",
    "        features[i * batch_size : (i + 1) * batch_size] = features_batch\n",
    "        labels[i * batch_size : (i + 1) * batch_size] = labels_batch\n",
    "        i += 1\n",
    "        if i * batch_size >= sample_count:\n",
    "            break\n",
    "    return features, labels"
   ]
  },
  {
   "cell_type": "code",
   "execution_count": 8,
   "metadata": {},
   "outputs": [
    {
     "name": "stdout",
     "output_type": "stream",
     "text": [
      "Found 2000 images belonging to 2 classes.\n",
      "Found 1000 images belonging to 2 classes.\n",
      "Found 1000 images belonging to 2 classes.\n"
     ]
    }
   ],
   "source": [
    "train_features, train_labels = extract_features(train_dir, 2000)\n",
    "validation_features, validation_labels = extract_features(validation_dir, 1000)\n",
    "test_features, test_labels = extract_features(test_dir, 1000)"
   ]
  },
  {
   "cell_type": "code",
   "execution_count": 22,
   "metadata": {
    "collapsed": true
   },
   "outputs": [],
   "source": [
    "train_features = np.reshape(train_features, (2000, 4 * 4 * 512))\n",
    "validation_features = np.reshape(validation_features, (1000, 4 * 4 * 512))\n",
    "test_features = np.reshape(test_features, (1000, 4 * 4 * 512))"
   ]
  },
  {
   "cell_type": "markdown",
   "metadata": {},
   "source": [
    "### Defining and training the densly connected layers"
   ]
  },
  {
   "cell_type": "code",
   "execution_count": 9,
   "metadata": {
    "collapsed": true
   },
   "outputs": [],
   "source": [
    "from keras import layers, losses, models, optimizers, metrics"
   ]
  },
  {
   "cell_type": "code",
   "execution_count": 18,
   "metadata": {},
   "outputs": [
    {
     "name": "stdout",
     "output_type": "stream",
     "text": [
      "_________________________________________________________________\n",
      "Layer (type)                 Output Shape              Param #   \n",
      "=================================================================\n",
      "dense_5 (Dense)              (None, 256)               2097408   \n",
      "_________________________________________________________________\n",
      "dropout_3 (Dropout)          (None, 256)               0         \n",
      "_________________________________________________________________\n",
      "dense_6 (Dense)              (None, 1)                 257       \n",
      "=================================================================\n",
      "Total params: 2,097,665\n",
      "Trainable params: 2,097,665\n",
      "Non-trainable params: 0\n",
      "_________________________________________________________________\n"
     ]
    }
   ],
   "source": [
    "model = models.Sequential()\n",
    "model.add(layers.Dense(256, activation='relu', input_dim=4*4*512))\n",
    "model.add(layers.Dropout(0.5))\n",
    "model.add(layers.Dense(1, activation='sigmoid'))\n",
    "\n",
    "model.summary()"
   ]
  },
  {
   "cell_type": "code",
   "execution_count": 20,
   "metadata": {
    "collapsed": true
   },
   "outputs": [],
   "source": [
    "model.compile(optimizer=optimizers.RMSprop(lr=2e-5),loss=losses.binary_crossentropy, metrics=['acc'])"
   ]
  },
  {
   "cell_type": "code",
   "execution_count": 23,
   "metadata": {},
   "outputs": [
    {
     "name": "stdout",
     "output_type": "stream",
     "text": [
      "Train on 2000 samples, validate on 1000 samples\n",
      "Epoch 1/30\n",
      "2000/2000 [==============================] - 3s - loss: 0.6004 - acc: 0.6830 - val_loss: 0.4540 - val_acc: 0.8330\n",
      "Epoch 2/30\n",
      "2000/2000 [==============================] - 0s - loss: 0.4390 - acc: 0.8030 - val_loss: 0.3823 - val_acc: 0.8500\n",
      "Epoch 3/30\n",
      "2000/2000 [==============================] - 0s - loss: 0.3589 - acc: 0.8455 - val_loss: 0.3267 - val_acc: 0.8850\n",
      "Epoch 4/30\n",
      "2000/2000 [==============================] - 0s - loss: 0.3156 - acc: 0.8725 - val_loss: 0.3041 - val_acc: 0.8920\n",
      "Epoch 5/30\n",
      "2000/2000 [==============================] - 0s - loss: 0.2891 - acc: 0.8840 - val_loss: 0.2860 - val_acc: 0.8930\n",
      "Epoch 6/30\n",
      "2000/2000 [==============================] - 0s - loss: 0.2755 - acc: 0.8845 - val_loss: 0.2743 - val_acc: 0.9000\n",
      "Epoch 7/30\n",
      "2000/2000 [==============================] - 0s - loss: 0.2516 - acc: 0.9025 - val_loss: 0.2703 - val_acc: 0.8970\n",
      "Epoch 8/30\n",
      "2000/2000 [==============================] - 0s - loss: 0.2329 - acc: 0.9120 - val_loss: 0.2595 - val_acc: 0.8990\n",
      "Epoch 9/30\n",
      "2000/2000 [==============================] - 0s - loss: 0.2192 - acc: 0.9150 - val_loss: 0.2567 - val_acc: 0.9020\n",
      "Epoch 10/30\n",
      "2000/2000 [==============================] - 0s - loss: 0.2107 - acc: 0.9200 - val_loss: 0.2530 - val_acc: 0.9000\n",
      "Epoch 11/30\n",
      "2000/2000 [==============================] - 0s - loss: 0.1964 - acc: 0.9295 - val_loss: 0.2470 - val_acc: 0.9020\n",
      "Epoch 12/30\n",
      "2000/2000 [==============================] - 0s - loss: 0.1874 - acc: 0.9325 - val_loss: 0.2537 - val_acc: 0.8950\n",
      "Epoch 13/30\n",
      "2000/2000 [==============================] - 0s - loss: 0.1811 - acc: 0.9370 - val_loss: 0.2489 - val_acc: 0.8960\n",
      "Epoch 14/30\n",
      "2000/2000 [==============================] - 0s - loss: 0.1792 - acc: 0.9355 - val_loss: 0.2430 - val_acc: 0.9000\n",
      "Epoch 15/30\n",
      "2000/2000 [==============================] - 0s - loss: 0.1645 - acc: 0.9395 - val_loss: 0.2428 - val_acc: 0.9010\n",
      "Epoch 16/30\n",
      "2000/2000 [==============================] - 0s - loss: 0.1528 - acc: 0.9500 - val_loss: 0.2371 - val_acc: 0.9020\n",
      "Epoch 17/30\n",
      "2000/2000 [==============================] - 0s - loss: 0.1502 - acc: 0.9485 - val_loss: 0.2401 - val_acc: 0.9000\n",
      "Epoch 18/30\n",
      "2000/2000 [==============================] - 0s - loss: 0.1438 - acc: 0.9520 - val_loss: 0.2453 - val_acc: 0.8990\n",
      "Epoch 19/30\n",
      "2000/2000 [==============================] - 0s - loss: 0.1319 - acc: 0.9560 - val_loss: 0.2390 - val_acc: 0.9000\n",
      "Epoch 20/30\n",
      "2000/2000 [==============================] - 0s - loss: 0.1299 - acc: 0.9540 - val_loss: 0.2372 - val_acc: 0.9030\n",
      "Epoch 21/30\n",
      "2000/2000 [==============================] - 0s - loss: 0.1286 - acc: 0.9575 - val_loss: 0.2363 - val_acc: 0.9020\n",
      "Epoch 22/30\n",
      "2000/2000 [==============================] - 0s - loss: 0.1204 - acc: 0.9610 - val_loss: 0.2417 - val_acc: 0.9030\n",
      "Epoch 23/30\n",
      "2000/2000 [==============================] - 0s - loss: 0.1175 - acc: 0.9590 - val_loss: 0.2406 - val_acc: 0.9020\n",
      "Epoch 24/30\n",
      "2000/2000 [==============================] - 0s - loss: 0.1073 - acc: 0.9620 - val_loss: 0.2366 - val_acc: 0.9020\n",
      "Epoch 25/30\n",
      "2000/2000 [==============================] - 0s - loss: 0.1068 - acc: 0.9685 - val_loss: 0.2436 - val_acc: 0.9020\n",
      "Epoch 26/30\n",
      "2000/2000 [==============================] - 0s - loss: 0.1076 - acc: 0.9680 - val_loss: 0.2370 - val_acc: 0.8990\n",
      "Epoch 27/30\n",
      "2000/2000 [==============================] - 0s - loss: 0.0997 - acc: 0.9725 - val_loss: 0.2391 - val_acc: 0.9010\n",
      "Epoch 28/30\n",
      "2000/2000 [==============================] - 0s - loss: 0.0946 - acc: 0.9705 - val_loss: 0.2387 - val_acc: 0.8990\n",
      "Epoch 29/30\n",
      "2000/2000 [==============================] - 0s - loss: 0.0954 - acc: 0.9675 - val_loss: 0.2383 - val_acc: 0.9000\n",
      "Epoch 30/30\n",
      "2000/2000 [==============================] - 0s - loss: 0.0869 - acc: 0.9725 - val_loss: 0.2426 - val_acc: 0.9010\n"
     ]
    }
   ],
   "source": [
    "history = model.fit(train_features, \n",
    "                    train_labels, \n",
    "                    epochs=30,\n",
    "                    batch_size=20,\n",
    "                    validation_data=(validation_features, validation_labels)\n",
    "                   )"
   ]
  },
  {
   "cell_type": "code",
   "execution_count": 24,
   "metadata": {},
   "outputs": [
    {
     "data": {
      "image/png": "[encoded data removed]",
      "text/plain": [
       "<matplotlib.figure.Figure at 0x7f5863800940>"
      ]
     },
     "metadata": {},
     "output_type": "display_data"
    },
    {
     "data": {
      "image/png": "[encoded data removed]",
      "text/plain": [
       "<matplotlib.figure.Figure at 0x7f585c4f91d0>"
      ]
     },
     "metadata": {},
     "output_type": "display_data"
    }
   ],
   "source": [
    "import matplotlib.pyplot as plt\n",
    "\n",
    "acc = history.history['acc']\n",
    "val_acc = history.history['val_acc']\n",
    "loss = history.history['loss']\n",
    "val_loss = history.history['val_loss']\n",
    "epochs = range(1, len(acc) + 1)\n",
    "\n",
    "plt.plot(epochs, acc, 'bo', label='Training acc')\n",
    "plt.plot(epochs, val_acc, 'b', label='Validation acc')\n",
    "plt.title('Training and validation accuracy')\n",
    "plt.legend()\n",
    "\n",
    "plt.figure()\n",
    "plt.plot(epochs, loss, 'bo', label='Training loss')\n",
    "plt.plot(epochs, val_loss, 'b', label='Validation loss')\n",
    "plt.title('Training and validation loss')\n",
    "plt.legend()\n",
    "\n",
    "plt.show()"
   ]
  },
  {
   "cell_type": "markdown",
   "metadata": {},
   "source": [
    "# Option 2: FEATURE EXTRACTION WITH DATA AUGMENTATION"
   ]
  },
  {
   "cell_type": "code",
   "execution_count": 25,
   "metadata": {},
   "outputs": [
    {
     "name": "stdout",
     "output_type": "stream",
     "text": [
      "_________________________________________________________________\n",
      "Layer (type)                 Output Shape              Param #   \n",
      "=================================================================\n",
      "vgg16 (Model)                (None, 4, 4, 512)         14714688  \n",
      "_________________________________________________________________\n",
      "flatten_1 (Flatten)          (None, 8192)              0         \n",
      "_________________________________________________________________\n",
      "dense_7 (Dense)              (None, 256)               2097408   \n",
      "_________________________________________________________________\n",
      "dense_8 (Dense)              (None, 1)                 257       \n",
      "=================================================================\n",
      "Total params: 16,812,353\n",
      "Trainable params: 16,812,353\n",
      "Non-trainable params: 0\n",
      "_________________________________________________________________\n"
     ]
    }
   ],
   "source": [
    "model = models.Sequential()\n",
    "model.add(conv_base)\n",
    "model.add(layers.Flatten())\n",
    "model.add(layers.Dense(256, activation='relu'))\n",
    "model.add(layers.Dense(1, activation='sigmoid'))\n",
    "\n",
    "model.summary()"
   ]
  },
  {
   "cell_type": "markdown",
   "metadata": {},
   "source": [
    "Before you compile and train the model, it’s very important to freeze the convolutional base. Freezing a layer or set of layers means preventing their weights from being\n",
    "updated during training. If you don’t do this, then the representations that were previously learned by the convolutional base will be modified during training. Because\n",
    "the Dense layers on top are randomly initialized, very large weight updates would be\n",
    "propagated through the network, effectively destroying the representations previously\n",
    "learned."
   ]
  },
  {
   "cell_type": "code",
   "execution_count": 26,
   "metadata": {},
   "outputs": [
    {
     "name": "stdout",
     "output_type": "stream",
     "text": [
      "This is the number of trainable weights before freezing the conv base: 30\n"
     ]
    }
   ],
   "source": [
    "print('This is the number of trainable weights ''before freezing the conv base:', len(model.trainable_weights))"
   ]
  },
  {
   "cell_type": "code",
   "execution_count": 27,
   "metadata": {},
   "outputs": [
    {
     "name": "stdout",
     "output_type": "stream",
     "text": [
      "This is the number of trainable weights before freezing the conv base: 4\n"
     ]
    }
   ],
   "source": [
    "conv_base.trainable = False\n",
    "print('This is the number of trainable weights before freezing the conv base:', len(model.trainable_weights))"
   ]
  },
  {
   "cell_type": "markdown",
   "metadata": {},
   "source": [
    "### Training the model with conv base frozen"
   ]
  },
  {
   "cell_type": "code",
   "execution_count": 28,
   "metadata": {
    "collapsed": true
   },
   "outputs": [],
   "source": [
    "train_datagen = ImageDataGenerator(rescale=1./255, \n",
    "                                   rotation_range=40, \n",
    "                                   height_shift_range=.2,\n",
    "                                   width_shift_range=.2, \n",
    "                                   shear_range=.2, \n",
    "                                   zoom_range=.2, \n",
    "                                   horizontal_flip=True, \n",
    "                                   fill_mode='nearest')\n",
    "test_datagen = ImageDataGenerator(rescale=1./255)"
   ]
  },
  {
   "cell_type": "code",
   "execution_count": 32,
   "metadata": {},
   "outputs": [
    {
     "name": "stdout",
     "output_type": "stream",
     "text": [
      "Found 2000 images belonging to 2 classes.\n",
      "Found 1000 images belonging to 2 classes.\n"
     ]
    }
   ],
   "source": [
    "train_generator = train_datagen.flow_from_directory(\n",
    "    train_dir,\n",
    "    target_size=(150, 150),\n",
    "    batch_size=20,\n",
    "    class_mode='binary'\n",
    ")\n",
    "\n",
    "validation_generator = test_datagen.flow_from_directory(\n",
    "    validation_dir,\n",
    "    target_size=(150, 150),\n",
    "    batch_size=20,\n",
    "    class_mode='binary'\n",
    ")"
   ]
  },
  {
   "cell_type": "code",
   "execution_count": 31,
   "metadata": {
    "collapsed": true
   },
   "outputs": [],
   "source": [
    "model.compile(loss=losses.binary_crossentropy, optimizer=optimizers.RMSprop(lr=2e-5), metrics=['acc'])"
   ]
  },
  {
   "cell_type": "code",
   "execution_count": 33,
   "metadata": {},
   "outputs": [
    {
     "name": "stdout",
     "output_type": "stream",
     "text": [
      "Epoch 1/30\n",
      "100/100 [==============================] - 34s - loss: 0.4649 - acc: 0.7515 - val_loss: 0.2076 - val_acc: 0.9210\n",
      "Epoch 2/30\n",
      "100/100 [==============================] - 32s - loss: 0.2912 - acc: 0.8760 - val_loss: 0.1275 - val_acc: 0.9560\n",
      "Epoch 3/30\n",
      "100/100 [==============================] - 32s - loss: 0.2210 - acc: 0.9075 - val_loss: 0.1345 - val_acc: 0.9410\n",
      "Epoch 4/30\n",
      "100/100 [==============================] - 31s - loss: 0.1748 - acc: 0.9320 - val_loss: 0.1007 - val_acc: 0.9540\n",
      "Epoch 5/30\n",
      "100/100 [==============================] - 31s - loss: 0.1652 - acc: 0.9380 - val_loss: 0.1107 - val_acc: 0.9570\n",
      "Epoch 6/30\n",
      "100/100 [==============================] - 31s - loss: 0.1483 - acc: 0.9410 - val_loss: 0.0986 - val_acc: 0.9610\n",
      "Epoch 7/30\n",
      "100/100 [==============================] - 32s - loss: 0.1315 - acc: 0.9455 - val_loss: 0.0725 - val_acc: 0.9730\n",
      "Epoch 8/30\n",
      "100/100 [==============================] - 32s - loss: 0.1282 - acc: 0.9480 - val_loss: 0.0730 - val_acc: 0.9750\n",
      "Epoch 9/30\n",
      "100/100 [==============================] - 32s - loss: 0.0961 - acc: 0.9610 - val_loss: 0.1307 - val_acc: 0.9560\n",
      "Epoch 10/30\n",
      "100/100 [==============================] - 32s - loss: 0.0985 - acc: 0.9625 - val_loss: 0.0685 - val_acc: 0.9720\n",
      "Epoch 11/30\n",
      "100/100 [==============================] - 32s - loss: 0.0899 - acc: 0.9670 - val_loss: 0.0901 - val_acc: 0.9690\n",
      "Epoch 12/30\n",
      "100/100 [==============================] - 31s - loss: 0.0797 - acc: 0.9725 - val_loss: 0.0749 - val_acc: 0.9700\n",
      "Epoch 13/30\n",
      "100/100 [==============================] - 30s - loss: 0.0681 - acc: 0.9760 - val_loss: 0.0871 - val_acc: 0.9770\n",
      "Epoch 14/30\n",
      "100/100 [==============================] - 31s - loss: 0.0762 - acc: 0.9755 - val_loss: 0.1116 - val_acc: 0.9620\n",
      "Epoch 15/30\n",
      "100/100 [==============================] - 31s - loss: 0.0739 - acc: 0.9725 - val_loss: 0.0379 - val_acc: 0.9840\n",
      "Epoch 16/30\n",
      "100/100 [==============================] - 30s - loss: 0.0576 - acc: 0.9805 - val_loss: 0.0767 - val_acc: 0.9740\n",
      "Epoch 17/30\n",
      "100/100 [==============================] - 30s - loss: 0.0556 - acc: 0.9780 - val_loss: 0.1024 - val_acc: 0.9700\n",
      "Epoch 18/30\n",
      "100/100 [==============================] - 30s - loss: 0.0534 - acc: 0.9820 - val_loss: 0.1216 - val_acc: 0.9630\n",
      "Epoch 19/30\n",
      "100/100 [==============================] - 30s - loss: 0.0523 - acc: 0.9815 - val_loss: 0.0800 - val_acc: 0.9750\n",
      "Epoch 20/30\n",
      "100/100 [==============================] - 30s - loss: 0.0411 - acc: 0.9860 - val_loss: 0.2275 - val_acc: 0.9500\n",
      "Epoch 21/30\n",
      "100/100 [==============================] - 30s - loss: 0.0552 - acc: 0.9815 - val_loss: 0.1069 - val_acc: 0.9680\n",
      "Epoch 22/30\n",
      "100/100 [==============================] - 30s - loss: 0.0563 - acc: 0.9770 - val_loss: 0.0949 - val_acc: 0.9720\n",
      "Epoch 23/30\n",
      "100/100 [==============================] - 30s - loss: 0.0520 - acc: 0.9815 - val_loss: 0.3146 - val_acc: 0.9360\n",
      "Epoch 24/30\n",
      "100/100 [==============================] - 30s - loss: 0.0451 - acc: 0.9830 - val_loss: 0.0934 - val_acc: 0.9700\n",
      "Epoch 25/30\n",
      "100/100 [==============================] - 30s - loss: 0.0461 - acc: 0.9835 - val_loss: 0.1299 - val_acc: 0.9690\n",
      "Epoch 26/30\n",
      "100/100 [==============================] - 30s - loss: 0.0387 - acc: 0.9880 - val_loss: 0.1080 - val_acc: 0.9690\n",
      "Epoch 27/30\n",
      "100/100 [==============================] - 30s - loss: 0.0509 - acc: 0.9815 - val_loss: 0.1163 - val_acc: 0.9630\n",
      "Epoch 28/30\n",
      "100/100 [==============================] - 30s - loss: 0.0535 - acc: 0.9830 - val_loss: 0.2181 - val_acc: 0.9570\n",
      "Epoch 29/30\n",
      "100/100 [==============================] - 30s - loss: 0.0492 - acc: 0.9865 - val_loss: 0.1090 - val_acc: 0.9610\n",
      "Epoch 30/30\n",
      "100/100 [==============================] - 30s - loss: 0.0479 - acc: 0.9820 - val_loss: 0.0701 - val_acc: 0.9710\n"
     ]
    }
   ],
   "source": [
    "history = model.fit_generator(train_generator, \n",
    "                              steps_per_epoch=100, \n",
    "                              epochs=30, \n",
    "                              validation_data=validation_generator, \n",
    "                              validation_steps=50)"
   ]
  },
  {
   "cell_type": "code",
   "execution_count": 34,
   "metadata": {},
   "outputs": [
    {
     "data": {
      "image/png": "[encoded data removed]",
      "text/plain": [
       "<matplotlib.figure.Figure at 0x7f585c10aeb8>"
      ]
     },
     "metadata": {},
     "output_type": "display_data"
    },
    {
     "data": {
      "image/png": "[encoded data removed]",
      "text/plain": [
       "<matplotlib.figure.Figure at 0x7f58620ef160>"
      ]
     },
     "metadata": {},
     "output_type": "display_data"
    }
   ],
   "source": [
    "import matplotlib.pyplot as plt\n",
    "\n",
    "acc = history.history['acc']\n",
    "val_acc = history.history['val_acc']\n",
    "loss = history.history['loss']\n",
    "val_loss = history.history['val_loss']\n",
    "epochs = range(1, len(acc) + 1)\n",
    "\n",
    "plt.plot(epochs, acc, 'bo', label='Training acc')\n",
    "plt.plot(epochs, val_acc, 'b', label='Validation acc')\n",
    "plt.title('Training and validation accuracy')\n",
    "plt.legend()\n",
    "\n",
    "plt.figure()\n",
    "plt.plot(epochs, loss, 'bo', label='Training loss')\n",
    "plt.plot(epochs, val_loss, 'b', label='Validation loss')\n",
    "plt.title('Training and validation loss')\n",
    "plt.legend()\n",
    "\n",
    "plt.show()"
   ]
  },
  {
   "cell_type": "markdown",
   "metadata": {},
   "source": [
    "# Fine-tuning\n",
    "\n",
    "the steps for fine-tuning a network are as follow:<br/>\n",
    "1 Add your custom network on top of an already-trained base network.<br/>\n",
    "2 Freeze the base network.<br/>\n",
    "3 Train the part you added.<br/>\n",
    "4 Unfreeze some layers in the base network.<br/>\n",
    "5 Jointly train both these layers and the part you added."
   ]
  },
  {
   "cell_type": "code",
   "execution_count": 35,
   "metadata": {
    "collapsed": true
   },
   "outputs": [],
   "source": [
    "conv_base.trainable = True\n",
    "set_trainable = False\n",
    "for layer in conv_base.layers:\n",
    "    if layer.name == 'block5_conv1':\n",
    "        set_trainable = True\n",
    "    if set_trainable:\n",
    "        layer.trainable = True\n",
    "    else:\n",
    "        layer.trainable = False"
   ]
  },
  {
   "cell_type": "code",
   "execution_count": 36,
   "metadata": {},
   "outputs": [
    {
     "name": "stdout",
     "output_type": "stream",
     "text": [
      "Epoch 1/100\n",
      "100/100 [==============================] - 15s - loss: 0.0255 - acc: 0.9890 - val_loss: 0.0899 - val_acc: 0.9750\n",
      "Epoch 2/100\n",
      "100/100 [==============================] - 15s - loss: 0.0176 - acc: 0.9930 - val_loss: 0.0740 - val_acc: 0.9780\n",
      "Epoch 3/100\n",
      "100/100 [==============================] - 15s - loss: 0.0078 - acc: 0.9975 - val_loss: 0.1062 - val_acc: 0.9760\n",
      "Epoch 4/100\n",
      "100/100 [==============================] - 15s - loss: 0.0050 - acc: 0.9980 - val_loss: 0.0690 - val_acc: 0.9820\n",
      "Epoch 5/100\n",
      "100/100 [==============================] - 15s - loss: 0.0150 - acc: 0.9950 - val_loss: 0.0948 - val_acc: 0.9800\n",
      "Epoch 6/100\n",
      "100/100 [==============================] - 15s - loss: 0.0059 - acc: 0.9980 - val_loss: 0.0930 - val_acc: 0.9780\n",
      "Epoch 7/100\n",
      "100/100 [==============================] - 15s - loss: 0.0104 - acc: 0.9960 - val_loss: 0.1035 - val_acc: 0.9780\n",
      "Epoch 8/100\n",
      "100/100 [==============================] - 15s - loss: 0.0182 - acc: 0.9930 - val_loss: 0.1394 - val_acc: 0.9730\n",
      "Epoch 9/100\n",
      "100/100 [==============================] - 16s - loss: 0.0117 - acc: 0.9955 - val_loss: 0.1013 - val_acc: 0.9800\n",
      "Epoch 10/100\n",
      "100/100 [==============================] - 15s - loss: 0.0092 - acc: 0.9970 - val_loss: 0.0852 - val_acc: 0.9760\n",
      "Epoch 11/100\n",
      "100/100 [==============================] - 15s - loss: 0.0066 - acc: 0.9970 - val_loss: 0.1046 - val_acc: 0.9780\n",
      "Epoch 12/100\n",
      "100/100 [==============================] - 15s - loss: 0.0127 - acc: 0.9965 - val_loss: 0.1006 - val_acc: 0.9720\n",
      "Epoch 13/100\n",
      "100/100 [==============================] - 15s - loss: 0.0073 - acc: 0.9970 - val_loss: 0.0738 - val_acc: 0.9810\n",
      "Epoch 14/100\n",
      "100/100 [==============================] - 15s - loss: 0.0048 - acc: 0.9970 - val_loss: 0.0981 - val_acc: 0.9780\n",
      "Epoch 15/100\n",
      "100/100 [==============================] - 15s - loss: 0.0096 - acc: 0.9970 - val_loss: 0.1095 - val_acc: 0.9770\n",
      "Epoch 16/100\n",
      "100/100 [==============================] - 15s - loss: 0.0172 - acc: 0.9950 - val_loss: 0.0890 - val_acc: 0.9780\n",
      "Epoch 17/100\n",
      "100/100 [==============================] - 15s - loss: 0.0107 - acc: 0.9965 - val_loss: 0.1040 - val_acc: 0.9740\n",
      "Epoch 18/100\n",
      "100/100 [==============================] - 15s - loss: 0.0123 - acc: 0.9945 - val_loss: 0.0521 - val_acc: 0.9850\n",
      "Epoch 19/100\n",
      "100/100 [==============================] - 15s - loss: 0.0075 - acc: 0.9975 - val_loss: 0.1124 - val_acc: 0.9730\n",
      "Epoch 20/100\n",
      "100/100 [==============================] - 15s - loss: 0.0074 - acc: 0.9960 - val_loss: 0.1107 - val_acc: 0.9780\n",
      "Epoch 21/100\n",
      "100/100 [==============================] - 15s - loss: 0.0024 - acc: 0.9990 - val_loss: 0.1080 - val_acc: 0.9790\n",
      "Epoch 22/100\n",
      "100/100 [==============================] - 15s - loss: 0.0045 - acc: 0.9980 - val_loss: 0.0877 - val_acc: 0.9830\n",
      "Epoch 23/100\n",
      "100/100 [==============================] - 15s - loss: 0.0108 - acc: 0.9975 - val_loss: 0.1429 - val_acc: 0.9720\n",
      "Epoch 24/100\n",
      "100/100 [==============================] - 15s - loss: 0.0136 - acc: 0.9970 - val_loss: 0.1247 - val_acc: 0.9770\n",
      "Epoch 25/100\n",
      "100/100 [==============================] - 15s - loss: 0.0067 - acc: 0.9985 - val_loss: 0.1203 - val_acc: 0.9800\n",
      "Epoch 26/100\n",
      "100/100 [==============================] - 15s - loss: 0.0068 - acc: 0.9970 - val_loss: 0.1460 - val_acc: 0.9750\n",
      "Epoch 27/100\n",
      "100/100 [==============================] - 15s - loss: 0.0151 - acc: 0.9960 - val_loss: 0.1134 - val_acc: 0.9790\n",
      "Epoch 28/100\n",
      "100/100 [==============================] - 15s - loss: 0.0024 - acc: 0.9995 - val_loss: 0.1126 - val_acc: 0.9840\n",
      "Epoch 29/100\n",
      "100/100 [==============================] - 15s - loss: 0.0058 - acc: 0.9975 - val_loss: 0.1379 - val_acc: 0.9750\n",
      "Epoch 30/100\n",
      "100/100 [==============================] - 15s - loss: 0.0105 - acc: 0.9975 - val_loss: 0.1265 - val_acc: 0.9810\n",
      "Epoch 31/100\n",
      "100/100 [==============================] - 15s - loss: 0.0059 - acc: 0.9975 - val_loss: 0.1176 - val_acc: 0.9780\n",
      "Epoch 32/100\n",
      "100/100 [==============================] - 15s - loss: 0.0059 - acc: 0.9985 - val_loss: 0.1095 - val_acc: 0.9830\n",
      "Epoch 33/100\n",
      "100/100 [==============================] - 15s - loss: 0.0204 - acc: 0.9955 - val_loss: 0.1913 - val_acc: 0.9680\n",
      "Epoch 34/100\n",
      "100/100 [==============================] - 15s - loss: 0.0157 - acc: 0.9970 - val_loss: 0.1230 - val_acc: 0.9760\n",
      "Epoch 35/100\n",
      "100/100 [==============================] - 15s - loss: 0.0046 - acc: 0.9985 - val_loss: 0.1565 - val_acc: 0.9730\n",
      "Epoch 36/100\n",
      "100/100 [==============================] - 15s - loss: 0.0071 - acc: 0.9980 - val_loss: 0.1440 - val_acc: 0.9750\n",
      "Epoch 37/100\n",
      "100/100 [==============================] - 15s - loss: 0.0065 - acc: 0.9980 - val_loss: 0.1010 - val_acc: 0.9770\n",
      "Epoch 38/100\n",
      "100/100 [==============================] - 15s - loss: 0.0073 - acc: 0.9975 - val_loss: 0.1186 - val_acc: 0.9750\n",
      "Epoch 39/100\n",
      "100/100 [==============================] - 15s - loss: 0.0097 - acc: 0.9965 - val_loss: 0.1327 - val_acc: 0.9790\n",
      "Epoch 40/100\n",
      "100/100 [==============================] - 15s - loss: 0.0071 - acc: 0.9980 - val_loss: 0.1483 - val_acc: 0.9740\n",
      "Epoch 41/100\n",
      "100/100 [==============================] - 15s - loss: 0.0023 - acc: 0.9995 - val_loss: 0.1571 - val_acc: 0.9720\n",
      "Epoch 42/100\n",
      "100/100 [==============================] - 15s - loss: 0.0108 - acc: 0.9960 - val_loss: 0.1242 - val_acc: 0.9790\n",
      "Epoch 43/100\n",
      "100/100 [==============================] - 15s - loss: 0.0096 - acc: 0.9970 - val_loss: 0.1800 - val_acc: 0.9700\n",
      "Epoch 44/100\n",
      "100/100 [==============================] - 15s - loss: 0.0028 - acc: 0.9985 - val_loss: 0.1833 - val_acc: 0.9710\n",
      "Epoch 45/100\n",
      "100/100 [==============================] - 15s - loss: 0.0063 - acc: 0.9985 - val_loss: 0.1424 - val_acc: 0.9760\n",
      "Epoch 46/100\n",
      "100/100 [==============================] - 15s - loss: 0.0025 - acc: 0.9990 - val_loss: 0.1567 - val_acc: 0.9770\n",
      "Epoch 47/100\n",
      "100/100 [==============================] - 15s - loss: 0.0043 - acc: 0.9975 - val_loss: 0.1934 - val_acc: 0.9710\n",
      "Epoch 48/100\n",
      "100/100 [==============================] - 15s - loss: 0.0048 - acc: 0.9975 - val_loss: 0.1500 - val_acc: 0.9780\n",
      "Epoch 49/100\n",
      "100/100 [==============================] - 15s - loss: 0.0148 - acc: 0.9975 - val_loss: 0.1376 - val_acc: 0.9780\n",
      "Epoch 50/100\n",
      "100/100 [==============================] - 15s - loss: 0.0032 - acc: 0.9985 - val_loss: 0.1723 - val_acc: 0.9730\n",
      "Epoch 51/100\n",
      "100/100 [==============================] - 15s - loss: 0.0064 - acc: 0.9980 - val_loss: 0.1605 - val_acc: 0.9750\n",
      "Epoch 52/100\n",
      "100/100 [==============================] - 15s - loss: 0.0086 - acc: 0.9980 - val_loss: 0.1538 - val_acc: 0.9780\n",
      "Epoch 53/100\n",
      "100/100 [==============================] - 15s - loss: 0.0082 - acc: 0.9990 - val_loss: 0.0873 - val_acc: 0.9870\n",
      "Epoch 54/100\n",
      "100/100 [==============================] - 15s - loss: 0.0047 - acc: 0.9985 - val_loss: 0.1590 - val_acc: 0.9760\n",
      "Epoch 55/100\n",
      "100/100 [==============================] - 15s - loss: 0.0162 - acc: 0.9955 - val_loss: 0.0965 - val_acc: 0.9820\n",
      "Epoch 56/100\n",
      "100/100 [==============================] - 15s - loss: 0.0043 - acc: 0.9980 - val_loss: 0.1372 - val_acc: 0.9780\n",
      "Epoch 57/100\n",
      "100/100 [==============================] - 15s - loss: 0.0121 - acc: 0.9965 - val_loss: 0.2261 - val_acc: 0.9710\n",
      "Epoch 58/100\n",
      "100/100 [==============================] - 15s - loss: 0.0069 - acc: 0.9980 - val_loss: 0.1810 - val_acc: 0.9680\n",
      "Epoch 59/100\n",
      "100/100 [==============================] - 15s - loss: 0.0080 - acc: 0.9970 - val_loss: 0.1448 - val_acc: 0.9800\n",
      "Epoch 60/100\n",
      "100/100 [==============================] - 15s - loss: 0.0045 - acc: 0.9985 - val_loss: 0.1712 - val_acc: 0.9760\n",
      "Epoch 61/100\n",
      "100/100 [==============================] - 15s - loss: 0.0104 - acc: 0.9970 - val_loss: 0.1428 - val_acc: 0.9780\n",
      "Epoch 62/100\n",
      "100/100 [==============================] - 15s - loss: 0.0032 - acc: 0.9990 - val_loss: 0.1379 - val_acc: 0.9760\n",
      "Epoch 63/100\n",
      "100/100 [==============================] - 15s - loss: 0.0060 - acc: 0.9990 - val_loss: 0.1565 - val_acc: 0.9750\n",
      "Epoch 64/100\n",
      "100/100 [==============================] - 15s - loss: 0.0060 - acc: 0.9975 - val_loss: 0.1525 - val_acc: 0.9760\n",
      "Epoch 65/100\n",
      "100/100 [==============================] - 15s - loss: 0.0065 - acc: 0.9980 - val_loss: 0.1623 - val_acc: 0.9760\n",
      "Epoch 66/100\n"
     ]
    },
    {
     "name": "stdout",
     "output_type": "stream",
     "text": [
      "100/100 [==============================] - 15s - loss: 0.0036 - acc: 0.9995 - val_loss: 0.1474 - val_acc: 0.9750\n",
      "Epoch 67/100\n",
      "100/100 [==============================] - 15s - loss: 0.0074 - acc: 0.9975 - val_loss: 0.1752 - val_acc: 0.9760\n",
      "Epoch 68/100\n",
      "100/100 [==============================] - 15s - loss: 0.0103 - acc: 0.9960 - val_loss: 0.1491 - val_acc: 0.9780\n",
      "Epoch 69/100\n",
      "100/100 [==============================] - 15s - loss: 0.0057 - acc: 0.9990 - val_loss: 0.1543 - val_acc: 0.9750\n",
      "Epoch 70/100\n",
      "100/100 [==============================] - 15s - loss: 0.0108 - acc: 0.9970 - val_loss: 0.1469 - val_acc: 0.9720\n",
      "Epoch 71/100\n",
      "100/100 [==============================] - 15s - loss: 0.0038 - acc: 0.9980 - val_loss: 0.1682 - val_acc: 0.9740\n",
      "Epoch 72/100\n",
      "100/100 [==============================] - 15s - loss: 0.0096 - acc: 0.9975 - val_loss: 0.1998 - val_acc: 0.9720\n",
      "Epoch 73/100\n",
      "100/100 [==============================] - 15s - loss: 0.0031 - acc: 0.9990 - val_loss: 0.1753 - val_acc: 0.9740\n",
      "Epoch 74/100\n",
      "100/100 [==============================] - 15s - loss: 0.0080 - acc: 0.9980 - val_loss: 0.2190 - val_acc: 0.9680\n",
      "Epoch 75/100\n",
      "100/100 [==============================] - 15s - loss: 0.0050 - acc: 0.9980 - val_loss: 0.1480 - val_acc: 0.9770\n",
      "Epoch 76/100\n",
      "100/100 [==============================] - 15s - loss: 0.0077 - acc: 0.9960 - val_loss: 0.1527 - val_acc: 0.9750\n",
      "Epoch 77/100\n",
      "100/100 [==============================] - 15s - loss: 0.0021 - acc: 0.9990 - val_loss: 0.1932 - val_acc: 0.9680\n",
      "Epoch 78/100\n",
      "100/100 [==============================] - 15s - loss: 0.0059 - acc: 0.9985 - val_loss: 0.1101 - val_acc: 0.9810\n",
      "Epoch 79/100\n",
      "100/100 [==============================] - 15s - loss: 0.0056 - acc: 0.9985 - val_loss: 0.1878 - val_acc: 0.9690\n",
      "Epoch 80/100\n",
      "100/100 [==============================] - 16s - loss: 3.1097e-04 - acc: 1.0000 - val_loss: 0.1446 - val_acc: 0.9740\n",
      "Epoch 81/100\n",
      "100/100 [==============================] - 15s - loss: 0.0129 - acc: 0.9985 - val_loss: 0.1613 - val_acc: 0.9720\n",
      "Epoch 82/100\n",
      "100/100 [==============================] - 15s - loss: 0.0047 - acc: 0.9990 - val_loss: 0.1252 - val_acc: 0.9800\n",
      "Epoch 83/100\n",
      "100/100 [==============================] - 15s - loss: 0.0071 - acc: 0.9990 - val_loss: 0.1790 - val_acc: 0.9720\n",
      "Epoch 84/100\n",
      "100/100 [==============================] - 15s - loss: 0.0094 - acc: 0.9975 - val_loss: 0.3128 - val_acc: 0.9630\n",
      "Epoch 85/100\n",
      "100/100 [==============================] - 15s - loss: 0.0066 - acc: 0.9990 - val_loss: 0.1864 - val_acc: 0.9650\n",
      "Epoch 86/100\n",
      "100/100 [==============================] - 15s - loss: 0.0050 - acc: 0.9980 - val_loss: 0.1772 - val_acc: 0.9720\n",
      "Epoch 87/100\n",
      "100/100 [==============================] - 15s - loss: 0.0080 - acc: 0.9985 - val_loss: 0.2183 - val_acc: 0.9720\n",
      "Epoch 88/100\n",
      "100/100 [==============================] - 15s - loss: 0.0044 - acc: 0.9975 - val_loss: 0.1941 - val_acc: 0.9710\n",
      "Epoch 89/100\n",
      "100/100 [==============================] - 15s - loss: 0.0070 - acc: 0.9985 - val_loss: 0.1687 - val_acc: 0.9730\n",
      "Epoch 90/100\n",
      "100/100 [==============================] - 15s - loss: 0.0078 - acc: 0.9980 - val_loss: 0.1727 - val_acc: 0.9740\n",
      "Epoch 91/100\n",
      "100/100 [==============================] - 15s - loss: 0.0062 - acc: 0.9980 - val_loss: 0.1800 - val_acc: 0.9720\n",
      "Epoch 92/100\n",
      "100/100 [==============================] - 16s - loss: 0.0059 - acc: 0.9985 - val_loss: 0.1860 - val_acc: 0.9750\n",
      "Epoch 93/100\n",
      "100/100 [==============================] - 16s - loss: 0.0044 - acc: 0.9985 - val_loss: 0.2126 - val_acc: 0.9720\n",
      "Epoch 94/100\n",
      "100/100 [==============================] - 15s - loss: 0.0052 - acc: 0.9975 - val_loss: 0.1268 - val_acc: 0.9750\n",
      "Epoch 95/100\n",
      "100/100 [==============================] - 15s - loss: 0.0048 - acc: 0.9980 - val_loss: 0.1762 - val_acc: 0.9750\n",
      "Epoch 96/100\n",
      "100/100 [==============================] - 15s - loss: 0.0050 - acc: 0.9980 - val_loss: 0.1577 - val_acc: 0.9760\n",
      "Epoch 97/100\n",
      "100/100 [==============================] - 15s - loss: 0.0020 - acc: 0.9990 - val_loss: 0.2121 - val_acc: 0.9690\n",
      "Epoch 98/100\n",
      "100/100 [==============================] - 15s - loss: 0.0165 - acc: 0.9965 - val_loss: 0.1777 - val_acc: 0.9720\n",
      "Epoch 99/100\n",
      "100/100 [==============================] - 15s - loss: 0.0016 - acc: 0.9990 - val_loss: 0.2111 - val_acc: 0.9730\n",
      "Epoch 100/100\n",
      "100/100 [==============================] - 15s - loss: 0.0012 - acc: 0.9995 - val_loss: 0.1796 - val_acc: 0.9770\n"
     ]
    }
   ],
   "source": [
    "model.compile(loss='binary_crossentropy',\n",
    "              optimizer=optimizers.RMSprop(lr=1e-5),\n",
    "              metrics=['acc'])\n",
    "\n",
    "history = model.fit_generator(\n",
    "    train_generator,\n",
    "    steps_per_epoch=100,\n",
    "    epochs=100,\n",
    "    validation_data=validation_generator,\n",
    "    validation_steps=50)"
   ]
  },
  {
   "cell_type": "code",
   "execution_count": 37,
   "metadata": {},
   "outputs": [
    {
     "data": {
      "image/png": "[encoded data removed]",
      "text/plain": [
       "<matplotlib.figure.Figure at 0x7f584404fcf8>"
      ]
     },
     "metadata": {},
     "output_type": "display_data"
    },
    {
     "data": {
      "image/png": "[encoded data removed]",
      "text/plain": [
       "<matplotlib.figure.Figure at 0x7f5829709080>"
      ]
     },
     "metadata": {},
     "output_type": "display_data"
    }
   ],
   "source": [
    "import matplotlib.pyplot as plt\n",
    "\n",
    "acc = history.history['acc']\n",
    "val_acc = history.history['val_acc']\n",
    "loss = history.history['loss']\n",
    "val_loss = history.history['val_loss']\n",
    "epochs = range(1, len(acc) + 1)\n",
    "\n",
    "plt.plot(epochs, acc, 'bo', label='Training acc')\n",
    "plt.plot(epochs, val_acc, 'b', label='Validation acc')\n",
    "plt.title('Training and validation accuracy')\n",
    "plt.legend()\n",
    "\n",
    "plt.figure()\n",
    "plt.plot(epochs, loss, 'bo', label='Training loss')\n",
    "plt.plot(epochs, val_loss, 'b', label='Validation loss')\n",
    "plt.title('Training and validation loss')\n",
    "plt.legend()\n",
    "\n",
    "plt.show()"
   ]
  },
  {
   "cell_type": "code",
   "execution_count": 38,
   "metadata": {
    "collapsed": true
   },
   "outputs": [],
   "source": [
    "model.save('dogs_and_cal_small_with_vgg16.h5')"
   ]
  },
  {
   "cell_type": "code",
   "execution_count": null,
   "metadata": {
    "collapsed": true
   },
   "outputs": [],
   "source": []
  }
 ],
 "metadata": {
  "kernelspec": {
   "display_name": "Python 3",
   "language": "python",
   "name": "python3"
  },
  "language_info": {
   "codemirror_mode": {
    "name": "ipython",
    "version": 3
   },
   "file_extension": ".py",
   "mimetype": "text/x-python",
   "name": "python",
   "nbconvert_exporter": "python",
   "pygments_lexer": "ipython3",
   "version": "3.6.1"
  }
 },
 "nbformat": 4,
 "nbformat_minor": 2
}
